{
 "cells": [
  {
   "cell_type": "code",
   "execution_count": null,
   "id": "67e57028",
   "metadata": {},
   "outputs": [],
   "source": [
    "#regular expression\n",
    "\n",
    "#A RegEx, or Regular Expression, is a sequence of characters that forms a search pattern.\n",
    "\n",
    "#RegEx can be used to check if a string contains the specified search pattern."
   ]
  },
  {
   "cell_type": "code",
   "execution_count": null,
   "id": "e6d8524e",
   "metadata": {},
   "outputs": [],
   "source": [
    "'''1.importing re\n",
    "2. methods to search for matches\n",
    "3. methods to search for match object\n",
    "4. meta characters\n",
    "5. more special characters\n",
    "6. sets\n",
    "7. quantifier\n",
    "8. modification\n",
    "9. compilation flags'''"
   ]
  },
  {
   "cell_type": "code",
   "execution_count": 4,
   "id": "6faac870",
   "metadata": {},
   "outputs": [],
   "source": [
    "import re"
   ]
  },
  {
   "cell_type": "code",
   "execution_count": 9,
   "id": "4ff37bc9",
   "metadata": {},
   "outputs": [
    {
     "name": "stdout",
     "output_type": "stream",
     "text": [
      "None\n"
     ]
    }
   ],
   "source": [
    "#Methods to search for matches\n",
    "'''Match() search() findall() finditer()'''\n",
    "\n",
    "#match() -  It search only at beginning, if not found then return NONE in response\n",
    "\n",
    "import re\n",
    "\n",
    "a = '123equiabc123abc123ABC'\n",
    "\n",
    "pattern = re.compile(r\"abc\") # R is used for printing raw data\n",
    "matches = pattern.match(a)\n",
    "\n",
    "print(matches)\n",
    "\n",
    "#for match in matches:\n",
    "#   print(match)"
   ]
  },
  {
   "cell_type": "code",
   "execution_count": 11,
   "id": "2e21de56",
   "metadata": {},
   "outputs": [
    {
     "name": "stdout",
     "output_type": "stream",
     "text": [
      "<re.Match object; span=(7, 10), match='abc'>\n"
     ]
    }
   ],
   "source": [
    "#search() - Return ONLY first match\n",
    "\n",
    "import re\n",
    "\n",
    "a = '123equiabc123abc123ABC'\n",
    "\n",
    "pattern = re.compile(r\"abc\") # R is used for printing raw data\n",
    "matches = pattern.search(a)\n",
    "\n",
    "print(matches)\n",
    "\n",
    "#for match in matches:\n",
    "#    print(match)"
   ]
  },
  {
   "cell_type": "code",
   "execution_count": 6,
   "id": "89b379e0",
   "metadata": {},
   "outputs": [
    {
     "name": "stdout",
     "output_type": "stream",
     "text": [
      "abc\n",
      "abc\n"
     ]
    }
   ],
   "source": [
    "#findall() - Print output ONLY\n",
    "\n",
    "import re\n",
    "\n",
    "a = '123equiabc123abc123ABC'\n",
    "\n",
    "pattern = re.compile(r\"abc\") # R is used for printing raw data\n",
    "matches = pattern.findall(a)\n",
    "\n",
    "for match in matches:\n",
    "    print(match)"
   ]
  },
  {
   "cell_type": "code",
   "execution_count": 14,
   "id": "3d47be3b",
   "metadata": {},
   "outputs": [
    {
     "name": "stdout",
     "output_type": "stream",
     "text": [
      "<re.Match object; span=(0, 3), match='123'>\n",
      "<re.Match object; span=(10, 13), match='123'>\n",
      "<re.Match object; span=(16, 19), match='123'>\n"
     ]
    }
   ],
   "source": [
    "#finditer() - will retrun all occurances along with positions\n",
    "\n",
    "import re\n",
    "\n",
    "a = '123equiabc123abc123ABC'\n",
    "\n",
    "pattern = re.compile(r\"123\") # R is used for printing raw data\n",
    "matches = pattern.finditer(a)\n",
    "\n",
    "#matches = re.finditer(r\"abc\",a)\n",
    "\n",
    "for match in matches:\n",
    "    print(match)"
   ]
  },
  {
   "cell_type": "code",
   "execution_count": 16,
   "id": "6c168cca",
   "metadata": {},
   "outputs": [
    {
     "name": "stdout",
     "output_type": "stream",
     "text": [
      "0\n",
      "10\n",
      "16\n"
     ]
    }
   ],
   "source": [
    "#Methods on match object\n",
    "\n",
    "#we have three methods - Group , start , end , span\n",
    "\n",
    "#start() - It prints starting position\n",
    "\n",
    "import re\n",
    "\n",
    "a = '123equiabc123abc123ABC'\n",
    "\n",
    "pattern = re.compile(r\"123\") # R is used for printing raw data\n",
    "matches = pattern.finditer(a)\n",
    "\n",
    "for match in matches:\n",
    "    print(match.start())"
   ]
  },
  {
   "cell_type": "code",
   "execution_count": 17,
   "id": "09e3df66",
   "metadata": {},
   "outputs": [
    {
     "name": "stdout",
     "output_type": "stream",
     "text": [
      "3\n",
      "13\n",
      "19\n"
     ]
    }
   ],
   "source": [
    "#end - It prints ending position\n",
    "\n",
    "import re\n",
    "\n",
    "a = '123equiabc123abc123ABC'\n",
    "\n",
    "pattern = re.compile(r\"123\") # R is used for printing raw data\n",
    "matches = pattern.finditer(a)\n",
    "\n",
    "for match in matches:\n",
    "    print(match.end())"
   ]
  },
  {
   "cell_type": "code",
   "execution_count": 18,
   "id": "16d19be9",
   "metadata": {},
   "outputs": [
    {
     "name": "stdout",
     "output_type": "stream",
     "text": [
      "(0, 3)\n",
      "(10, 13)\n",
      "(16, 19)\n"
     ]
    }
   ],
   "source": [
    "#span() - It prints starts and end positionsà\n",
    "\n",
    "import re\n",
    "\n",
    "a = '123equiabc123abc123ABC'\n",
    "\n",
    "pattern = re.compile(r\"123\") # R is used for printing raw data\n",
    "matches = pattern.finditer(a)\n",
    "\n",
    "for match in matches:\n",
    "    print(match.span())"
   ]
  },
  {
   "cell_type": "code",
   "execution_count": 19,
   "id": "7e8bfdd9",
   "metadata": {},
   "outputs": [
    {
     "name": "stdout",
     "output_type": "stream",
     "text": [
      "123\n",
      "123\n",
      "123\n"
     ]
    }
   ],
   "source": [
    "#group() - prints actual output\n",
    "\n",
    "import re\n",
    "\n",
    "a = '123equiabc123abc123ABC'\n",
    "\n",
    "pattern = re.compile(r\"123\") # R is used for printing raw data\n",
    "matches = pattern.finditer(a)\n",
    "\n",
    "for match in matches:\n",
    "    print(match.group())"
   ]
  },
  {
   "cell_type": "code",
   "execution_count": 20,
   "id": "0b7cef60",
   "metadata": {},
   "outputs": [
    {
     "name": "stdout",
     "output_type": "stream",
     "text": [
      "1\n",
      "2\n",
      "3\n",
      "e\n",
      "q\n",
      "u\n",
      "i\n",
      "a\n",
      "b\n",
      "c\n",
      "1\n",
      "2\n",
      "3\n",
      "a\n",
      "b\n",
      "c\n",
      "1\n",
      "2\n",
      "3\n",
      "A\n",
      "B\n",
      "C\n"
     ]
    }
   ],
   "source": [
    "#Meta characters - All meta characters are . ^ $ * + ? {} [] \\ | ()\n",
    "#. - Any character(except newline character)\n",
    "#^ - Starts with eg: \"^hello\"\n",
    "#$ - ends with eg: \"world$\"\n",
    "#* - zero or more occurances eg: \"aix*\"\n",
    "#+ - one or more occurances eg: \"aix+\"\n",
    "#? -  optional\n",
    "#{} - exactly the specified number of occurences eg: \"a{2}\"\n",
    "#[] - a set of characters eg: \"[a-z]\"\n",
    "#\\ - special sequence or escape special characters eg: \\d\n",
    "#| -  either or \"falls|stays\"\n",
    "#() - Capture and group\n",
    "\n",
    "import re\n",
    "\n",
    "a = '123equiabc123abc123ABC'\n",
    "\n",
    "pattern = re.compile(r\".\") # R is used for printing raw data\n",
    "matches = pattern.finditer(a)\n",
    "\n",
    "for match in matches:\n",
    "    print(match.group())"
   ]
  },
  {
   "cell_type": "code",
   "execution_count": 31,
   "id": "6e8970f2",
   "metadata": {},
   "outputs": [
    {
     "name": "stdout",
     "output_type": "stream",
     "text": [
      "<re.Match object; span=(0, 3), match='123'>\n"
     ]
    }
   ],
   "source": [
    "import re\n",
    "\n",
    "a = '123equiabc123abc123ABC'\n",
    "\n",
    "pattern = re.compile(r\"^123\")\n",
    "#pattern = re.compile(r\"ABC$\")\n",
    "matches = pattern.finditer(a)\n",
    "\n",
    "for match in matches:\n",
    "    print(match)"
   ]
  },
  {
   "cell_type": "code",
   "execution_count": 43,
   "id": "867d1679",
   "metadata": {},
   "outputs": [
    {
     "name": "stdout",
     "output_type": "stream",
     "text": [
      "<re.Match object; span=(0, 1), match='h'>\n",
      "<re.Match object; span=(1, 2), match='e'>\n",
      "<re.Match object; span=(2, 3), match='l'>\n",
      "<re.Match object; span=(3, 4), match='l'>\n",
      "<re.Match object; span=(4, 5), match='o'>\n",
      "<re.Match object; span=(5, 6), match=' '>\n",
      "<re.Match object; span=(9, 10), match='_'>\n",
      "<re.Match object; span=(10, 11), match=' '>\n",
      "<re.Match object; span=(11, 12), match='h'>\n",
      "<re.Match object; span=(12, 13), match='e'>\n",
      "<re.Match object; span=(13, 14), match='y'>\n",
      "<re.Match object; span=(14, 15), match='h'>\n",
      "<re.Match object; span=(15, 16), match='o'>\n",
      "<re.Match object; span=(16, 17), match=' '>\n",
      "<re.Match object; span=(17, 18), match='h'>\n",
      "<re.Match object; span=(18, 19), match='o'>\n",
      "<re.Match object; span=(19, 20), match='h'>\n",
      "<re.Match object; span=(20, 21), match='e'>\n",
      "<re.Match object; span=(21, 22), match='y'>\n"
     ]
    }
   ],
   "source": [
    "#more special chatracters\n",
    "\n",
    "'''\n",
    "\\d - Matches any decimal degits [0-9]\n",
    "\\D - Matches Non-digit characters\n",
    "\\s - white space characters (spaces, tab \\t , new line \\n)\n",
    "\\S - non-white space characters\n",
    "\\w - Alphanumeric charactes [a-z][A-Z][0-9][_]\n",
    "\\W - Non alpha numeric characters\n",
    "\\b - Specified characters at beginning or at the end of a word\n",
    "\\B - specified characters are present but not at the beginning or end of a word\n",
    "'''\n",
    "\n",
    "import re\n",
    "\n",
    "a = 'hello 123_ heyho hohey'\n",
    "\n",
    "#pattern = re.compile(r\"\\bhey\")\n",
    "#pattern = re.compile(r\"\\Bhey\")\n",
    "#pattern = re.compile(r\"\\w[a-q]\")\n",
    "#pattern = re.compile(r\"\\W\")\n",
    "#pattern = re.compile(r\"\\Bhey\")\n",
    "#pattern = re.compile(r\"\\s\")\n",
    "#pattern = re.compile(r\"\\S\")\n",
    "#pattern = re.compile(r\"\\d\")\n",
    "pattern = re.compile(r\"\\D\")\n",
    "matches = pattern.finditer(a)\n",
    "\n",
    "for match in matches:\n",
    "    print(match)\n"
   ]
  },
  {
   "cell_type": "code",
   "execution_count": 47,
   "id": "738e2ab0",
   "metadata": {},
   "outputs": [
    {
     "name": "stdout",
     "output_type": "stream",
     "text": [
      "<re.Match object; span=(0, 1), match='h'>\n",
      "<re.Match object; span=(1, 2), match='e'>\n",
      "<re.Match object; span=(2, 3), match='l'>\n",
      "<re.Match object; span=(3, 4), match='l'>\n",
      "<re.Match object; span=(4, 5), match='o'>\n",
      "<re.Match object; span=(6, 7), match='1'>\n",
      "<re.Match object; span=(7, 8), match='2'>\n",
      "<re.Match object; span=(8, 9), match='3'>\n",
      "<re.Match object; span=(11, 12), match='h'>\n",
      "<re.Match object; span=(12, 13), match='e'>\n",
      "<re.Match object; span=(13, 14), match='y'>\n",
      "<re.Match object; span=(14, 15), match='h'>\n",
      "<re.Match object; span=(15, 16), match='o'>\n",
      "<re.Match object; span=(17, 18), match='h'>\n",
      "<re.Match object; span=(18, 19), match='o'>\n",
      "<re.Match object; span=(19, 20), match='h'>\n",
      "<re.Match object; span=(20, 21), match='e'>\n",
      "<re.Match object; span=(21, 22), match='y'>\n"
     ]
    }
   ],
   "source": [
    "#SETS - it is used to check mutiple characters\n",
    "\n",
    "import re\n",
    "\n",
    "a = 'hello 123_ heyho hohey'\n",
    "\n",
    "#pattern = re.compile(r\"[lo]\") #it search for single characters\n",
    "#pattern = re.compile(r\"[0-2]\")\n",
    "#pattern = re.compile(r\"[0-2_]\")\n",
    "pattern = re.compile(r\"[a-zA-Z0-9]\")\n",
    "matches = pattern.finditer(a)\n",
    "\n",
    "for match in matches:\n",
    "    print(match)"
   ]
  },
  {
   "cell_type": "code",
   "execution_count": 61,
   "id": "e9519c7b",
   "metadata": {},
   "outputs": [
    {
     "name": "stdout",
     "output_type": "stream",
     "text": [
      "<re.Match object; span=(6, 9), match='123'>\n"
     ]
    }
   ],
   "source": [
    "#Quantifier - \n",
    "\n",
    "'''\n",
    "* - 0 or more\n",
    "+ - 1 or more\n",
    "? - optional characters\n",
    "{4} - exact number of characters\n",
    "{4,7} - Min and max number i.e.; Range\n",
    "'''\n",
    "\n",
    "import re\n",
    "\n",
    "a = 'hello 123_ heyho hohey'\n",
    "\n",
    "#pattern = re.compile(r\"\\d*\")\n",
    "#pattern = re.compile(r\"\\d+\")\n",
    "#pattern = re.compile(r'_?\\d')\n",
    "#pattern = re.compile(r'\\d{3}') #number of digits\n",
    "pattern = re.compile(r'\\d{1,3}')\n",
    "matches = pattern.finditer(a)\n",
    "\n",
    "for match in matches:\n",
    "    print(match)\n"
   ]
  },
  {
   "cell_type": "code",
   "execution_count": 69,
   "id": "d82e9c75",
   "metadata": {},
   "outputs": [
    {
     "name": "stdout",
     "output_type": "stream",
     "text": [
      "<re.Match object; span=(23, 33), match='2024/03/25'>\n",
      "<re.Match object; span=(56, 66), match='2023-05-20'>\n",
      "<re.Match object; span=(67, 77), match='2023-04-15'>\n"
     ]
    }
   ],
   "source": [
    "import re\n",
    "\n",
    "dates = \"\"\"\n",
    "2024.01.24\n",
    "2023.09.23\n",
    "2024/03/25\n",
    "2024.12.25\n",
    "01.12.2022\n",
    "2023-05-20\n",
    "2023-04-15\n",
    "2024_07_15\n",
    "2023_04_15\n",
    "2023.02.05\n",
    "\"\"\"\n",
    "\n",
    "#pattern = re.compile(r'\\d\\d\\d\\d.\\d\\d.\\d\\d')\n",
    "#pattern = re.compile(r'\\d\\d\\d\\d-\\d\\d-\\d\\d')\n",
    "#pattern = re.compile(r'\\d\\d\\d\\d[-/]\\d\\d[-/]\\d\\d')\n",
    "pattern = re.compile(r'\\d{4}[-/]0[3-7][-/]\\d{2}')\n",
    "matches = pattern.finditer(dates)\n",
    "\n",
    "for match in matches:\n",
    "    print(match)\n"
   ]
  },
  {
   "cell_type": "code",
   "execution_count": 75,
   "id": "a811f1d1",
   "metadata": {},
   "outputs": [
    {
     "name": "stdout",
     "output_type": "stream",
     "text": [
      "<re.Match object; span=(31, 39), match='Mr Smith'>\n",
      "<re.Match object; span=(40, 49), match='Mrs Steve'>\n",
      "<re.Match object; span=(50, 60), match='Mr. Kevlin'>\n",
      "<re.Match object; span=(61, 68), match='ms Lori'>\n",
      "<re.Match object; span=(69, 77), match='Mr. Bitt'>\n",
      "<re.Match object; span=(78, 87), match='Mrs JESSI'>\n"
     ]
    }
   ],
   "source": [
    "import re\n",
    "\n",
    "my_string = \"\"\"\n",
    "2023-05-20\n",
    "Equivalue\n",
    "12234455\n",
    "Mr Smith\n",
    "Mrs Steve\n",
    "Mr. Kevlin\n",
    "ms Lori\n",
    "Mr. Bitt\n",
    "Mrs JESSI\n",
    "\"\"\"\n",
    "\n",
    "#pattern = re.compile(r'Mr\\s\\w+')\n",
    "#pattern = re.compile(r'Mr\\.\\s\\w+')\n",
    "#pattern = re.compile(r'Mr\\.?\\s\\w+')\n",
    "pattern = re.compile(r'(Mr|Mrs|ms)\\.?\\s\\w+')\n",
    "matches = pattern.finditer(my_string)\n",
    "\n",
    "for match in matches:\n",
    "    print(match)"
   ]
  },
  {
   "cell_type": "code",
   "execution_count": 85,
   "id": "86654b93",
   "metadata": {},
   "outputs": [
    {
     "name": "stdout",
     "output_type": "stream",
     "text": [
      "<re.Match object; span=(88, 111), match='euqivalueinfo@gmail.com'>\n",
      "<re.Match object; span=(112, 134), match='akshith-kumar@yahoo.de'>\n",
      "<re.Match object; span=(135, 165), match='akshith-kumar-123@mydomain.org'>\n"
     ]
    }
   ],
   "source": [
    "import re\n",
    "\n",
    "my_string = \"\"\"\n",
    "2023-05-20\n",
    "Equivalue\n",
    "12234455\n",
    "Mr Smith\n",
    "Mrs Steve\n",
    "Mr. Kevlin\n",
    "ms Lori\n",
    "Mr. Bitt\n",
    "Mrs JESSI\n",
    "euqivalueinfo@gmail.com\n",
    "akshith-kumar@yahoo.de\n",
    "akshith-kumar-123@mydomain.org\n",
    "\"\"\"\n",
    "\n",
    "#pattern = re.compile(r'[a-zA-Z0-9]+@[A-Za-z-]+\\.(com|de|org)')\n",
    "pattern = re.compile(r'[a-zA-Z0-9-]+@[A-Za-z-]+\\.[a-zA-Z-]+')\n",
    "matches = pattern.finditer(my_string)\n",
    "\n",
    "for match in matches:\n",
    "    print(match)"
   ]
  },
  {
   "cell_type": "code",
   "execution_count": 86,
   "id": "c992a0fd",
   "metadata": {},
   "outputs": [
    {
     "name": "stdout",
     "output_type": "stream",
     "text": [
      "euqivalueinfo\n",
      "akshith-kumar\n",
      "akshith-kumar-123\n"
     ]
    }
   ],
   "source": [
    "#group()\n",
    "\n",
    "import re\n",
    "\n",
    "my_string = \"\"\"\n",
    "2023-05-20\n",
    "Equivalue\n",
    "12234455\n",
    "Mr Smith\n",
    "Mrs Steve\n",
    "Mr. Kevlin\n",
    "ms Lori\n",
    "Mr. Bitt\n",
    "Mrs JESSI\n",
    "euqivalueinfo@gmail.com\n",
    "akshith-kumar@yahoo.de\n",
    "akshith-kumar-123@mydomain.org\n",
    "\"\"\"\n",
    "\n",
    "#pattern = re.compile(r'[a-zA-Z0-9]+@[A-Za-z-]+\\.(com|de|org)')\n",
    "pattern = re.compile(r'([a-zA-Z0-9-]+)@([A-Za-z-]+)\\.([a-zA-Z-]+)')\n",
    "matches = pattern.finditer(my_string)\n",
    "\n",
    "for match in matches:\n",
    "    #print(match.group())\n",
    "    print(match.group(1))"
   ]
  },
  {
   "cell_type": "code",
   "execution_count": 87,
   "id": "b778a877",
   "metadata": {},
   "outputs": [
    {
     "name": "stdout",
     "output_type": "stream",
     "text": [
      "['', '123', 'ABCED123', '']\n"
     ]
    }
   ],
   "source": [
    "#modification\n",
    "\n",
    "'''\n",
    "we have two types - split and sub\n",
    "split - splitting string into list\n",
    "sub - find all sub string and replace with different string\n",
    "'''\n",
    "\n",
    "import re\n",
    "\n",
    "a = 'abc123abcABCED123abc'\n",
    "\n",
    "pattern = re.compile(r'abc')\n",
    "splitted = pattern.split(a)\n",
    "print(splitted)"
   ]
  },
  {
   "cell_type": "code",
   "execution_count": 89,
   "id": "66f63797",
   "metadata": {},
   "outputs": [
    {
     "name": "stdout",
     "output_type": "stream",
     "text": [
      "abc123abcEQUIV123abc\n"
     ]
    }
   ],
   "source": [
    "import re\n",
    "\n",
    "a = 'abc123abcABCED123abc'\n",
    "\n",
    "pattern = re.compile(r'ABCED')\n",
    "subbed_string = pattern.sub(\"EQUIV\",a)\n",
    "print(subbed_string)"
   ]
  },
  {
   "cell_type": "code",
   "execution_count": 102,
   "id": "143dc7b7",
   "metadata": {},
   "outputs": [
    {
     "name": "stdout",
     "output_type": "stream",
     "text": [
      "<re.Match object; span=(6, 11), match='World'>\n"
     ]
    }
   ],
   "source": [
    "#compilation Flags:\n",
    "\n",
    "'''\n",
    "ASCII,A - Makes several escape like \\w , \\b , \\s \\d, match only ASCII characters\n",
    "DOTALL,S - Make . match any characters including new lines\n",
    "IGNORECASE,I - DO case insensitive match\n",
    "LOCALE,L - Do locate aware match\n",
    "multiline,M - Multiline matching affecting ^and $\n",
    "VERBOSE,X - enable verbose REs  whioch can orgnaized moere cleanly\n",
    "'''\n",
    "\n",
    "import re\n",
    "\n",
    "a = \"Hello World\"\n",
    "\n",
    "pattern = re.compile(r\"world\",re.I)\n",
    "matched = pattern.finditer(a)\n",
    "\n",
    "for match in matched:\n",
    "    print(match)\n"
   ]
  },
  {
   "cell_type": "code",
   "execution_count": null,
   "id": "0f65a3fa",
   "metadata": {},
   "outputs": [],
   "source": []
  }
 ],
 "metadata": {
  "kernelspec": {
   "display_name": "Python 3 (ipykernel)",
   "language": "python",
   "name": "python3"
  },
  "language_info": {
   "codemirror_mode": {
    "name": "ipython",
    "version": 3
   },
   "file_extension": ".py",
   "mimetype": "text/x-python",
   "name": "python",
   "nbconvert_exporter": "python",
   "pygments_lexer": "ipython3",
   "version": "3.11.4"
  }
 },
 "nbformat": 4,
 "nbformat_minor": 5
}
