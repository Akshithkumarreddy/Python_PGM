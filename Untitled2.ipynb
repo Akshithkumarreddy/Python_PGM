{
 "cells": [
  {
   "cell_type": "code",
   "execution_count": 39,
   "id": "abba59e0",
   "metadata": {},
   "outputs": [],
   "source": [
    "a = 17\n",
    "b = 16"
   ]
  },
  {
   "cell_type": "code",
   "execution_count": 40,
   "id": "b83c46eb",
   "metadata": {},
   "outputs": [
    {
     "name": "stdout",
     "output_type": "stream",
     "text": [
      "a is greater\n",
      "a is not 10\n"
     ]
    }
   ],
   "source": [
    "if a > b:\n",
    "    print('a is greater')\n",
    "    if a == 10:\n",
    "        print('a value is 10')\n",
    "    else:\n",
    "        print('a is not 10')\n",
    "elif a < b:\n",
    "    print('a is lesser than b')\n",
    "else:\n",
    "    print('a is equal to b')"
   ]
  },
  {
   "cell_type": "code",
   "execution_count": 41,
   "id": "47a3e68c",
   "metadata": {},
   "outputs": [
    {
     "name": "stdout",
     "output_type": "stream",
     "text": [
      "please enter userid: akshith\n",
      "please enter password: vignesh\n",
      "login sucessfull\n"
     ]
    }
   ],
   "source": [
    "#wap to accept the user id and password and validate for home screen login\n",
    "\n",
    "# user id = akshith\n",
    "#passwored = vignesh\n",
    "\n",
    "userid = input('please enter userid: ')\n",
    "password = input('please enter password: ')\n",
    "\n",
    "if userid == 'akshith':\n",
    "    if password == 'vignesh':\n",
    "        print('login sucessfull')\n",
    "    else:\n",
    "        print('invalid password')\n",
    "else:\n",
    "    print('invalid user id')"
   ]
  },
  {
   "cell_type": "code",
   "execution_count": null,
   "id": "18bb9a0a",
   "metadata": {},
   "outputs": [],
   "source": []
  }
 ],
 "metadata": {
  "kernelspec": {
   "display_name": "Python 3 (ipykernel)",
   "language": "python",
   "name": "python3"
  },
  "language_info": {
   "codemirror_mode": {
    "name": "ipython",
    "version": 3
   },
   "file_extension": ".py",
   "mimetype": "text/x-python",
   "name": "python",
   "nbconvert_exporter": "python",
   "pygments_lexer": "ipython3",
   "version": "3.11.4"
  }
 },
 "nbformat": 4,
 "nbformat_minor": 5
}
