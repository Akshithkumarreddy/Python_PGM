{
 "cells": [
  {
   "cell_type": "code",
   "execution_count": 1,
   "id": "172934a5",
   "metadata": {},
   "outputs": [
    {
     "name": "stdout",
     "output_type": "stream",
     "text": [
      "2024-03-24 12:55:03.192699\n"
     ]
    }
   ],
   "source": [
    "from datetime import datetime \n",
    "now = datetime.now()\n",
    "print(now)"
   ]
  },
  {
   "cell_type": "code",
   "execution_count": 2,
   "id": "42d2e79f",
   "metadata": {},
   "outputs": [],
   "source": [
    "from datetime import datetime\n",
    "from playsound import playsound"
   ]
  },
  {
   "cell_type": "code",
   "execution_count": 3,
   "id": "f98a8348",
   "metadata": {},
   "outputs": [
    {
     "name": "stdout",
     "output_type": "stream",
     "text": [
      "Enter time in 'HH:MM:SS AM/PM' format: 12:58:00 PM\n"
     ]
    }
   ],
   "source": [
    "alarm_time = input(\"Enter time in 'HH:MM:SS AM/PM' format: \")"
   ]
  },
  {
   "cell_type": "code",
   "execution_count": 4,
   "id": "28a2de77",
   "metadata": {},
   "outputs": [],
   "source": [
    "def validate_time(alarm_time):\n",
    "    if len(alarm_time) != 11:\n",
    "        return \"Invalid time format! Please try again...\"\n",
    "    else:\n",
    "        if int(alarm_time[0:2]) > 12:\n",
    "            return \"Invalid HOUR format! Please try again...\"\n",
    "        elif int(alarm_time[3:5]) > 59:\n",
    "            return \"Invalid MINUTE format! Please try again...\"\n",
    "        elif int(alarm_time[6:8]) > 59:\n",
    "            return \"Invalid SECOND format! Please try again...\"\n",
    "        else:\n",
    "            return \"ok\""
   ]
  },
  {
   "cell_type": "code",
   "execution_count": 5,
   "id": "0f83f79a",
   "metadata": {},
   "outputs": [
    {
     "name": "stdout",
     "output_type": "stream",
     "text": [
      "Enter time in 'HH:MM:SS AM/PM' format: 12:58:15 PM\n",
      "Setting alarm for 12:58:15 PM...\n"
     ]
    }
   ],
   "source": [
    "while True:\n",
    "    alarm_time = input(\"Enter time in 'HH:MM:SS AM/PM' format: \")\n",
    "\n",
    "    validate = validate_time(alarm_time.lower())\n",
    "    if validate != \"ok\":\n",
    "        print(validate)\n",
    "    else:\n",
    "        print(f\"Setting alarm for {alarm_time}...\")\n",
    "        break"
   ]
  },
  {
   "cell_type": "code",
   "execution_count": 6,
   "id": "07b21697",
   "metadata": {},
   "outputs": [],
   "source": [
    "alarm_hour = alarm_time[0:2]\n",
    "alarm_min = alarm_time[3:5]\n",
    "alarm_sec = alarm_time[6:8]\n",
    "alarm_period = alarm_time[9:].upper()"
   ]
  },
  {
   "cell_type": "code",
   "execution_count": 11,
   "id": "98ee1276",
   "metadata": {},
   "outputs": [],
   "source": [
    "now = datetime.now()\n",
    "\n",
    "current_hour = now.strftime(\"%I\")\n",
    "current_min = now.strftime(\"%M\")\n",
    "current_sec = now.strftime(\"%S\")\n",
    "current_period = now.strftime(\"%p\")"
   ]
  },
  {
   "cell_type": "code",
   "execution_count": 9,
   "id": "bb9305dc",
   "metadata": {},
   "outputs": [],
   "source": [
    "if alarm_period == current_period:\n",
    "        if alarm_hour == current_hour:\n",
    "            if alarm_min == current_min:\n",
    "                if alarm_sec == current_sec:\n",
    "                    print(\"Wake Up!\")\n",
    "                    playsound('Alarm.wav')"
   ]
  },
  {
   "cell_type": "code",
   "execution_count": 12,
   "id": "cf45bb61",
   "metadata": {},
   "outputs": [
    {
     "name": "stdout",
     "output_type": "stream",
     "text": [
      "2024-03-24 12:56:28.538804\n"
     ]
    }
   ],
   "source": [
    "print(now)"
   ]
  },
  {
   "cell_type": "code",
   "execution_count": null,
   "id": "ae25c639",
   "metadata": {},
   "outputs": [],
   "source": []
  }
 ],
 "metadata": {
  "kernelspec": {
   "display_name": "Python 3 (ipykernel)",
   "language": "python",
   "name": "python3"
  },
  "language_info": {
   "codemirror_mode": {
    "name": "ipython",
    "version": 3
   },
   "file_extension": ".py",
   "mimetype": "text/x-python",
   "name": "python",
   "nbconvert_exporter": "python",
   "pygments_lexer": "ipython3",
   "version": "3.11.4"
  }
 },
 "nbformat": 4,
 "nbformat_minor": 5
}
