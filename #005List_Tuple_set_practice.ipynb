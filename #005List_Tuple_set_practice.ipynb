{
  "nbformat": 4,
  "nbformat_minor": 0,
  "metadata": {
    "colab": {
      "provenance": [],
      "authorship_tag": "ABX9TyNKMg2b7fEsQYQlMQ9Z7jur",
      "include_colab_link": true
    },
    "kernelspec": {
      "name": "python3",
      "display_name": "Python 3"
    },
    "language_info": {
      "name": "python"
    }
  },
  "cells": [
    {
      "cell_type": "markdown",
      "metadata": {
        "id": "view-in-github",
        "colab_type": "text"
      },
      "source": [
        "<a href=\"https://colab.research.google.com/github/Akshithkumarreddy/Python_PGM/blob/main/%23005List_Tuple_set_practice.ipynb\" target=\"_parent\"><img src=\"https://colab.research.google.com/assets/colab-badge.svg\" alt=\"Open In Colab\"/></a>"
      ]
    },
    {
      "cell_type": "markdown",
      "source": [
        "Lists : Collection , ordered , indexed , Changeable , allows duplicate members\n",
        "\n",
        "Tuple : Collection , ordered , indexed , unchangeable , allows duplicate members\n",
        "\n",
        "Set : Collection , unordered , unindexed , unchangeable , No duplicate members\n",
        "\n",
        "Dictionaries : Collection , unordered , indexed, changeable , No duplicate members\n"
      ],
      "metadata": {
        "id": "onmYZo2f_wOF"
      }
    },
    {
      "cell_type": "code",
      "source": [
        "#Built in functions\n",
        "\n",
        "l = list()\n",
        "print(l,type(l))\n",
        "print(len(l))"
      ],
      "metadata": {
        "colab": {
          "base_uri": "https://localhost:8080/"
        },
        "id": "2bQis1zrAp4Y",
        "outputId": "d3455c12-874f-4b7d-98e8-d4be70c176a2"
      },
      "execution_count": 2,
      "outputs": [
        {
          "output_type": "stream",
          "name": "stdout",
          "text": [
            "[] <class 'list'>\n",
            "0\n"
          ]
        }
      ]
    },
    {
      "cell_type": "code",
      "source": [
        "#using square brackets\n",
        "\n",
        "l = []\n",
        "print(l,type(l))\n",
        "print(len(l))"
      ],
      "metadata": {
        "colab": {
          "base_uri": "https://localhost:8080/"
        },
        "id": "0vGIs0xHBL7w",
        "outputId": "30b5838f-53ef-4b74-f33d-6f759669d317"
      },
      "execution_count": 3,
      "outputs": [
        {
          "output_type": "stream",
          "name": "stdout",
          "text": [
            "[] <class 'list'>\n",
            "0\n"
          ]
        }
      ]
    },
    {
      "cell_type": "code",
      "source": [
        "fruits = [\"apple\",\"banana\",\"mango\"]\n",
        "countries = [\"india\",\"srilanka\",\"Nepal\"]\n",
        "print(fruits,countries)\n",
        "print(len(fruits),len(countries))"
      ],
      "metadata": {
        "colab": {
          "base_uri": "https://localhost:8080/"
        },
        "id": "FrTtBKhFB92h",
        "outputId": "d804c78d-2dcd-4ae5-a624-bbfb95483134"
      },
      "execution_count": 4,
      "outputs": [
        {
          "output_type": "stream",
          "name": "stdout",
          "text": [
            "['apple', 'banana', 'mango'] ['india', 'srilanka', 'Nepal']\n",
            "3 3\n"
          ]
        }
      ]
    },
    {
      "cell_type": "code",
      "source": [
        "for f in fruits:\n",
        "    print(f,type(f))"
      ],
      "metadata": {
        "colab": {
          "base_uri": "https://localhost:8080/"
        },
        "id": "7ipQFkkOGIGH",
        "outputId": "a667abef-8813-4d1b-e356-b6faee4c4adf"
      },
      "execution_count": 5,
      "outputs": [
        {
          "output_type": "stream",
          "name": "stdout",
          "text": [
            "apple <class 'str'>\n",
            "banana <class 'str'>\n",
            "mango <class 'str'>\n"
          ]
        }
      ]
    },
    {
      "cell_type": "code",
      "source": [
        "l = [\"python\",\"100\",True,{\"country\":'Finland','city':'Helsinki'}]\n",
        "print(l)\n",
        "\n",
        "for f in l:\n",
        "    print(f,type(f))"
      ],
      "metadata": {
        "colab": {
          "base_uri": "https://localhost:8080/"
        },
        "id": "qJbQzbYoGRy5",
        "outputId": "3aac930c-eab7-4545-ffce-3683ba32a64d"
      },
      "execution_count": 6,
      "outputs": [
        {
          "output_type": "stream",
          "name": "stdout",
          "text": [
            "['python', '100', True, {'country': 'Finland', 'city': 'Helsinki'}]\n",
            "python <class 'str'>\n",
            "100 <class 'str'>\n",
            "True <class 'bool'>\n",
            "{'country': 'Finland', 'city': 'Helsinki'} <class 'dict'>\n"
          ]
        }
      ]
    },
    {
      "cell_type": "code",
      "source": [
        "fruits = [\"banana\",\"apple\",'organe','mango']\n",
        "\n",
        "first_fruit = fruits[0]\n",
        "print(first_fruit)\n",
        "\n",
        "second_fruit = fruits[1]\n",
        "print(second_fruit)\n",
        "\n",
        "third_fruit = fruits[2]\n",
        "print(third_fruit)\n",
        "\n",
        "fourth_fruit = fruits[3]\n",
        "print(fourth_fruit)\n",
        "\n",
        "print(\"____________________________\")\n",
        "\n",
        "first_fruit = fruits[-4]\n",
        "print(first_fruit)\n",
        "\n",
        "second_fruit = fruits[-3]\n",
        "print(second_fruit)\n",
        "\n",
        "third_fruit = fruits[-2]\n",
        "print(third_fruit)\n",
        "\n",
        "fourth_fruit = fruits[-1]\n",
        "print(fourth_fruit)"
      ],
      "metadata": {
        "colab": {
          "base_uri": "https://localhost:8080/"
        },
        "id": "FZ0p4VsuGstW",
        "outputId": "a912c4a4-b704-4128-dfa6-7fe5ee0dc9cb"
      },
      "execution_count": 8,
      "outputs": [
        {
          "output_type": "stream",
          "name": "stdout",
          "text": [
            "banana\n",
            "apple\n",
            "organe\n",
            "mango\n",
            "____________________________\n",
            "banana\n",
            "apple\n",
            "organe\n",
            "mango\n"
          ]
        }
      ]
    },
    {
      "cell_type": "code",
      "source": [
        "#unpacking the lists\n",
        "\n",
        "fruits = [\"banana\",\"apple\",'organe','mango']\n",
        "print(fruits)\n",
        "\n",
        "f1,f2,f3,f4 = fruits\n",
        "print(f1,f2,f3,f4)\n",
        "\n",
        "#f1,f2,f3 = fruits\n",
        "f1,f2,*f3 = fruits\n",
        "print(f1,f2,f3)\n",
        "\n",
        "f1,*f2,f3 = fruits\n",
        "print(f1,f2,f3)"
      ],
      "metadata": {
        "colab": {
          "base_uri": "https://localhost:8080/"
        },
        "id": "u3LaHnUqH8n1",
        "outputId": "d75a355c-d5b2-4a40-eb59-1cb6569f4f10"
      },
      "execution_count": 12,
      "outputs": [
        {
          "output_type": "stream",
          "name": "stdout",
          "text": [
            "['banana', 'apple', 'organe', 'mango']\n",
            "banana apple organe mango\n",
            "banana apple ['organe', 'mango']\n",
            "banana ['apple', 'organe'] mango\n"
          ]
        }
      ]
    },
    {
      "cell_type": "code",
      "source": [
        "fruits = [\"banana\",\"apple\",'organe','mango']\n",
        "\n",
        "all_fruits = fruits[0:4]\n",
        "print(all_fruits)\n",
        "\n",
        "fruits = [\"banana\",\"apple\",'organe','mango']\n",
        "\n",
        "all_fruits = fruits[:4]\n",
        "print(all_fruits)\n",
        "\n",
        "fruits = [\"banana\",\"apple\",'organe','mango']\n",
        "\n",
        "all_fruits = fruits[1:]\n",
        "print(all_fruits)\n",
        "\n",
        "fruits = [\"banana\",\"apple\",'organe','mango']\n",
        "\n",
        "all_fruits = fruits[1:3]\n",
        "print(all_fruits)\n",
        "\n",
        "fruits = [\"banana\",\"apple\",'organe','mango']\n",
        "\n",
        "all_fruits = fruits[-4:-1]\n",
        "print(all_fruits)\n",
        "\n",
        "fruits = [\"banana\",\"apple\",'organe','mango']\n",
        "\n",
        "all_fruits = fruits[-4:]\n",
        "print(all_fruits)\n",
        "\n",
        "print(all_fruits[::2])\n",
        "\n",
        "print(all_fruits[::-2])\n",
        "\n",
        "print(all_fruits[::-1]) #reverse order"
      ],
      "metadata": {
        "colab": {
          "base_uri": "https://localhost:8080/"
        },
        "id": "MER6ND_DIPu0",
        "outputId": "e8d2ae3c-7268-498a-ea76-2987b70bc7fb"
      },
      "execution_count": 19,
      "outputs": [
        {
          "output_type": "stream",
          "name": "stdout",
          "text": [
            "['banana', 'apple', 'organe', 'mango']\n",
            "['banana', 'apple', 'organe', 'mango']\n",
            "['apple', 'organe', 'mango']\n",
            "['apple', 'organe']\n",
            "['banana', 'apple', 'organe']\n",
            "['banana', 'apple', 'organe', 'mango']\n",
            "['banana', 'organe']\n",
            "['mango', 'apple']\n"
          ]
        }
      ]
    },
    {
      "cell_type": "code",
      "source": [
        "fruits = [\"banana\",\"apple\",'orange','mango']\n",
        "print(fruits)\n",
        "\n",
        "fruits[0] = \"grapes\"\n",
        "print(fruits)\n",
        "\n",
        "fruits[1:3] = ['grapes','watermelon']\n",
        "print(fruits)\n",
        "\n",
        "fruits[len(fruits)-1] = 'lemon'\n",
        "print(fruits)"
      ],
      "metadata": {
        "colab": {
          "base_uri": "https://localhost:8080/"
        },
        "id": "tPxVlNLBKJU9",
        "outputId": "3d5fff5d-1779-4f8f-9eaf-15230921fcec"
      },
      "execution_count": 23,
      "outputs": [
        {
          "output_type": "stream",
          "name": "stdout",
          "text": [
            "['banana', 'apple', 'orange', 'mango']\n",
            "['grapes', 'apple', 'orange', 'mango']\n",
            "['grapes', 'grapes', 'watermelon', 'mango']\n",
            "['grapes', 'grapes', 'watermelon', 'lemon']\n"
          ]
        }
      ]
    },
    {
      "cell_type": "code",
      "source": [
        "fruits = [\"banana\",\"apple\",'orange','mango']\n",
        "\n",
        "exsits = \"apple\" in fruits\n",
        "print(exsits)\n",
        "\n",
        "exsits = \"lemon\" in fruits\n",
        "print(exsits)"
      ],
      "metadata": {
        "colab": {
          "base_uri": "https://localhost:8080/"
        },
        "id": "GromwgqPLU3m",
        "outputId": "757a3d2e-b72e-4306-cbc8-a45818e9ad8e"
      },
      "execution_count": 24,
      "outputs": [
        {
          "output_type": "stream",
          "name": "stdout",
          "text": [
            "True\n",
            "False\n"
          ]
        }
      ]
    },
    {
      "cell_type": "code",
      "source": [
        "fruits = [\"banana\",\"apple\",'orange','mango']\n",
        "\n",
        "print(len(fruits),fruits)\n",
        "\n",
        "fruits.append(\"lemon\")\n",
        "print(len(fruits),fruits)\n",
        "\n",
        "fruits.append(\"Gauva\")\n",
        "print(len(fruits),fruits)"
      ],
      "metadata": {
        "colab": {
          "base_uri": "https://localhost:8080/"
        },
        "id": "16hKjp-4LvsS",
        "outputId": "39cded32-c288-400a-cc7f-247494b327ba"
      },
      "execution_count": 27,
      "outputs": [
        {
          "output_type": "stream",
          "name": "stdout",
          "text": [
            "4 ['banana', 'apple', 'orange', 'mango']\n",
            "5 ['banana', 'apple', 'orange', 'mango', 'lemon']\n",
            "6 ['banana', 'apple', 'orange', 'mango', 'lemon', 'Gauva']\n"
          ]
        }
      ]
    },
    {
      "cell_type": "code",
      "source": [
        "fruits = [\"banana\",\"apple\",'orange']\n",
        "print(len(fruits),fruits)\n",
        "\n",
        "fruits.insert(1,\"lemon\")\n",
        "print(len(fruits),fruits)\n",
        "\n",
        "fruits.insert(3,\"lemon\")\n",
        "print(len(fruits),fruits)"
      ],
      "metadata": {
        "colab": {
          "base_uri": "https://localhost:8080/"
        },
        "id": "ZQSD4SYUMPJ6",
        "outputId": "64e2f230-4d63-4919-e851-dbb70da2735c"
      },
      "execution_count": 30,
      "outputs": [
        {
          "output_type": "stream",
          "name": "stdout",
          "text": [
            "3 ['banana', 'apple', 'orange']\n",
            "4 ['banana', 'lemon', 'apple', 'orange']\n",
            "5 ['banana', 'lemon', 'apple', 'lemon', 'orange']\n"
          ]
        }
      ]
    },
    {
      "cell_type": "code",
      "source": [
        "fruit_list1 = ['Apple','Mango']\n",
        "fruit_list2 = ['banana','orange']\n",
        "\n",
        "fruit_list1.append(fruit_list2)\n",
        "print(fruit_list1)\n",
        "\n",
        "fruit_list1 = ['Apple','Mango']\n",
        "fruit_list2 = ['banana','orange']\n",
        "\n",
        "fruit_list1.extend(fruit_list2)\n",
        "print(fruit_list1)\n",
        "\n",
        "fruit_list1 = ['Apple','Mango']\n",
        "fruit_list2 = ['banana','orange']\n",
        "\n",
        "print(fruit_list1+fruit_list2)"
      ],
      "metadata": {
        "colab": {
          "base_uri": "https://localhost:8080/"
        },
        "id": "SeaxRzMbMuCS",
        "outputId": "2f6c1b67-6f9a-4802-faf3-b57254ea521d"
      },
      "execution_count": 34,
      "outputs": [
        {
          "output_type": "stream",
          "name": "stdout",
          "text": [
            "['Apple', 'Mango', ['banana', 'orange']]\n",
            "['Apple', 'Mango', 'banana', 'orange']\n",
            "['Apple', 'Mango', 'banana', 'orange']\n"
          ]
        }
      ]
    },
    {
      "cell_type": "code",
      "source": [
        "fruits = [\"banana\",\"apple\",'orange','mango','apple','apple','\"apple']\n",
        "\n",
        "fruits.remove('orange')\n",
        "print(fruits)\n",
        "\n",
        "fruits.remove('apple')\n",
        "print(fruits)"
      ],
      "metadata": {
        "colab": {
          "base_uri": "https://localhost:8080/"
        },
        "id": "ZKY9d5YWNqmb",
        "outputId": "7aa75277-3cfe-4c59-93a5-0a5b6fddcc44"
      },
      "execution_count": 37,
      "outputs": [
        {
          "output_type": "stream",
          "name": "stdout",
          "text": [
            "['banana', 'apple', 'mango', 'apple', 'apple', '\"apple']\n",
            "['banana', 'mango', 'apple', 'apple', '\"apple']\n"
          ]
        }
      ]
    },
    {
      "cell_type": "code",
      "source": [
        "fruits = [\"banana\",\"apple\",'orange','mango','apple','apple','\"apple']\n",
        "\n",
        "fruits.pop()\n",
        "print(fruits)\n",
        "\n",
        "fruits.pop()\n",
        "print(fruits)\n",
        "\n",
        "fruits.pop(0)\n",
        "print(fruits)"
      ],
      "metadata": {
        "colab": {
          "base_uri": "https://localhost:8080/"
        },
        "id": "-QSx-qITOF91",
        "outputId": "033be492-4f81-4597-8daf-65d75329d429"
      },
      "execution_count": 39,
      "outputs": [
        {
          "output_type": "stream",
          "name": "stdout",
          "text": [
            "['banana', 'apple', 'orange', 'mango', 'apple', 'apple']\n",
            "['banana', 'apple', 'orange', 'mango', 'apple']\n",
            "['apple', 'orange', 'mango', 'apple']\n"
          ]
        }
      ]
    },
    {
      "cell_type": "code",
      "source": [
        "fruits = [\"banana\",\"apple\",'orange','mango','apple','apple','\"apple']\n",
        "\n",
        "del fruits[0]\n",
        "print(fruits)\n",
        "\n",
        "del fruits\n",
        "print(fruits)"
      ],
      "metadata": {
        "colab": {
          "base_uri": "https://localhost:8080/",
          "height": 198
        },
        "id": "ji6k7oXhOXzY",
        "outputId": "33c4ecb3-fb2e-4c9d-869a-18935905f652"
      },
      "execution_count": 41,
      "outputs": [
        {
          "output_type": "stream",
          "name": "stdout",
          "text": [
            "['apple', 'orange', 'mango', 'apple', 'apple', '\"apple']\n"
          ]
        },
        {
          "output_type": "error",
          "ename": "NameError",
          "evalue": "name 'fruits' is not defined",
          "traceback": [
            "\u001b[0;31m---------------------------------------------------------------------------\u001b[0m",
            "\u001b[0;31mNameError\u001b[0m                                 Traceback (most recent call last)",
            "\u001b[0;32m<ipython-input-41-0689fac07eb4>\u001b[0m in \u001b[0;36m<cell line: 0>\u001b[0;34m()\u001b[0m\n\u001b[1;32m      5\u001b[0m \u001b[0;34m\u001b[0m\u001b[0m\n\u001b[1;32m      6\u001b[0m \u001b[0;32mdel\u001b[0m \u001b[0mfruits\u001b[0m\u001b[0;34m\u001b[0m\u001b[0;34m\u001b[0m\u001b[0m\n\u001b[0;32m----> 7\u001b[0;31m \u001b[0mprint\u001b[0m\u001b[0;34m(\u001b[0m\u001b[0mfruits\u001b[0m\u001b[0;34m)\u001b[0m\u001b[0;34m\u001b[0m\u001b[0;34m\u001b[0m\u001b[0m\n\u001b[0m",
            "\u001b[0;31mNameError\u001b[0m: name 'fruits' is not defined"
          ]
        }
      ]
    },
    {
      "cell_type": "code",
      "source": [
        "fruits = [\"banana\",\"apple\",'orange','mango','apple','apple','\"apple']\n",
        "\n",
        "fruits.clear()\n",
        "print(fruits)\n",
        "\n",
        "fruits = [\"banana\",\"apple\",'orange','mango','apple','apple','\"apple']\n",
        "\n",
        "del fruits[:]\n",
        "print(fruits)"
      ],
      "metadata": {
        "colab": {
          "base_uri": "https://localhost:8080/"
        },
        "id": "2nys-cAIOjtl",
        "outputId": "52b4cb61-fb10-4887-f67e-50357e54ebea"
      },
      "execution_count": 43,
      "outputs": [
        {
          "output_type": "stream",
          "name": "stdout",
          "text": [
            "[]\n",
            "[]\n"
          ]
        }
      ]
    },
    {
      "cell_type": "code",
      "source": [
        "l1 = [10,20,30,40]\n",
        "l2 = l1\n",
        "print(l1,l2)\n",
        "\n",
        "l1.append(50)\n",
        "print(l1,l2)"
      ],
      "metadata": {
        "colab": {
          "base_uri": "https://localhost:8080/"
        },
        "id": "AdeFOVXLO51M",
        "outputId": "4f8d3a09-cebc-4517-81d3-2516a4cdc90d"
      },
      "execution_count": 45,
      "outputs": [
        {
          "output_type": "stream",
          "name": "stdout",
          "text": [
            "[10, 20, 30, 40] [10, 20, 30, 40]\n",
            "[10, 20, 30, 40, 50] [10, 20, 30, 40, 50]\n"
          ]
        }
      ]
    },
    {
      "cell_type": "code",
      "source": [
        "l1 = [10,20,30,40]\n",
        "l2 = l1.copy()\n",
        "print(l1,l2)\n",
        "\n",
        "l1.append(50)\n",
        "print(l1,l2)\n",
        "\n",
        "l2.append(60)\n",
        "print(l1,l2)"
      ],
      "metadata": {
        "colab": {
          "base_uri": "https://localhost:8080/"
        },
        "id": "n3DZhMikPPfx",
        "outputId": "16c21cb7-baee-4d35-b1d0-86612595f680"
      },
      "execution_count": 48,
      "outputs": [
        {
          "output_type": "stream",
          "name": "stdout",
          "text": [
            "[10, 20, 30, 40] [10, 20, 30, 40]\n",
            "[10, 20, 30, 40, 50] [10, 20, 30, 40]\n",
            "[10, 20, 30, 40, 50] [10, 20, 30, 40, 60]\n"
          ]
        }
      ]
    },
    {
      "cell_type": "code",
      "source": [
        "l = [9,3,4,5,3,3,4,5,3,4,0,3,4,5,0,5,4,4,3]\n",
        "\n",
        "print(l.count(3))\n",
        "\n",
        "print(l.index(0)) #it returns 1st index of the value mentioned\n",
        "\n",
        "l.reverse()\n",
        "print(l)\n",
        "\n",
        "print(l[::-1])"
      ],
      "metadata": {
        "colab": {
          "base_uri": "https://localhost:8080/"
        },
        "id": "5P2-D9DsPjvx",
        "outputId": "d8b1c509-e257-410d-d2e0-c2cda47b0216"
      },
      "execution_count": 54,
      "outputs": [
        {
          "output_type": "stream",
          "name": "stdout",
          "text": [
            "6\n",
            "10\n",
            "[3, 4, 4, 5, 0, 5, 4, 3, 0, 4, 3, 5, 4, 3, 3, 5, 4, 3, 9]\n",
            "[9, 3, 4, 5, 3, 3, 4, 5, 3, 4, 0, 3, 4, 5, 0, 5, 4, 4, 3]\n"
          ]
        }
      ]
    },
    {
      "cell_type": "code",
      "source": [
        "l = [9,3,4,5,3,3,4,5,3,4,0,3,4,5,0,5,4,4,3]\n",
        "\n",
        "l.sort() #ascending order\n",
        "print(l)\n",
        "\n",
        "l = [9,3,4,5,3,3,4,5,3,4,0,3,4,5,0,5,4,4,3]\n",
        "l.sort(reverse=True) #Decending order\n",
        "print(l)\n",
        "\n",
        "l = [9,3,4,5,3,3,4,5,3,4,0,3,4,5,0,5,4,4,3]\n",
        "print(sorted(l),l)\n",
        "\n",
        "l = [9,3,4,5,3,3,4,5,3,4,0,3,4,5,0,5,4,4,3]\n",
        "print(sorted(l,reverse=True),l)"
      ],
      "metadata": {
        "colab": {
          "base_uri": "https://localhost:8080/"
        },
        "id": "l00LgoCiQqNa",
        "outputId": "954a689a-9541-41b7-9569-11fe1cca6d4e"
      },
      "execution_count": 60,
      "outputs": [
        {
          "output_type": "stream",
          "name": "stdout",
          "text": [
            "[0, 0, 3, 3, 3, 3, 3, 3, 4, 4, 4, 4, 4, 4, 5, 5, 5, 5, 9]\n",
            "[9, 5, 5, 5, 5, 4, 4, 4, 4, 4, 4, 3, 3, 3, 3, 3, 3, 0, 0]\n",
            "[0, 0, 3, 3, 3, 3, 3, 3, 4, 4, 4, 4, 4, 4, 5, 5, 5, 5, 9] [9, 3, 4, 5, 3, 3, 4, 5, 3, 4, 0, 3, 4, 5, 0, 5, 4, 4, 3]\n",
            "[9, 5, 5, 5, 5, 4, 4, 4, 4, 4, 4, 3, 3, 3, 3, 3, 3, 0, 0] [9, 3, 4, 5, 3, 3, 4, 5, 3, 4, 0, 3, 4, 5, 0, 5, 4, 4, 3]\n"
          ]
        }
      ]
    },
    {
      "cell_type": "code",
      "source": [
        "l = [9,3,4,5,3,3,4,5,3,4,0,3,4,5,0,5,4,4,3]\n",
        "\n",
        "l = list(set(l))\n",
        "print(l)"
      ],
      "metadata": {
        "colab": {
          "base_uri": "https://localhost:8080/"
        },
        "id": "pPqN4wePRpI0",
        "outputId": "397d7c14-87e9-4471-da07-e31778df6552"
      },
      "execution_count": 61,
      "outputs": [
        {
          "output_type": "stream",
          "name": "stdout",
          "text": [
            "[0, 3, 4, 5, 9]\n"
          ]
        }
      ]
    }
  ]
}