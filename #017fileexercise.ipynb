{
 "cells": [
  {
   "cell_type": "code",
   "execution_count": 1,
   "metadata": {},
   "outputs": [
    {
     "name": "stdout",
     "output_type": "stream",
     "text": [
      "Hello Good Morning!!\n",
      "\n",
      "Welcome to Equivalue Info solutions!!\n",
      "\n",
      "This is DataScience class\n",
      "\n",
      "All the best for your Carrer!!\n",
      "\n",
      "Thanks,\n",
      "EquivalueThis is the write commandIt allows us to write in a particular file\n"
     ]
    }
   ],
   "source": [
    "def file1(fname):\n",
    "        txt = open(fname)\n",
    "        print(txt.read())\n",
    "\n",
    "file1('test.txt')"
   ]
  },
  {
   "cell_type": "code",
   "execution_count": 2,
   "metadata": {},
   "outputs": [
    {
     "name": "stdout",
     "output_type": "stream",
     "text": [
      "enter number of lines to be read:3\n",
      "Hello Good Morning!!\n",
      "\n",
      "\n",
      "\n",
      "Welcome to Equivalue Info solutions!!\n",
      "\n"
     ]
    }
   ],
   "source": [
    "def file1(fname, nlines):\n",
    "        from itertools import islice\n",
    "        with open(fname) as f:\n",
    "                for line in islice(f, nlines):\n",
    "                        print(line)\n",
    "n=int(input('enter number of lines to be read:'))\n",
    "file1('test.txt',n)"
   ]
  },
  {
   "cell_type": "code",
   "execution_count": 3,
   "metadata": {},
   "outputs": [
    {
     "name": "stdout",
     "output_type": "stream",
     "text": [
      "file concepts\n",
      "file exercise\n"
     ]
    }
   ],
   "source": [
    "def file1(fname):\n",
    "        from itertools import islice\n",
    "        with open(fname, \"w\") as f:\n",
    "                f.write(\"file concepts\\n\")\n",
    "                f.write(\"file exercise\")\n",
    "        txt = open(fname)\n",
    "        print(txt.read())\n",
    "file1('test.txt')"
   ]
  },
  {
   "cell_type": "code",
   "execution_count": 5,
   "metadata": {},
   "outputs": [
    {
     "name": "stdout",
     "output_type": "stream",
     "text": [
      "['file concepts\\n', 'file exercise']\n"
     ]
    }
   ],
   "source": [
    "def file1(fname):\n",
    "        with open(fname) as f:   \n",
    "                list1 = f.readlines()\n",
    "                print(list1)\n",
    "\n",
    "file1('test.txt')"
   ]
  },
  {
   "cell_type": "code",
   "execution_count": 9,
   "metadata": {},
   "outputs": [
    {
     "name": "stdout",
     "output_type": "stream",
     "text": [
      "['Hello Good Morning!!\\n', '\\n', 'Welcome to Equivalue Info solutions!!\\n', '\\n', 'This is DataScience class\\n', '\\n', 'All the best for your Carrer!!\\n', '\\n', 'Thanks,\\n', 'Equivalue']\n"
     ]
    }
   ],
   "source": [
    "def file2(fname):\n",
    "        with open (fname, \"r\") as f:\n",
    "                test=f.readlines()\n",
    "                print(test)\n",
    "file2('test1.txt')"
   ]
  },
  {
   "cell_type": "code",
   "execution_count": 6,
   "metadata": {},
   "outputs": [
    {
     "name": "stdout",
     "output_type": "stream",
     "text": [
      "['EQUIVALUE\\n', 'INFO\\n', 'SOLUTIONS\\n', 'PVT\\n', 'LTD\\n']\n"
     ]
    }
   ],
   "source": [
    "def file2(fname):\n",
    "        test_array = []\n",
    "        with open(fname) as f:  \n",
    "                for line in f:\n",
    "                        test_array.append(line)\n",
    "                print(test_array)\n",
    "\n",
    "file2('test2.txt')"
   ]
  },
  {
   "cell_type": "code",
   "execution_count": 7,
   "metadata": {},
   "outputs": [
    {
     "name": "stdout",
     "output_type": "stream",
     "text": [
      "['solutions!!', 'DataScience']\n"
     ]
    }
   ],
   "source": [
    "def file2(filename):\n",
    "    with open(filename, 'r') as f:\n",
    "              words = f.read().split()\n",
    "    max_len = len(max(words, key=len))\n",
    "    return [word for word in words if len(word) == max_len]\n",
    "\n",
    "print(file2('test.txt'))"
   ]
  },
  {
   "cell_type": "code",
   "execution_count": 8,
   "metadata": {},
   "outputs": [
    {
     "name": "stdout",
     "output_type": "stream",
     "text": [
      "Number of lines in the file:  10\n"
     ]
    }
   ],
   "source": [
    "def file2(fname):\n",
    "        with open(fname) as f:\n",
    "                for i,l in enumerate(f):\n",
    "                        pass\n",
    "        return i + 1\n",
    "print(\"Number of lines in the file: \",file2(\"test.txt\"))"
   ]
  },
  {
   "cell_type": "code",
   "execution_count": 9,
   "metadata": {},
   "outputs": [
    {
     "name": "stdout",
     "output_type": "stream",
     "text": [
      "Number of words in the file : Counter({'Equivalue': 2, 'Hello': 1, 'Good': 1, 'Morning!!': 1, 'Welcome': 1, 'to': 1, 'Info': 1, 'solutions!!': 1, 'This': 1, 'is': 1, 'DataScience': 1, 'class': 1, 'All': 1, 'the': 1, 'best': 1, 'for': 1, 'your': 1, 'Carrer!!': 1, 'Thanks,': 1})\n"
     ]
    }
   ],
   "source": [
    "from collections import Counter\n",
    "def file2(fname):\n",
    "        with open(fname) as f:\n",
    "                return Counter(f.read().split())\n",
    "\n",
    "print(\"Number of words in the file :\",file2(\"test.txt\"))"
   ]
  },
  {
   "cell_type": "code",
   "execution_count": 12,
   "metadata": {},
   "outputs": [
    {
     "name": "stdout",
     "output_type": "stream",
     "text": [
      "EQUIVALUE\n",
      "INFO\n",
      "SOLUTIONS\n",
      "PVT\n",
      "LTD\n",
      "\n"
     ]
    }
   ],
   "source": [
    "data = ['EQUIVALUE', 'INFO', 'SOLUTIONS', 'PVT', 'LTD']\n",
    "with open('test4.txt', \"w\") as f:\n",
    "        for c in data:\n",
    "                f.write(\"%s\\n\" %c)\n",
    "\n",
    "content = open('test4.txt')\n",
    "print(content.read())"
   ]
  },
  {
   "cell_type": "code",
   "execution_count": 22,
   "metadata": {},
   "outputs": [
    {
     "name": "stdout",
     "output_type": "stream",
     "text": [
      "EQUIVALUE\n",
      "INFO\n",
      "SOLUTIONS\n",
      "PVT\n",
      "LTD\n",
      "\n"
     ]
    }
   ],
   "source": [
    "txt=open('test2.txt')\n",
    "print(txt.read())"
   ]
  },
  {
   "cell_type": "code",
   "execution_count": 13,
   "metadata": {},
   "outputs": [
    {
     "name": "stdout",
     "output_type": "stream",
     "text": [
      "EQUIVALUE\n",
      "EQUIVALUE\n",
      "\n",
      "INFO\n",
      "INFO\n",
      "\n",
      "SOLUTIONS\n",
      "SOLUTIONS\n",
      "\n",
      "PVT\n",
      "PVT\n",
      "\n",
      "LTD\n",
      "LTD\n",
      "\n"
     ]
    }
   ],
   "source": [
    "with open('test2.txt') as f1, open('test3.txt') as f2:\n",
    "    for line1, line2 in zip(f1, f2):\n",
    "        print(line1+line2)\n",
    "\t\t"
   ]
  },
  {
   "cell_type": "code",
   "execution_count": 25,
   "metadata": {},
   "outputs": [
    {
     "name": "stdout",
     "output_type": "stream",
     "text": [
      "Equivalue\n"
     ]
    }
   ],
   "source": [
    "import random\n",
    "def file2(fname):\n",
    "    lines = open(fname).read().splitlines()\n",
    "    return random.choice(lines)\n",
    "print(file2('test.txt'))"
   ]
  },
  {
   "cell_type": "code",
   "execution_count": 26,
   "metadata": {},
   "outputs": [
    {
     "name": "stdout",
     "output_type": "stream",
     "text": [
      "False\n",
      "True\n"
     ]
    }
   ],
   "source": [
    "f = open('test.txt','r')\n",
    "print(f.closed)\n",
    "f.close()\n",
    "print(f.closed)"
   ]
  },
  {
   "cell_type": "code",
   "execution_count": 27,
   "metadata": {},
   "outputs": [
    {
     "name": "stdout",
     "output_type": "stream",
     "text": [
      "['EQUIVALUE', 'INFO', 'SOLUTIONS', 'PVT', 'LTD']\n"
     ]
    }
   ],
   "source": [
    "def file1(fname):\n",
    "    f1 = open(fname).readlines()\n",
    "    return [s.rstrip('\\n') for s in f1]\n",
    "\n",
    "print(file1(\"test3.txt\"))"
   ]
  },
  {
   "cell_type": "code",
   "execution_count": 43,
   "metadata": {},
   "outputs": [
    {
     "name": "stdout",
     "output_type": "stream",
     "text": [
      "EQUIVALUE\n",
      "INFO\n",
      "SOLUTIONS\n",
      "PVT\n",
      "LTD\n",
      "\n"
     ]
    }
   ],
   "source": [
    "txt=open('test3.txt')\n",
    "print(txt.read())"
   ]
  },
  {
   "cell_type": "code",
   "execution_count": null,
   "metadata": {},
   "outputs": [],
   "source": []
  }
 ],
 "metadata": {
  "kernelspec": {
   "display_name": "Python 3 (ipykernel)",
   "language": "python",
   "name": "python3"
  },
  "language_info": {
   "codemirror_mode": {
    "name": "ipython",
    "version": 3
   },
   "file_extension": ".py",
   "mimetype": "text/x-python",
   "name": "python",
   "nbconvert_exporter": "python",
   "pygments_lexer": "ipython3",
   "version": "3.11.4"
  }
 },
 "nbformat": 4,
 "nbformat_minor": 2
}
