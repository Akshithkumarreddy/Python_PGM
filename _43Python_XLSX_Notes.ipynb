{
  "nbformat": 4,
  "nbformat_minor": 0,
  "metadata": {
    "colab": {
      "provenance": [],
      "authorship_tag": "ABX9TyOJxPTaUL4j4XN8e04jkOCe",
      "include_colab_link": true
    },
    "kernelspec": {
      "name": "python3",
      "display_name": "Python 3"
    },
    "language_info": {
      "name": "python"
    }
  },
  "cells": [
    {
      "cell_type": "markdown",
      "metadata": {
        "id": "view-in-github",
        "colab_type": "text"
      },
      "source": [
        "<a href=\"https://colab.research.google.com/github/Akshithkumarreddy/Python_PGM/blob/main/_43Python_XLSX_Notes.ipynb\" target=\"_parent\"><img src=\"https://colab.research.google.com/assets/colab-badge.svg\" alt=\"Open In Colab\"/></a>"
      ]
    },
    {
      "cell_type": "markdown",
      "source": [
        "importing libraries"
      ],
      "metadata": {
        "id": "q3JaCIBx0krN"
      }
    },
    {
      "cell_type": "code",
      "source": [
        "import openpyxl\n",
        "from openpyxl import Workbook , load_workbook"
      ],
      "metadata": {
        "id": "gXMZWQ4K00TZ"
      },
      "execution_count": 6,
      "outputs": []
    },
    {
      "cell_type": "markdown",
      "source": [
        "Creating workbook"
      ],
      "metadata": {
        "id": "phHi-Vav0hVF"
      }
    },
    {
      "cell_type": "code",
      "source": [
        "workbook = Workbook()\n",
        "sheet = workbook.active\n",
        "\n",
        "sheet[\"A1\"] = \"hello\"\n",
        "sheet[\"B1\"] = \"world!\"\n",
        "\n",
        "workbook.save(filename=\"hello_world.xlsx\")"
      ],
      "metadata": {
        "id": "aCpEBnqu4AdB"
      },
      "execution_count": 19,
      "outputs": []
    },
    {
      "cell_type": "markdown",
      "source": [
        "Reading speadsheet"
      ],
      "metadata": {
        "id": "S7-OHNn84Wiq"
      }
    },
    {
      "cell_type": "code",
      "source": [
        "workbook = load_workbook(filename=\"Project-Management-Sample-Data.xlsx\")\n",
        "workbook.sheetnames"
      ],
      "metadata": {
        "colab": {
          "base_uri": "https://localhost:8080/"
        },
        "id": "IyHtQTHi4aEE",
        "outputId": "6f15296c-58b2-42c8-9ffd-c70342d6d6a8"
      },
      "execution_count": 20,
      "outputs": [
        {
          "output_type": "execute_result",
          "data": {
            "text/plain": [
              "['Project Management Data']"
            ]
          },
          "metadata": {},
          "execution_count": 20
        }
      ]
    },
    {
      "cell_type": "code",
      "source": [
        "sheet = workbook.active\n",
        "sheet"
      ],
      "metadata": {
        "colab": {
          "base_uri": "https://localhost:8080/"
        },
        "id": "sK97Jtps4mQV",
        "outputId": "121c37b9-2421-4de0-ee52-47cddb5f9d0d"
      },
      "execution_count": 21,
      "outputs": [
        {
          "output_type": "execute_result",
          "data": {
            "text/plain": [
              "<Worksheet \"Project Management Data\">"
            ]
          },
          "metadata": {},
          "execution_count": 21
        }
      ]
    },
    {
      "cell_type": "code",
      "source": [
        "sheet.title"
      ],
      "metadata": {
        "colab": {
          "base_uri": "https://localhost:8080/",
          "height": 35
        },
        "id": "PIvRlzUm4sxt",
        "outputId": "fb796b3c-01a1-44df-fd2e-2c323575fe98"
      },
      "execution_count": 22,
      "outputs": [
        {
          "output_type": "execute_result",
          "data": {
            "text/plain": [
              "'Project Management Data'"
            ],
            "application/vnd.google.colaboratory.intrinsic+json": {
              "type": "string"
            }
          },
          "metadata": {},
          "execution_count": 22
        }
      ]
    },
    {
      "cell_type": "markdown",
      "source": [
        "Retreving data from spreadsheet"
      ],
      "metadata": {
        "id": "3y3e-k7k41bg"
      }
    },
    {
      "cell_type": "code",
      "source": [
        "sheet[\"A1\"]"
      ],
      "metadata": {
        "colab": {
          "base_uri": "https://localhost:8080/"
        },
        "id": "FLZSFg8H43mN",
        "outputId": "5e6db519-6e60-4c48-d993-5df41824727f"
      },
      "execution_count": 23,
      "outputs": [
        {
          "output_type": "execute_result",
          "data": {
            "text/plain": [
              "<Cell 'Project Management Data'.A1>"
            ]
          },
          "metadata": {},
          "execution_count": 23
        }
      ]
    },
    {
      "cell_type": "code",
      "source": [
        "print(sheet[\"C8\"].value)"
      ],
      "metadata": {
        "colab": {
          "base_uri": "https://localhost:8080/"
        },
        "id": "1WGwv36k48kI",
        "outputId": "a4f384c3-52ca-4c30-aeda-68d827850d27"
      },
      "execution_count": 26,
      "outputs": [
        {
          "output_type": "stream",
          "name": "stdout",
          "text": [
            "Content Creation\n"
          ]
        }
      ]
    },
    {
      "cell_type": "code",
      "source": [
        "sheet.cell(row=10, column=6)"
      ],
      "metadata": {
        "colab": {
          "base_uri": "https://localhost:8080/"
        },
        "id": "F97Ncf5s5X5m",
        "outputId": "918b61c9-52c1-4195-ca20-7c23fb9a108a"
      },
      "execution_count": 27,
      "outputs": [
        {
          "output_type": "execute_result",
          "data": {
            "text/plain": [
              "<Cell 'Project Management Data'.F10>"
            ]
          },
          "metadata": {},
          "execution_count": 27
        }
      ]
    },
    {
      "cell_type": "code",
      "source": [
        "sheet.cell(row=10, column=6).value\n"
      ],
      "metadata": {
        "colab": {
          "base_uri": "https://localhost:8080/"
        },
        "id": "lhDlOtM75cl9",
        "outputId": "7c0d77bb-ba0a-4ec3-e125-0f23a1147379"
      },
      "execution_count": 28,
      "outputs": [
        {
          "output_type": "execute_result",
          "data": {
            "text/plain": [
              "25"
            ]
          },
          "metadata": {},
          "execution_count": 28
        }
      ]
    },
    {
      "cell_type": "code",
      "source": [
        "# Get all cells from column D\n",
        "\n",
        "sheet[\"D\"]"
      ],
      "metadata": {
        "colab": {
          "base_uri": "https://localhost:8080/"
        },
        "id": "jmuMrl5Q5ss6",
        "outputId": "fde9d25b-80d5-499b-a252-2541093936a8"
      },
      "execution_count": 31,
      "outputs": [
        {
          "output_type": "execute_result",
          "data": {
            "text/plain": [
              "(<Cell 'Project Management Data'.D1>,\n",
              " <Cell 'Project Management Data'.D2>,\n",
              " <Cell 'Project Management Data'.D3>,\n",
              " <Cell 'Project Management Data'.D4>,\n",
              " <Cell 'Project Management Data'.D5>,\n",
              " <Cell 'Project Management Data'.D6>,\n",
              " <Cell 'Project Management Data'.D7>,\n",
              " <Cell 'Project Management Data'.D8>,\n",
              " <Cell 'Project Management Data'.D9>,\n",
              " <Cell 'Project Management Data'.D10>,\n",
              " <Cell 'Project Management Data'.D11>,\n",
              " <Cell 'Project Management Data'.D12>,\n",
              " <Cell 'Project Management Data'.D13>,\n",
              " <Cell 'Project Management Data'.D14>,\n",
              " <Cell 'Project Management Data'.D15>,\n",
              " <Cell 'Project Management Data'.D16>,\n",
              " <Cell 'Project Management Data'.D17>,\n",
              " <Cell 'Project Management Data'.D18>,\n",
              " <Cell 'Project Management Data'.D19>,\n",
              " <Cell 'Project Management Data'.D20>,\n",
              " <Cell 'Project Management Data'.D21>,\n",
              " <Cell 'Project Management Data'.D22>,\n",
              " <Cell 'Project Management Data'.D23>,\n",
              " <Cell 'Project Management Data'.D24>,\n",
              " <Cell 'Project Management Data'.D25>,\n",
              " <Cell 'Project Management Data'.D26>,\n",
              " <Cell 'Project Management Data'.D27>,\n",
              " <Cell 'Project Management Data'.D28>,\n",
              " <Cell 'Project Management Data'.D29>,\n",
              " <Cell 'Project Management Data'.D30>,\n",
              " <Cell 'Project Management Data'.D31>,\n",
              " <Cell 'Project Management Data'.D32>,\n",
              " <Cell 'Project Management Data'.D33>,\n",
              " <Cell 'Project Management Data'.D34>,\n",
              " <Cell 'Project Management Data'.D35>,\n",
              " <Cell 'Project Management Data'.D36>,\n",
              " <Cell 'Project Management Data'.D37>,\n",
              " <Cell 'Project Management Data'.D38>,\n",
              " <Cell 'Project Management Data'.D39>,\n",
              " <Cell 'Project Management Data'.D40>,\n",
              " <Cell 'Project Management Data'.D41>,\n",
              " <Cell 'Project Management Data'.D42>,\n",
              " <Cell 'Project Management Data'.D43>,\n",
              " <Cell 'Project Management Data'.D44>,\n",
              " <Cell 'Project Management Data'.D45>,\n",
              " <Cell 'Project Management Data'.D46>,\n",
              " <Cell 'Project Management Data'.D47>,\n",
              " <Cell 'Project Management Data'.D48>,\n",
              " <Cell 'Project Management Data'.D49>,\n",
              " <Cell 'Project Management Data'.D50>,\n",
              " <Cell 'Project Management Data'.D51>,\n",
              " <Cell 'Project Management Data'.D52>)"
            ]
          },
          "metadata": {},
          "execution_count": 31
        }
      ]
    },
    {
      "cell_type": "code",
      "source": [
        "# Get all cells for a range of columns\n",
        "sheet[\"A:B\"]"
      ],
      "metadata": {
        "colab": {
          "base_uri": "https://localhost:8080/"
        },
        "id": "IAMQghxS5y68",
        "outputId": "8382ee6c-0b82-488a-c8ad-b533161f9150"
      },
      "execution_count": 32,
      "outputs": [
        {
          "output_type": "execute_result",
          "data": {
            "text/plain": [
              "((<Cell 'Project Management Data'.A1>,\n",
              "  <Cell 'Project Management Data'.A2>,\n",
              "  <Cell 'Project Management Data'.A3>,\n",
              "  <Cell 'Project Management Data'.A4>,\n",
              "  <Cell 'Project Management Data'.A5>,\n",
              "  <Cell 'Project Management Data'.A6>,\n",
              "  <Cell 'Project Management Data'.A7>,\n",
              "  <Cell 'Project Management Data'.A8>,\n",
              "  <Cell 'Project Management Data'.A9>,\n",
              "  <Cell 'Project Management Data'.A10>,\n",
              "  <Cell 'Project Management Data'.A11>,\n",
              "  <Cell 'Project Management Data'.A12>,\n",
              "  <Cell 'Project Management Data'.A13>,\n",
              "  <Cell 'Project Management Data'.A14>,\n",
              "  <Cell 'Project Management Data'.A15>,\n",
              "  <Cell 'Project Management Data'.A16>,\n",
              "  <Cell 'Project Management Data'.A17>,\n",
              "  <Cell 'Project Management Data'.A18>,\n",
              "  <Cell 'Project Management Data'.A19>,\n",
              "  <Cell 'Project Management Data'.A20>,\n",
              "  <Cell 'Project Management Data'.A21>,\n",
              "  <Cell 'Project Management Data'.A22>,\n",
              "  <Cell 'Project Management Data'.A23>,\n",
              "  <Cell 'Project Management Data'.A24>,\n",
              "  <Cell 'Project Management Data'.A25>,\n",
              "  <Cell 'Project Management Data'.A26>,\n",
              "  <Cell 'Project Management Data'.A27>,\n",
              "  <Cell 'Project Management Data'.A28>,\n",
              "  <Cell 'Project Management Data'.A29>,\n",
              "  <Cell 'Project Management Data'.A30>,\n",
              "  <Cell 'Project Management Data'.A31>,\n",
              "  <Cell 'Project Management Data'.A32>,\n",
              "  <Cell 'Project Management Data'.A33>,\n",
              "  <Cell 'Project Management Data'.A34>,\n",
              "  <Cell 'Project Management Data'.A35>,\n",
              "  <Cell 'Project Management Data'.A36>,\n",
              "  <Cell 'Project Management Data'.A37>,\n",
              "  <Cell 'Project Management Data'.A38>,\n",
              "  <Cell 'Project Management Data'.A39>,\n",
              "  <Cell 'Project Management Data'.A40>,\n",
              "  <Cell 'Project Management Data'.A41>,\n",
              "  <Cell 'Project Management Data'.A42>,\n",
              "  <Cell 'Project Management Data'.A43>,\n",
              "  <Cell 'Project Management Data'.A44>,\n",
              "  <Cell 'Project Management Data'.A45>,\n",
              "  <Cell 'Project Management Data'.A46>,\n",
              "  <Cell 'Project Management Data'.A47>,\n",
              "  <Cell 'Project Management Data'.A48>,\n",
              "  <Cell 'Project Management Data'.A49>,\n",
              "  <Cell 'Project Management Data'.A50>,\n",
              "  <Cell 'Project Management Data'.A51>,\n",
              "  <Cell 'Project Management Data'.A52>),\n",
              " (<Cell 'Project Management Data'.B1>,\n",
              "  <Cell 'Project Management Data'.B2>,\n",
              "  <Cell 'Project Management Data'.B3>,\n",
              "  <Cell 'Project Management Data'.B4>,\n",
              "  <Cell 'Project Management Data'.B5>,\n",
              "  <Cell 'Project Management Data'.B6>,\n",
              "  <Cell 'Project Management Data'.B7>,\n",
              "  <Cell 'Project Management Data'.B8>,\n",
              "  <Cell 'Project Management Data'.B9>,\n",
              "  <Cell 'Project Management Data'.B10>,\n",
              "  <Cell 'Project Management Data'.B11>,\n",
              "  <Cell 'Project Management Data'.B12>,\n",
              "  <Cell 'Project Management Data'.B13>,\n",
              "  <Cell 'Project Management Data'.B14>,\n",
              "  <Cell 'Project Management Data'.B15>,\n",
              "  <Cell 'Project Management Data'.B16>,\n",
              "  <Cell 'Project Management Data'.B17>,\n",
              "  <Cell 'Project Management Data'.B18>,\n",
              "  <Cell 'Project Management Data'.B19>,\n",
              "  <Cell 'Project Management Data'.B20>,\n",
              "  <Cell 'Project Management Data'.B21>,\n",
              "  <Cell 'Project Management Data'.B22>,\n",
              "  <Cell 'Project Management Data'.B23>,\n",
              "  <Cell 'Project Management Data'.B24>,\n",
              "  <Cell 'Project Management Data'.B25>,\n",
              "  <Cell 'Project Management Data'.B26>,\n",
              "  <Cell 'Project Management Data'.B27>,\n",
              "  <Cell 'Project Management Data'.B28>,\n",
              "  <Cell 'Project Management Data'.B29>,\n",
              "  <Cell 'Project Management Data'.B30>,\n",
              "  <Cell 'Project Management Data'.B31>,\n",
              "  <Cell 'Project Management Data'.B32>,\n",
              "  <Cell 'Project Management Data'.B33>,\n",
              "  <Cell 'Project Management Data'.B34>,\n",
              "  <Cell 'Project Management Data'.B35>,\n",
              "  <Cell 'Project Management Data'.B36>,\n",
              "  <Cell 'Project Management Data'.B37>,\n",
              "  <Cell 'Project Management Data'.B38>,\n",
              "  <Cell 'Project Management Data'.B39>,\n",
              "  <Cell 'Project Management Data'.B40>,\n",
              "  <Cell 'Project Management Data'.B41>,\n",
              "  <Cell 'Project Management Data'.B42>,\n",
              "  <Cell 'Project Management Data'.B43>,\n",
              "  <Cell 'Project Management Data'.B44>,\n",
              "  <Cell 'Project Management Data'.B45>,\n",
              "  <Cell 'Project Management Data'.B46>,\n",
              "  <Cell 'Project Management Data'.B47>,\n",
              "  <Cell 'Project Management Data'.B48>,\n",
              "  <Cell 'Project Management Data'.B49>,\n",
              "  <Cell 'Project Management Data'.B50>,\n",
              "  <Cell 'Project Management Data'.B51>,\n",
              "  <Cell 'Project Management Data'.B52>))"
            ]
          },
          "metadata": {},
          "execution_count": 32
        }
      ]
    },
    {
      "cell_type": "code",
      "source": [
        "# Get all cells from row 5\n",
        "sheet[5]"
      ],
      "metadata": {
        "colab": {
          "base_uri": "https://localhost:8080/"
        },
        "id": "lbm5EcX96KS0",
        "outputId": "d4446a1a-deae-496c-dd8e-a18dbb2280a5"
      },
      "execution_count": 33,
      "outputs": [
        {
          "output_type": "execute_result",
          "data": {
            "text/plain": [
              "(<Cell 'Project Management Data'.A5>,\n",
              " <Cell 'Project Management Data'.B5>,\n",
              " <Cell 'Project Management Data'.C5>,\n",
              " <Cell 'Project Management Data'.D5>,\n",
              " <Cell 'Project Management Data'.E5>,\n",
              " <Cell 'Project Management Data'.F5>,\n",
              " <Cell 'Project Management Data'.G5>,\n",
              " <Cell 'Project Management Data'.H5>)"
            ]
          },
          "metadata": {},
          "execution_count": 33
        }
      ]
    },
    {
      "cell_type": "code",
      "source": [
        "# Get all cells for a range of rows\n",
        "sheet[5:6]"
      ],
      "metadata": {
        "colab": {
          "base_uri": "https://localhost:8080/"
        },
        "id": "hLzWPlZ86KX2",
        "outputId": "d04b74b2-eafe-4c72-b9bf-5a9ee2fbb600"
      },
      "execution_count": 34,
      "outputs": [
        {
          "output_type": "execute_result",
          "data": {
            "text/plain": [
              "((<Cell 'Project Management Data'.A5>,\n",
              "  <Cell 'Project Management Data'.B5>,\n",
              "  <Cell 'Project Management Data'.C5>,\n",
              "  <Cell 'Project Management Data'.D5>,\n",
              "  <Cell 'Project Management Data'.E5>,\n",
              "  <Cell 'Project Management Data'.F5>,\n",
              "  <Cell 'Project Management Data'.G5>,\n",
              "  <Cell 'Project Management Data'.H5>),\n",
              " (<Cell 'Project Management Data'.A6>,\n",
              "  <Cell 'Project Management Data'.B6>,\n",
              "  <Cell 'Project Management Data'.C6>,\n",
              "  <Cell 'Project Management Data'.D6>,\n",
              "  <Cell 'Project Management Data'.E6>,\n",
              "  <Cell 'Project Management Data'.F6>,\n",
              "  <Cell 'Project Management Data'.G6>,\n",
              "  <Cell 'Project Management Data'.H6>))"
            ]
          },
          "metadata": {},
          "execution_count": 34
        }
      ]
    },
    {
      "cell_type": "code",
      "source": [
        "for row in sheet.iter_rows(min_row=1,\n",
        "                         max_row=2,\n",
        "                           min_col=1,\n",
        "                         max_col=3):\n",
        "    print(row)"
      ],
      "metadata": {
        "colab": {
          "base_uri": "https://localhost:8080/"
        },
        "id": "iJbjy08s6bYs",
        "outputId": "44d4b457-0ec0-4f42-88a4-5305d9873abe"
      },
      "execution_count": 35,
      "outputs": [
        {
          "output_type": "stream",
          "name": "stdout",
          "text": [
            "(<Cell 'Project Management Data'.A1>, <Cell 'Project Management Data'.B1>, <Cell 'Project Management Data'.C1>)\n",
            "(<Cell 'Project Management Data'.A2>, <Cell 'Project Management Data'.B2>, <Cell 'Project Management Data'.C2>)\n"
          ]
        }
      ]
    },
    {
      "cell_type": "code",
      "source": [
        "for column in sheet.iter_cols(min_row=1,\n",
        "                             max_row=2,\n",
        "                            min_col=1,\n",
        "                            max_col=3):\n",
        "    print(column)"
      ],
      "metadata": {
        "colab": {
          "base_uri": "https://localhost:8080/"
        },
        "id": "FmHwJdZt6jnV",
        "outputId": "a14ff52e-ac40-427f-b5a5-8cf030695eb1"
      },
      "execution_count": 36,
      "outputs": [
        {
          "output_type": "stream",
          "name": "stdout",
          "text": [
            "(<Cell 'Project Management Data'.A1>, <Cell 'Project Management Data'.A2>)\n",
            "(<Cell 'Project Management Data'.B1>, <Cell 'Project Management Data'.B2>)\n",
            "(<Cell 'Project Management Data'.C1>, <Cell 'Project Management Data'.C2>)\n"
          ]
        }
      ]
    },
    {
      "cell_type": "code",
      "source": [
        "for value in sheet.iter_rows(min_row=8,\n",
        "                             max_row=10,\n",
        "                             min_col=2,\n",
        "                             max_col=4,\n",
        "                              values_only=True):\n",
        "    print(value)\n"
      ],
      "metadata": {
        "colab": {
          "base_uri": "https://localhost:8080/"
        },
        "id": "kcm2P_yq6qrp",
        "outputId": "2328b759-781c-402f-c8b6-4f8b6e1756d4"
      },
      "execution_count": 40,
      "outputs": [
        {
          "output_type": "stream",
          "name": "stdout",
          "text": [
            "('Marketing', 'Content Creation', 'Bob')\n",
            "('Marketing', 'Social Media Planning', 'Charlie')\n",
            "('Marketing', 'Campaign Analysis', 'Daisy')\n"
          ]
        }
      ]
    },
    {
      "cell_type": "code",
      "source": [
        "import json\n",
        "from openpyxl import load_workbook\n",
        "\n",
        "workbook = load_workbook(filename=\"Project-Management-Sample-Data.xlsx\")\n",
        "sheet = workbook.active\n",
        "\n",
        "products = {}\n",
        "\n",
        "# Using the values_only because you want to return the cells' values\n",
        "for row in sheet.iter_rows(min_row=8,\n",
        "                           min_col=2,\n",
        "                           max_col=4,\n",
        "                           values_only=True):\n",
        "    product_id = row[0]\n",
        "    product = {\n",
        "        \"parent\": row[1],\n",
        "        \"title\": row[2]\n",
        "    }\n",
        "    products[product_id] = product\n",
        "\n",
        "# Using json here to be able to format the output for displaying later\n",
        "print(json.dumps(products))"
      ],
      "metadata": {
        "colab": {
          "base_uri": "https://localhost:8080/"
        },
        "id": "Qtn4NoFa7PbI",
        "outputId": "297061ca-092a-459a-ca33-4d436ebd960a"
      },
      "execution_count": 43,
      "outputs": [
        {
          "output_type": "stream",
          "name": "stdout",
          "text": [
            "{\"Marketing\": {\"parent\": \"Campaign Analysis\", \"title\": \"Daisy\"}, \"Product Dev\": {\"parent\": \"User Interface Design\", \"title\": \"Gabriel\"}, \"Customer Svc\": {\"parent\": \"Customer Feedback\", \"title\": \"Julia\"}, \"Financial\": {\"parent\": \"Investment Planning\", \"title\": \"Mark\"}, \"Research\": {\"parent\": \"Research Paper Writing\", \"title\": \"Peter\"}, \"Development\": {\"parent\": \"Code Review\", \"title\": \"Sam\"}, \"Production\": {\"parent\": \"Packaging Design\", \"title\": \"Victor\"}, \"Sales\": {\"parent\": \"Contract Negotiation\", \"title\": \"Yvette\"}, \"Support\": {\"parent\": \"Software Updates\", \"title\": \"Bella\"}, \"Operations\": {\"parent\": \"Facility Maintenance\", \"title\": \"Edward\"}, \"Consulting\": {\"parent\": \"Client Advisory\", \"title\": \"Helen\"}, \"Training\": {\"parent\": \"Skill Development\", \"title\": \"Kyle\"}, \"Events\": {\"parent\": \"Sponsorship Coordinatio\", \"title\": \"n Nancy\"}, \"Logistics\": {\"parent\": \"Inventory Optimization\", \"title\": \"Quentin\"}, \"Engineering\": {\"parent\": \"Prototype Testing\", \"title\": \"Tom\"}}\n"
          ]
        }
      ]
    }
  ]
}