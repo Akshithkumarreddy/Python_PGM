{
 "cells": [
  {
   "cell_type": "code",
   "execution_count": 1,
   "id": "f2d7c3e0",
   "metadata": {},
   "outputs": [],
   "source": [
    "a = [1,2,3,4]"
   ]
  },
  {
   "cell_type": "code",
   "execution_count": 2,
   "id": "affdaff5",
   "metadata": {},
   "outputs": [
    {
     "data": {
      "text/plain": [
       "[2, 4, 6, 8]"
      ]
     },
     "execution_count": 2,
     "metadata": {},
     "output_type": "execute_result"
    }
   ],
   "source": [
    "[x * 2 for x in a]"
   ]
  },
  {
   "cell_type": "code",
   "execution_count": 3,
   "id": "761fd7c9",
   "metadata": {},
   "outputs": [
    {
     "data": {
      "text/plain": [
       "[2, 4, 6, 8]"
      ]
     },
     "execution_count": 3,
     "metadata": {},
     "output_type": "execute_result"
    }
   ],
   "source": [
    "list(map(lambda x : x*2,a))"
   ]
  },
  {
   "cell_type": "code",
   "execution_count": 5,
   "id": "6a4bd055",
   "metadata": {},
   "outputs": [
    {
     "data": {
      "text/plain": [
       "['1', '2', '3', '4']"
      ]
     },
     "execution_count": 5,
     "metadata": {},
     "output_type": "execute_result"
    }
   ],
   "source": [
    "list(map(str,[1,2,3,4]))"
   ]
  },
  {
   "cell_type": "code",
   "execution_count": 6,
   "id": "4fd6c706",
   "metadata": {},
   "outputs": [
    {
     "data": {
      "text/plain": [
       "['1', '2', '3', '4']"
      ]
     },
     "execution_count": 6,
     "metadata": {},
     "output_type": "execute_result"
    }
   ],
   "source": [
    "[str(i) for i in a]"
   ]
  },
  {
   "cell_type": "code",
   "execution_count": 8,
   "id": "ee9d8dbd",
   "metadata": {},
   "outputs": [
    {
     "data": {
      "text/plain": [
       "['2', '3', '4']"
      ]
     },
     "execution_count": 8,
     "metadata": {},
     "output_type": "execute_result"
    }
   ],
   "source": [
    "[str(i) for i in a if i > 1]"
   ]
  },
  {
   "cell_type": "code",
   "execution_count": 9,
   "id": "aea3b683",
   "metadata": {},
   "outputs": [
    {
     "data": {
      "text/plain": [
       "[2, 4, 6, 8]"
      ]
     },
     "execution_count": 9,
     "metadata": {},
     "output_type": "execute_result"
    }
   ],
   "source": [
    "def tst1(i):\n",
    "    return i * 2\n",
    "\n",
    "[tst1(x) for x in a]"
   ]
  },
  {
   "cell_type": "code",
   "execution_count": 10,
   "id": "0f9c745d",
   "metadata": {},
   "outputs": [
    {
     "data": {
      "text/plain": [
       "[2, 4, 6, 8]"
      ]
     },
     "execution_count": 10,
     "metadata": {},
     "output_type": "execute_result"
    }
   ],
   "source": [
    "#best to use function with map instead of Lambda\n",
    "\n",
    "def tst1(i):\n",
    "    return i * 2\n",
    "\n",
    "list(map(tst1,a))"
   ]
  },
  {
   "cell_type": "code",
   "execution_count": 17,
   "id": "9e95f354",
   "metadata": {},
   "outputs": [
    {
     "data": {
      "text/plain": [
       "0.09742895900012627"
      ]
     },
     "execution_count": 17,
     "metadata": {},
     "output_type": "execute_result"
    }
   ],
   "source": [
    "from timeit import timeit\n",
    "\n",
    "timeit(\"(map(tst1,[1,2,3,4]))\",\"from __main__ import tst1\")"
   ]
  },
  {
   "cell_type": "code",
   "execution_count": 18,
   "id": "c7dad4f8",
   "metadata": {},
   "outputs": [
    {
     "data": {
      "text/plain": [
       "0.1054046249998919"
      ]
     },
     "execution_count": 18,
     "metadata": {},
     "output_type": "execute_result"
    }
   ],
   "source": [
    "from timeit import timeit\n",
    "\n",
    "timeit(\"(map(lambda x : x * 2,[1,2,3,4]))\",\"from __main__ import tst1\")"
   ]
  },
  {
   "cell_type": "code",
   "execution_count": 19,
   "id": "f0c52723",
   "metadata": {},
   "outputs": [
    {
     "data": {
      "text/plain": [
       "[3, 4, 5]"
      ]
     },
     "execution_count": 19,
     "metadata": {},
     "output_type": "execute_result"
    }
   ],
   "source": [
    "#filter ()\n",
    "\n",
    "a = [1,2,3,4,5]\n",
    "\n",
    "[i for i in a if i > 2]  # if at right works as filter"
   ]
  },
  {
   "cell_type": "code",
   "execution_count": 20,
   "id": "17f2a519",
   "metadata": {},
   "outputs": [
    {
     "data": {
      "text/plain": [
       "[3, 4, 5]"
      ]
     },
     "execution_count": 20,
     "metadata": {},
     "output_type": "execute_result"
    }
   ],
   "source": [
    "a = [1,2,3,4,5]\n",
    "\n",
    "list(filter(lambda x : x > 2,a))"
   ]
  },
  {
   "cell_type": "code",
   "execution_count": 22,
   "id": "5c48b033",
   "metadata": {},
   "outputs": [
    {
     "data": {
      "text/plain": [
       "[3, 4, 5]"
      ]
     },
     "execution_count": 22,
     "metadata": {},
     "output_type": "execute_result"
    }
   ],
   "source": [
    "a = [1,2,3,4,5]\n",
    "\n",
    "def grtwo(i):\n",
    "    return i>2\n",
    "\n",
    "\n",
    "#[grtwo(i) for i in a]\n",
    "[i for i in a if grtwo(i)]"
   ]
  },
  {
   "cell_type": "code",
   "execution_count": 23,
   "id": "6f9181ef",
   "metadata": {},
   "outputs": [
    {
     "data": {
      "text/plain": [
       "[3, 4, 5]"
      ]
     },
     "execution_count": 23,
     "metadata": {},
     "output_type": "execute_result"
    }
   ],
   "source": [
    "a = [1,2,3,4,5]\n",
    "\n",
    "def grtwo(i):\n",
    "    return i>2\n",
    "\n",
    "list(filter(grtwo,a))"
   ]
  },
  {
   "cell_type": "code",
   "execution_count": 26,
   "id": "b38d3024",
   "metadata": {},
   "outputs": [
    {
     "data": {
      "text/plain": [
       "[1, 2, True, 3, 'test']"
      ]
     },
     "execution_count": 26,
     "metadata": {},
     "output_type": "execute_result"
    }
   ],
   "source": [
    "#none filters all false \n",
    "\n",
    "list(filter(None,[0,0,1,2,True,False,3,\"\",\"test\"]))"
   ]
  },
  {
   "cell_type": "code",
   "execution_count": 27,
   "id": "fd289679",
   "metadata": {},
   "outputs": [
    {
     "data": {
      "text/plain": [
       "[1, 2, True, 3, 'test']"
      ]
     },
     "execution_count": 27,
     "metadata": {},
     "output_type": "execute_result"
    }
   ],
   "source": [
    "[i for i in [0,0,1,2,True,False,3,\"\",\"test\"] if bool(i) != bool(None)]"
   ]
  },
  {
   "cell_type": "code",
   "execution_count": 28,
   "id": "6d85cd98",
   "metadata": {},
   "outputs": [
    {
     "data": {
      "text/plain": [
       "[15, 20, 25]"
      ]
     },
     "execution_count": 28,
     "metadata": {},
     "output_type": "execute_result"
    }
   ],
   "source": [
    "a = [1,2,3,4,5]\n",
    "[i * 5 for i in a if i > 2]"
   ]
  },
  {
   "cell_type": "code",
   "execution_count": 33,
   "id": "94355f47",
   "metadata": {},
   "outputs": [
    {
     "data": {
      "text/plain": [
       "15"
      ]
     },
     "execution_count": 33,
     "metadata": {},
     "output_type": "execute_result"
    }
   ],
   "source": [
    "#reduce() function \n",
    "\n",
    "reduce(lambda x,y :  x+y , [1,2,3,4,5]) # this is not supported in python 3"
   ]
  },
  {
   "cell_type": "code",
   "execution_count": 34,
   "id": "e3aeab01",
   "metadata": {},
   "outputs": [
    {
     "data": {
      "text/plain": [
       "10"
      ]
     },
     "execution_count": 34,
     "metadata": {},
     "output_type": "execute_result"
    }
   ],
   "source": [
    "from functools import reduce\n",
    "reduce(lambda x,y :  x+y , [1,2,3,4])"
   ]
  },
  {
   "cell_type": "code",
   "execution_count": 35,
   "id": "41d69e83",
   "metadata": {},
   "outputs": [
    {
     "data": {
      "text/plain": [
       "10"
      ]
     },
     "execution_count": 35,
     "metadata": {},
     "output_type": "execute_result"
    }
   ],
   "source": [
    "sum(i for i in [1,2,3,4])"
   ]
  },
  {
   "cell_type": "code",
   "execution_count": 36,
   "id": "686e8814",
   "metadata": {},
   "outputs": [
    {
     "data": {
      "text/plain": [
       "[1, 2, 1, 2, 1, 2]"
      ]
     },
     "execution_count": 36,
     "metadata": {},
     "output_type": "execute_result"
    }
   ],
   "source": [
    "b = [[1,2],[1,2],[1,2]]\n",
    "\n",
    "[i for sublist in b for i in sublist]"
   ]
  },
  {
   "cell_type": "code",
   "execution_count": 37,
   "id": "f11f5fa6",
   "metadata": {},
   "outputs": [
    {
     "data": {
      "text/plain": [
       "[1, 2, 1, 2, 1, 2]"
      ]
     },
     "execution_count": 37,
     "metadata": {},
     "output_type": "execute_result"
    }
   ],
   "source": [
    "b = [[1,2],[1,2],[1,2]]\n",
    "\n",
    "reduce(lambda x,y :  x+y , b)"
   ]
  },
  {
   "cell_type": "code",
   "execution_count": 38,
   "id": "933effe6",
   "metadata": {},
   "outputs": [
    {
     "data": {
      "text/plain": [
       "5"
      ]
     },
     "execution_count": 38,
     "metadata": {},
     "output_type": "execute_result"
    }
   ],
   "source": [
    "reduce(lambda x,y :  x if x > y else y , [1,2,3,4,5]) #it returns max value"
   ]
  },
  {
   "cell_type": "code",
   "execution_count": 39,
   "id": "b51a05ce",
   "metadata": {},
   "outputs": [
    {
     "data": {
      "text/plain": [
       "5"
      ]
     },
     "execution_count": 39,
     "metadata": {},
     "output_type": "execute_result"
    }
   ],
   "source": [
    "max(i for i in [1,2,3,4,5])"
   ]
  },
  {
   "cell_type": "code",
   "execution_count": 40,
   "id": "368283f9",
   "metadata": {},
   "outputs": [
    {
     "data": {
      "text/plain": [
       "10"
      ]
     },
     "execution_count": 40,
     "metadata": {},
     "output_type": "execute_result"
    }
   ],
   "source": [
    "#always reduce expectes 2 functions\n",
    "\n",
    "def add2(x,y):\n",
    "    return x + y\n",
    "\n",
    "reduce(add2 , [1,2,3,4])"
   ]
  },
  {
   "cell_type": "code",
   "execution_count": null,
   "id": "b5fd89dc",
   "metadata": {},
   "outputs": [],
   "source": []
  }
 ],
 "metadata": {
  "kernelspec": {
   "display_name": "Python 3 (ipykernel)",
   "language": "python",
   "name": "python3"
  },
  "language_info": {
   "codemirror_mode": {
    "name": "ipython",
    "version": 3
   },
   "file_extension": ".py",
   "mimetype": "text/x-python",
   "name": "python",
   "nbconvert_exporter": "python",
   "pygments_lexer": "ipython3",
   "version": "3.11.4"
  }
 },
 "nbformat": 4,
 "nbformat_minor": 5
}
