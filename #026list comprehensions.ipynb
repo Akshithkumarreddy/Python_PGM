{
 "cells": [
  {
   "cell_type": "code",
   "execution_count": 1,
   "id": "e47f183b",
   "metadata": {},
   "outputs": [],
   "source": [
    "num = [1,2,3]"
   ]
  },
  {
   "cell_type": "code",
   "execution_count": 3,
   "id": "3b96b8a3",
   "metadata": {},
   "outputs": [
    {
     "name": "stdout",
     "output_type": "stream",
     "text": [
      "[2, 4, 6]\n"
     ]
    }
   ],
   "source": [
    "results = []\n",
    "for i in num:\n",
    "    i = i * 2\n",
    "    results.append(i)\n",
    "print(results)"
   ]
  },
  {
   "cell_type": "code",
   "execution_count": null,
   "id": "f8ed867a",
   "metadata": {},
   "outputs": [],
   "source": [
    "#syntax\n",
    "\n",
    "[expression for variable in iterables]"
   ]
  },
  {
   "cell_type": "code",
   "execution_count": 5,
   "id": "5896fb8f",
   "metadata": {},
   "outputs": [
    {
     "data": {
      "text/plain": [
       "[2, 4, 6]"
      ]
     },
     "execution_count": 5,
     "metadata": {},
     "output_type": "execute_result"
    }
   ],
   "source": [
    "#alternative for above is\n",
    "\n",
    "[i * 2 for i in num]"
   ]
  },
  {
   "cell_type": "code",
   "execution_count": 8,
   "id": "04c0d87a",
   "metadata": {},
   "outputs": [
    {
     "name": "stdout",
     "output_type": "stream",
     "text": [
      "['EQUI', 'VALUE', 'INFO', 'SOLUTIONS']\n"
     ]
    }
   ],
   "source": [
    "#example2\n",
    "\n",
    "s = [\"equi\",\"value\",\"info\",\"solutions\"]\n",
    "\n",
    "results = []\n",
    "for i in s:\n",
    "    i=i.upper()\n",
    "    results.append(i)\n",
    "print(results)"
   ]
  },
  {
   "cell_type": "code",
   "execution_count": 9,
   "id": "afdce61f",
   "metadata": {},
   "outputs": [
    {
     "name": "stdout",
     "output_type": "stream",
     "text": [
      "['EQUI', 'VALUE', 'INFO', 'SOLUTIONS']\n"
     ]
    }
   ],
   "source": [
    "s = [\"equi\",\"value\",\"info\",\"solutions\"]\n",
    "results = [i.upper() for i in s]\n",
    "print(results)"
   ]
  },
  {
   "cell_type": "code",
   "execution_count": 10,
   "id": "f3fc1aa2",
   "metadata": {},
   "outputs": [
    {
     "name": "stdout",
     "output_type": "stream",
     "text": [
      "['EQUIaa', 'VALUEaa', 'INFOaa', 'SOLUTIONSaa']\n"
     ]
    }
   ],
   "source": [
    "s = [\"equi\",\"value\",\"info\",\"solutions\"]\n",
    "results = [i.upper() + \"aa\" for i in s]\n",
    "print(results)"
   ]
  },
  {
   "cell_type": "code",
   "execution_count": 13,
   "id": "a8744ab1",
   "metadata": {},
   "outputs": [
    {
     "name": "stdout",
     "output_type": "stream",
     "text": [
      "[5, 10, 15, 20, 25]\n"
     ]
    }
   ],
   "source": [
    "num = [1,2,3,4,5]\n",
    "\n",
    "def sam(num):\n",
    "    return num * 5\n",
    "\n",
    "results = []\n",
    "\n",
    "for i in num:\n",
    "    i = sam(i)\n",
    "    results.append(i)\n",
    "\n",
    "print(results)"
   ]
  },
  {
   "cell_type": "code",
   "execution_count": 14,
   "id": "7b8aabcb",
   "metadata": {},
   "outputs": [
    {
     "name": "stdout",
     "output_type": "stream",
     "text": [
      "[5, 10, 15, 20, 25]\n"
     ]
    }
   ],
   "source": [
    "num = [1,2,3,4,5]\n",
    "\n",
    "def sam(num):\n",
    "    return num * 5\n",
    "\n",
    "results = [sam(i) for i in num]\n",
    "print(results)"
   ]
  },
  {
   "cell_type": "code",
   "execution_count": 15,
   "id": "8386518c",
   "metadata": {},
   "outputs": [
    {
     "name": "stdout",
     "output_type": "stream",
     "text": [
      "[15, 20, 25]\n"
     ]
    }
   ],
   "source": [
    "num = [1,2,3,4,5]\n",
    "\n",
    "def sam(num):\n",
    "    return num * 5\n",
    "\n",
    "results = [sam(i) for i in num if i > 2]\n",
    "print(results)"
   ]
  },
  {
   "cell_type": "code",
   "execution_count": 16,
   "id": "48a37934",
   "metadata": {},
   "outputs": [
    {
     "name": "stdout",
     "output_type": "stream",
     "text": [
      "['Equivalue', 'Sukesh']\n"
     ]
    }
   ],
   "source": [
    "d = [{\"name\":\"Equivalue\"},{\"name\":\"Sukesh\"}]\n",
    "\n",
    "results = []\n",
    "\n",
    "for i in d:\n",
    "    results.append(i[\"name\"])\n",
    "\n",
    "print(results)"
   ]
  },
  {
   "cell_type": "code",
   "execution_count": 18,
   "id": "28f15a2d",
   "metadata": {},
   "outputs": [
    {
     "name": "stdout",
     "output_type": "stream",
     "text": [
      "['Equivalue', 'Sukesh']\n"
     ]
    }
   ],
   "source": [
    "d = [{\"name\":\"Equivalue\"},{\"name\":\"Sukesh\"}]\n",
    "\n",
    "results = [i[\"name\"] for i in d]\n",
    "\n",
    "print(results)"
   ]
  },
  {
   "cell_type": "code",
   "execution_count": 19,
   "id": "8ebe0506",
   "metadata": {},
   "outputs": [
    {
     "name": "stdout",
     "output_type": "stream",
     "text": [
      "['EquivalueTest', 'SukeshTest']\n"
     ]
    }
   ],
   "source": [
    "d = [{\"name\":\"Equivalue\"},{\"name\":\"Sukesh\"}]\n",
    "\n",
    "results = [i[\"name\"] + \"Test\" for i in d]\n",
    "\n",
    "print(results)"
   ]
  },
  {
   "cell_type": "code",
   "execution_count": 20,
   "id": "fd47941d",
   "metadata": {},
   "outputs": [
    {
     "name": "stdout",
     "output_type": "stream",
     "text": [
      "[1, 2, 3, 4, 5]\n"
     ]
    }
   ],
   "source": [
    "#list comprehension using if else\n",
    "\n",
    "l1 = [1,2,3,4,5]\n",
    "\n",
    "print([i for i in l1])"
   ]
  },
  {
   "cell_type": "code",
   "execution_count": 22,
   "id": "9cc103ef",
   "metadata": {},
   "outputs": [
    {
     "name": "stdout",
     "output_type": "stream",
     "text": [
      "[1, 2, 9, 12, 15]\n"
     ]
    }
   ],
   "source": [
    "l1 = [1,2,3,4,5]\n",
    "\n",
    "print([i * 3 if i >= 3 else i for i in l1])"
   ]
  },
  {
   "cell_type": "code",
   "execution_count": 23,
   "id": "3f1f2103",
   "metadata": {},
   "outputs": [
    {
     "name": "stdout",
     "output_type": "stream",
     "text": [
      "[9, 12, 15]\n"
     ]
    }
   ],
   "source": [
    "#if statement right of for loops works as filters , no else in filter (on right side)\n",
    "\n",
    "l1 = [1,2,3,4,5]\n",
    "\n",
    "print([i * 3 for i in l1 if i >= 3])"
   ]
  },
  {
   "cell_type": "code",
   "execution_count": 26,
   "id": "1aeb3436",
   "metadata": {},
   "outputs": [
    {
     "name": "stdout",
     "output_type": "stream",
     "text": [
      "[2, 9, 12, 15]\n"
     ]
    }
   ],
   "source": [
    "l1 = [1,2,3,4,5]\n",
    "\n",
    "print([i * 3 if i >= 3 else i for i in l1 if i >= 2])"
   ]
  },
  {
   "cell_type": "code",
   "execution_count": 28,
   "id": "a8773152",
   "metadata": {},
   "outputs": [
    {
     "data": {
      "text/plain": [
       "[5, 10, 15]"
      ]
     },
     "execution_count": 28,
     "metadata": {},
     "output_type": "execute_result"
    }
   ],
   "source": [
    "#lambda function \n",
    "\n",
    "a = [1,2,3]\n",
    "\n",
    "list(map(lambda i : i * 5 , a))"
   ]
  },
  {
   "cell_type": "code",
   "execution_count": 30,
   "id": "9e5bb8e4",
   "metadata": {},
   "outputs": [
    {
     "name": "stdout",
     "output_type": "stream",
     "text": [
      "[1, 2, 15]\n"
     ]
    }
   ],
   "source": [
    "a = [1,2,3]\n",
    "\n",
    "#list(map(lambda i : i * 5 if i == 3 else i, a))\n",
    "print([i * 5 if i == 3 else i for i in a])"
   ]
  },
  {
   "cell_type": "code",
   "execution_count": 33,
   "id": "b62a1b3e",
   "metadata": {},
   "outputs": [
    {
     "data": {
      "text/plain": [
       "[2, 15]"
      ]
     },
     "execution_count": 33,
     "metadata": {},
     "output_type": "execute_result"
    }
   ],
   "source": [
    "a = [1,2,3]\n",
    "\n",
    "list(map(lambda i : i * 5 if i == 3 else i, filter(lambda i : i > 1 ,a)))\n",
    "#print([i * 5 if i == 3 else i for i in a if i > 1])"
   ]
  },
  {
   "cell_type": "code",
   "execution_count": 34,
   "id": "522236b0",
   "metadata": {},
   "outputs": [
    {
     "name": "stdout",
     "output_type": "stream",
     "text": [
      "[4, 5]\n"
     ]
    }
   ],
   "source": [
    "#mutiple if statements\n",
    "\n",
    "num = [1,2,3,4,5]\n",
    "print([i for i in num if i > 2 if i != 3])"
   ]
  },
  {
   "cell_type": "code",
   "execution_count": 36,
   "id": "72eaed92",
   "metadata": {},
   "outputs": [
    {
     "name": "stdout",
     "output_type": "stream",
     "text": [
      "1 apple\n",
      "1 orange\n",
      "1 banana\n",
      "1 pineapple\n",
      "1 peaches\n",
      "1 pears\n",
      "2 apple\n",
      "2 orange\n",
      "2 banana\n",
      "2 pineapple\n",
      "2 peaches\n",
      "2 pears\n",
      "3 apple\n",
      "3 orange\n",
      "3 banana\n",
      "3 pineapple\n",
      "3 peaches\n",
      "3 pears\n",
      "4 apple\n",
      "4 orange\n",
      "4 banana\n",
      "4 pineapple\n",
      "4 peaches\n",
      "4 pears\n",
      "5 apple\n",
      "5 orange\n",
      "5 banana\n",
      "5 pineapple\n",
      "5 peaches\n",
      "5 pears\n"
     ]
    }
   ],
   "source": [
    "num = [1,2,3,4,5]\n",
    "fruit = [\"apple\",\"orange\",\"banana\",\"pineapple\",\"peaches\",\"pears\"]\n",
    "\n",
    "for i in num:\n",
    "    for j in fruit:\n",
    "        print(i,j)"
   ]
  },
  {
   "cell_type": "code",
   "execution_count": 39,
   "id": "216fc206",
   "metadata": {},
   "outputs": [
    {
     "data": {
      "text/plain": [
       "[(1, 'apple'),\n",
       " (1, 'orange'),\n",
       " (1, 'banana'),\n",
       " (1, 'pineapple'),\n",
       " (1, 'peaches'),\n",
       " (1, 'pears'),\n",
       " (2, 'apple'),\n",
       " (2, 'orange'),\n",
       " (2, 'banana'),\n",
       " (2, 'pineapple'),\n",
       " (2, 'peaches'),\n",
       " (2, 'pears'),\n",
       " (3, 'apple'),\n",
       " (3, 'orange'),\n",
       " (3, 'banana'),\n",
       " (3, 'pineapple'),\n",
       " (3, 'peaches'),\n",
       " (3, 'pears'),\n",
       " (4, 'apple'),\n",
       " (4, 'orange'),\n",
       " (4, 'banana'),\n",
       " (4, 'pineapple'),\n",
       " (4, 'peaches'),\n",
       " (4, 'pears'),\n",
       " (5, 'apple'),\n",
       " (5, 'orange'),\n",
       " (5, 'banana'),\n",
       " (5, 'pineapple'),\n",
       " (5, 'peaches'),\n",
       " (5, 'pears')]"
      ]
     },
     "execution_count": 39,
     "metadata": {},
     "output_type": "execute_result"
    }
   ],
   "source": [
    "num = [1,2,3,4,5]\n",
    "fruit = [\"apple\",\"orange\",\"banana\",\"pineapple\",\"peaches\",\"pears\"]\n",
    "\n",
    "[(i,j) for i in num for j in fruit]"
   ]
  },
  {
   "cell_type": "code",
   "execution_count": 41,
   "id": "8e335c69",
   "metadata": {},
   "outputs": [
    {
     "data": {
      "text/plain": [
       "[(2, 'apple'),\n",
       " (2, 'orange'),\n",
       " (2, 'banana'),\n",
       " (2, 'pineapple'),\n",
       " (2, 'peaches'),\n",
       " (2, 'pears'),\n",
       " (3, 'apple'),\n",
       " (3, 'orange'),\n",
       " (3, 'banana'),\n",
       " (3, 'pineapple'),\n",
       " (3, 'peaches'),\n",
       " (3, 'pears'),\n",
       " (5, 'apple'),\n",
       " (5, 'orange'),\n",
       " (5, 'banana'),\n",
       " (5, 'pineapple'),\n",
       " (5, 'peaches'),\n",
       " (5, 'pears')]"
      ]
     },
     "execution_count": 41,
     "metadata": {},
     "output_type": "execute_result"
    }
   ],
   "source": [
    "num = [1,2,3,4,5]\n",
    "fruit = [\"apple\",\"orange\",\"banana\",\"pineapple\",\"peaches\",\"pears\"]\n",
    "\n",
    "[(i,j) for i in num if i>1 if i!=4 for j in fruit]"
   ]
  },
  {
   "cell_type": "code",
   "execution_count": 43,
   "id": "d846e48d",
   "metadata": {},
   "outputs": [
    {
     "data": {
      "text/plain": [
       "[(2, 'apple'),\n",
       " (2, 'orange'),\n",
       " (2, 'pineapple'),\n",
       " (2, 'peaches'),\n",
       " (2, 'pears'),\n",
       " (3, 'apple'),\n",
       " (3, 'orange'),\n",
       " (3, 'pineapple'),\n",
       " (3, 'peaches'),\n",
       " (3, 'pears'),\n",
       " (5, 'apple'),\n",
       " (5, 'orange'),\n",
       " (5, 'pineapple'),\n",
       " (5, 'peaches'),\n",
       " (5, 'pears')]"
      ]
     },
     "execution_count": 43,
     "metadata": {},
     "output_type": "execute_result"
    }
   ],
   "source": [
    "num = [1,2,3,4,5]\n",
    "fruit = [\"apple\",\"orange\",\"banana\",\"pineapple\",\"peaches\",\"pears\"]\n",
    "\n",
    "[(i,j) for i in num if i>1 if i!=4 for j in fruit if j != \"banana\"]"
   ]
  },
  {
   "cell_type": "code",
   "execution_count": null,
   "id": "67947b51",
   "metadata": {},
   "outputs": [],
   "source": []
  }
 ],
 "metadata": {
  "kernelspec": {
   "display_name": "Python 3 (ipykernel)",
   "language": "python",
   "name": "python3"
  },
  "language_info": {
   "codemirror_mode": {
    "name": "ipython",
    "version": 3
   },
   "file_extension": ".py",
   "mimetype": "text/x-python",
   "name": "python",
   "nbconvert_exporter": "python",
   "pygments_lexer": "ipython3",
   "version": "3.11.4"
  }
 },
 "nbformat": 4,
 "nbformat_minor": 5
}
