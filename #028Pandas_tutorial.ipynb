{
  "cells": [
    {
      "cell_type": "code",
      "execution_count": null,
      "id": "b32cc214",
      "metadata": {
        "id": "b32cc214"
      },
      "outputs": [],
      "source": [
        "#pandas\n",
        "\n",
        "#Pandas is one of the most important libraries of Python.\n",
        "\n",
        "#it has data structures for data analysis. The most used of these are Series and DataFrame data structures.\n",
        "#Series is one dimensional, that is, it consists of a column. Data frame is two-dimensional\n",
        "#it consists of rows and columns."
      ]
    },
    {
      "cell_type": "code",
      "execution_count": 1,
      "id": "3cdbb502",
      "metadata": {
        "id": "3cdbb502"
      },
      "outputs": [],
      "source": [
        "import pandas as pd"
      ]
    },
    {
      "cell_type": "code",
      "execution_count": 2,
      "id": "9a0303cd",
      "metadata": {
        "id": "9a0303cd",
        "outputId": "d50c3d04-1168-458f-8f6f-994d5d6e1912",
        "colab": {
          "base_uri": "https://localhost:8080/"
        }
      },
      "outputs": [
        {
          "output_type": "stream",
          "name": "stdout",
          "text": [
            "Requirement already satisfied: pandas in /usr/local/lib/python3.11/dist-packages (2.2.2)\n",
            "Requirement already satisfied: numpy>=1.23.2 in /usr/local/lib/python3.11/dist-packages (from pandas) (1.26.4)\n",
            "Requirement already satisfied: python-dateutil>=2.8.2 in /usr/local/lib/python3.11/dist-packages (from pandas) (2.8.2)\n",
            "Requirement already satisfied: pytz>=2020.1 in /usr/local/lib/python3.11/dist-packages (from pandas) (2024.2)\n",
            "Requirement already satisfied: tzdata>=2022.7 in /usr/local/lib/python3.11/dist-packages (from pandas) (2025.1)\n",
            "Requirement already satisfied: six>=1.5 in /usr/local/lib/python3.11/dist-packages (from python-dateutil>=2.8.2->pandas) (1.17.0)\n"
          ]
        }
      ],
      "source": [
        "pip install pandas"
      ]
    },
    {
      "cell_type": "code",
      "execution_count": 3,
      "id": "beea0487",
      "metadata": {
        "id": "beea0487",
        "outputId": "8a9f4bd7-d780-49d0-c443-0b44f68c92e7",
        "colab": {
          "base_uri": "https://localhost:8080/",
          "height": 35
        }
      },
      "outputs": [
        {
          "output_type": "execute_result",
          "data": {
            "text/plain": [
              "'2.2.2'"
            ],
            "application/vnd.google.colaboratory.intrinsic+json": {
              "type": "string"
            }
          },
          "metadata": {},
          "execution_count": 3
        }
      ],
      "source": [
        "pd.__version__"
      ]
    },
    {
      "cell_type": "code",
      "execution_count": 4,
      "id": "7e993f07",
      "metadata": {
        "id": "7e993f07"
      },
      "outputs": [],
      "source": [
        "import numpy as np"
      ]
    },
    {
      "cell_type": "code",
      "source": [
        "pip install numpy"
      ],
      "metadata": {
        "id": "zFcR156fHCk4",
        "outputId": "5a043e1e-3cf5-4b83-ffe0-4613e6fd098c",
        "colab": {
          "base_uri": "https://localhost:8080/"
        }
      },
      "id": "zFcR156fHCk4",
      "execution_count": 6,
      "outputs": [
        {
          "output_type": "stream",
          "name": "stdout",
          "text": [
            "Requirement already satisfied: numpy in /usr/local/lib/python3.11/dist-packages (1.26.4)\n"
          ]
        }
      ]
    },
    {
      "cell_type": "code",
      "execution_count": 5,
      "id": "62ab816d",
      "metadata": {
        "id": "62ab816d",
        "outputId": "423c4387-3dd2-44ac-9b9f-0143fecbd05c",
        "colab": {
          "base_uri": "https://localhost:8080/",
          "height": 35
        }
      },
      "outputs": [
        {
          "output_type": "execute_result",
          "data": {
            "text/plain": [
              "'1.26.4'"
            ],
            "application/vnd.google.colaboratory.intrinsic+json": {
              "type": "string"
            }
          },
          "metadata": {},
          "execution_count": 5
        }
      ],
      "source": [
        "np.__version__"
      ]
    },
    {
      "cell_type": "code",
      "execution_count": null,
      "id": "c8ff49e7",
      "metadata": {
        "id": "c8ff49e7",
        "outputId": "ffcbdf59-b3d6-4506-f98f-b208542f5810"
      },
      "outputs": [
        {
          "name": "stdout",
          "output_type": "stream",
          "text": [
            "0            3\n",
            "1    equivalue\n",
            "2          4.0\n",
            "3         test\n",
            "dtype: object\n"
          ]
        }
      ],
      "source": [
        "a=pd.Series([3,\"equivalue\",4.0,\"test\"])\n",
        "print(a)"
      ]
    },
    {
      "cell_type": "code",
      "execution_count": null,
      "id": "0eeff7e4",
      "metadata": {
        "id": "0eeff7e4",
        "outputId": "2f4aae5c-b002-4d44-ea12-8e2ad9bddd8c"
      },
      "outputs": [
        {
          "name": "stdout",
          "output_type": "stream",
          "text": [
            "3\n",
            "[3 'equivalue' 4.0 'test']\n"
          ]
        },
        {
          "data": {
            "text/plain": [
              "pandas.core.series.Series"
            ]
          },
          "execution_count": 13,
          "metadata": {},
          "output_type": "execute_result"
        }
      ],
      "source": [
        "#accessing elements\n",
        "\n",
        "print(a[0])\n",
        "print(a.values)\n",
        "type(a.values)\n",
        "type(a)"
      ]
    },
    {
      "cell_type": "code",
      "execution_count": null,
      "id": "88249cfe",
      "metadata": {
        "id": "88249cfe",
        "outputId": "96e81bff-df4b-4db3-9b6d-4737d4269e85"
      },
      "outputs": [
        {
          "name": "stdout",
          "output_type": "stream",
          "text": [
            "a            3\n",
            "b    equivalue\n",
            "c          4.0\n",
            "d         test\n",
            "dtype: object\n"
          ]
        }
      ],
      "source": [
        "b=pd.Series([3,\"equivalue\",4.0,\"test\"],index=[\"a\",\"b\",\"c\",\"d\"])\n",
        "print(b)"
      ]
    },
    {
      "cell_type": "code",
      "execution_count": null,
      "id": "af976058",
      "metadata": {
        "id": "af976058",
        "outputId": "045dc7f8-c806-4e6a-8e49-2f669a518756"
      },
      "outputs": [
        {
          "name": "stdout",
          "output_type": "stream",
          "text": [
            "3\n",
            "4.0\n",
            "Index(['a', 'b', 'c', 'd'], dtype='object')\n"
          ]
        }
      ],
      "source": [
        "print(b[0])\n",
        "print(b[\"c\"])\n",
        "print(b.index)"
      ]
    },
    {
      "cell_type": "code",
      "execution_count": null,
      "id": "53194d63",
      "metadata": {
        "id": "53194d63",
        "outputId": "6dcad650-b1b1-4533-a249-471a421a10f5"
      },
      "outputs": [
        {
          "name": "stdout",
          "output_type": "stream",
          "text": [
            "suresh    90\n",
            "magesh    80\n",
            "girish    85\n",
            "ramesh    75\n",
            "sukesh    95\n",
            "dtype: int64\n"
          ]
        }
      ],
      "source": [
        "marks={\"suresh\":90, \"magesh\":80,\"girish\":85,\"ramesh\":75,\"sukesh\":95}\n",
        "emp=pd.Series(marks) # Convert to Series\n",
        "print(emp)\n",
        "#print(type(emp))"
      ]
    },
    {
      "cell_type": "code",
      "execution_count": null,
      "id": "b87ca94a",
      "metadata": {
        "id": "b87ca94a",
        "outputId": "b03a46dc-2e34-42a5-92fb-184595b0bb1d"
      },
      "outputs": [
        {
          "data": {
            "text/plain": [
              "95"
            ]
          },
          "execution_count": 30,
          "metadata": {},
          "output_type": "execute_result"
        }
      ],
      "source": [
        "#emp[\"ramesh\"]\n",
        "emp[-1]"
      ]
    },
    {
      "cell_type": "code",
      "execution_count": null,
      "id": "2b499d8f",
      "metadata": {
        "id": "2b499d8f",
        "outputId": "a0876e42-edd7-4617-edd5-4340d7b68e0c"
      },
      "outputs": [
        {
          "data": {
            "text/plain": [
              "Series([], dtype: int64)"
            ]
          },
          "execution_count": 31,
          "metadata": {},
          "output_type": "execute_result"
        }
      ],
      "source": [
        "#emp[emp>80]\n",
        "emp[emp<75]"
      ]
    },
    {
      "cell_type": "code",
      "execution_count": null,
      "id": "b708c56c",
      "metadata": {
        "id": "b708c56c",
        "outputId": "10fc551e-19f7-43de-ea3b-9497fc7e88e5"
      },
      "outputs": [
        {
          "name": "stdout",
          "output_type": "stream",
          "text": [
            "suresh    90\n",
            "magesh    90\n",
            "girish    90\n",
            "ramesh    90\n",
            "sukesh    90\n",
            "dtype: int64\n"
          ]
        }
      ],
      "source": [
        "emp[emp>70]=90\n",
        "print(emp)"
      ]
    },
    {
      "cell_type": "code",
      "execution_count": null,
      "id": "0bc9e4c5",
      "metadata": {
        "id": "0bc9e4c5"
      },
      "outputs": [],
      "source": [
        "emp[emp>80]\n",
        "#emp[emp>80]=75\n",
        "print(emp)"
      ]
    },
    {
      "cell_type": "code",
      "execution_count": null,
      "id": "871d4393",
      "metadata": {
        "id": "871d4393",
        "outputId": "abe9d564-c6e2-42a6-cf04-3b097ea59fb3"
      },
      "outputs": [
        {
          "data": {
            "text/plain": [
              "True"
            ]
          },
          "execution_count": 36,
          "metadata": {},
          "output_type": "execute_result"
        }
      ],
      "source": [
        "\"suresh\" in emp"
      ]
    },
    {
      "cell_type": "code",
      "execution_count": null,
      "id": "66a6cb6c",
      "metadata": {
        "id": "66a6cb6c"
      },
      "outputs": [],
      "source": [
        "emp/10"
      ]
    },
    {
      "cell_type": "code",
      "execution_count": null,
      "id": "a0c857b5",
      "metadata": {
        "id": "a0c857b5"
      },
      "outputs": [],
      "source": [
        "#emp**5\n",
        "print(emp*5)"
      ]
    },
    {
      "cell_type": "code",
      "execution_count": null,
      "id": "b0cc1607",
      "metadata": {
        "id": "b0cc1607"
      },
      "outputs": [],
      "source": [
        "emp.isnull()"
      ]
    },
    {
      "cell_type": "code",
      "execution_count": null,
      "id": "437ccc92",
      "metadata": {
        "id": "437ccc92",
        "outputId": "23b6a2c6-c9c9-454c-dd60-5de0bb902c09"
      },
      "outputs": [
        {
          "data": {
            "text/plain": [
              "'test'"
            ]
          },
          "execution_count": 35,
          "metadata": {},
          "output_type": "execute_result"
        }
      ],
      "source": []
    },
    {
      "cell_type": "code",
      "execution_count": null,
      "id": "18c12d03",
      "metadata": {
        "id": "18c12d03"
      },
      "outputs": [],
      "source": []
    }
  ],
  "metadata": {
    "kernelspec": {
      "display_name": "Python 3 (ipykernel)",
      "language": "python",
      "name": "python3"
    },
    "language_info": {
      "codemirror_mode": {
        "name": "ipython",
        "version": 3
      },
      "file_extension": ".py",
      "mimetype": "text/x-python",
      "name": "python",
      "nbconvert_exporter": "python",
      "pygments_lexer": "ipython3",
      "version": "3.11.4"
    },
    "colab": {
      "provenance": []
    }
  },
  "nbformat": 4,
  "nbformat_minor": 5
}