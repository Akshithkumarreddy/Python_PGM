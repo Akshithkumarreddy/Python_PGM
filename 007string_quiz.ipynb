{
  "nbformat": 4,
  "nbformat_minor": 0,
  "metadata": {
    "colab": {
      "provenance": [],
      "authorship_tag": "ABX9TyOPs7AhpEmgqdgiVy+auqhs",
      "include_colab_link": true
    },
    "kernelspec": {
      "name": "python3",
      "display_name": "Python 3"
    },
    "language_info": {
      "name": "python"
    }
  },
  "cells": [
    {
      "cell_type": "markdown",
      "metadata": {
        "id": "view-in-github",
        "colab_type": "text"
      },
      "source": [
        "<a href=\"https://colab.research.google.com/github/Akshithkumarreddy/Python_PGM/blob/main/007string_quiz.ipynb\" target=\"_parent\"><img src=\"https://colab.research.google.com/assets/colab-badge.svg\" alt=\"Open In Colab\"/></a>"
      ]
    },
    {
      "cell_type": "code",
      "execution_count": 4,
      "metadata": {
        "colab": {
          "base_uri": "https://localhost:8080/"
        },
        "id": "MYvgEK5zeRaF",
        "outputId": "30f28deb-10b8-4821-9782-c09344406fe4"
      },
      "outputs": [
        {
          "output_type": "stream",
          "name": "stdout",
          "text": [
            "False hloolh\n"
          ]
        }
      ],
      "source": [
        "s = \"hello\"\n",
        "print(s.capitalize().islower(), s[::2] + s[::-2])"
      ]
    },
    {
      "cell_type": "code",
      "source": [
        "s = \"HelloWorld\"\n",
        "print(s[-5:-2] == s[5:8], s[-5:-2] is s[5:8])\n",
        "print(s[-5:-2])\n",
        "print(s[5:8])"
      ],
      "metadata": {
        "colab": {
          "base_uri": "https://localhost:8080/"
        },
        "id": "tvVAVZ47e-b9",
        "outputId": "f9211fc4-36c0-4687-9905-ebaeb6aee8cf"
      },
      "execution_count": 10,
      "outputs": [
        {
          "output_type": "stream",
          "name": "stdout",
          "text": [
            "True False\n",
            "Wor\n",
            "Wor\n"
          ]
        }
      ]
    },
    {
      "cell_type": "code",
      "source": [
        "s = \"Hello World\"\n",
        "print(s[6:].zfill(12))"
      ],
      "metadata": {
        "colab": {
          "base_uri": "https://localhost:8080/"
        },
        "id": "3Tudrb3_fsD4",
        "outputId": "f370452b-3668-4f44-bac6-9cb466534315"
      },
      "execution_count": 11,
      "outputs": [
        {
          "output_type": "stream",
          "name": "stdout",
          "text": [
            "0000000World\n"
          ]
        }
      ]
    },
    {
      "cell_type": "code",
      "source": [
        "s = \"Hello Horld\"\n",
        "s = s.replace(\"H\", \"J\", 1).replace(\"H\", \"K\", 1)\n",
        "print(s)"
      ],
      "metadata": {
        "colab": {
          "base_uri": "https://localhost:8080/"
        },
        "id": "Kwe_8KOIf_dI",
        "outputId": "b25ee7fe-bb53-40ce-fd21-27dc2376cb08"
      },
      "execution_count": 12,
      "outputs": [
        {
          "output_type": "stream",
          "name": "stdout",
          "text": [
            "Jello Korld\n"
          ]
        }
      ]
    },
    {
      "cell_type": "code",
      "source": [
        "s = \"Python is the best programming language\"\n",
        "print(s.count(\"Best\") == s.find(\"best\"))"
      ],
      "metadata": {
        "colab": {
          "base_uri": "https://localhost:8080/"
        },
        "id": "FkhYLrolgLB6",
        "outputId": "b80ba3ad-f423-4366-d295-aec72e8d1ae7"
      },
      "execution_count": 13,
      "outputs": [
        {
          "output_type": "stream",
          "name": "stdout",
          "text": [
            "False\n"
          ]
        }
      ]
    },
    {
      "cell_type": "code",
      "source": [
        "s = \"Python is the best programming language\"\n",
        "print(s.split(\" \")[-1][::-1])\n",
        "print(s.split(\" \")[-1])"
      ],
      "metadata": {
        "colab": {
          "base_uri": "https://localhost:8080/"
        },
        "id": "bGxlII6Hgask",
        "outputId": "559cfb93-a692-4cb1-dcd8-c86f2b196929"
      },
      "execution_count": 17,
      "outputs": [
        {
          "output_type": "stream",
          "name": "stdout",
          "text": [
            "egaugnal\n",
            "language\n"
          ]
        }
      ]
    },
    {
      "cell_type": "code",
      "source": [
        "s = \"hello8world\"\n",
        "print(s.isalnum(), s.isalpha())"
      ],
      "metadata": {
        "colab": {
          "base_uri": "https://localhost:8080/"
        },
        "id": "ALnUHY7pgwWP",
        "outputId": "0b3f04c3-6402-487c-ec5e-7d6a84919b18"
      },
      "execution_count": 18,
      "outputs": [
        {
          "output_type": "stream",
          "name": "stdout",
          "text": [
            "True False\n"
          ]
        }
      ]
    },
    {
      "cell_type": "code",
      "source": [
        "s = \"I am learning Python\"\n",
        "for x in s[5:]:\n",
        "    if x == ' ':\n",
        "        break\n",
        "    print(x, end='')"
      ],
      "metadata": {
        "colab": {
          "base_uri": "https://localhost:8080/"
        },
        "id": "u4dKv4FPg2Lz",
        "outputId": "dccc3212-0550-48af-ec62-b097cb7d847f"
      },
      "execution_count": 19,
      "outputs": [
        {
          "output_type": "stream",
          "name": "stdout",
          "text": [
            "learning"
          ]
        }
      ]
    },
    {
      "cell_type": "code",
      "source": [
        "s = \"abracadabra\"\n",
        "print(s.strip(\"a\").count(\"a\"))"
      ],
      "metadata": {
        "colab": {
          "base_uri": "https://localhost:8080/"
        },
        "id": "b9i_9w6zg-37",
        "outputId": "3ff0b5cc-dd0f-4975-bd0d-3a9b01773c14"
      },
      "execution_count": 22,
      "outputs": [
        {
          "output_type": "stream",
          "name": "stdout",
          "text": [
            "3\n"
          ]
        }
      ]
    },
    {
      "cell_type": "code",
      "source": [
        "s = \"hello\\tworld\"\n",
        "print(s.expandtabs(4))"
      ],
      "metadata": {
        "colab": {
          "base_uri": "https://localhost:8080/"
        },
        "id": "4-sm1-FNhTPC",
        "outputId": "a8161cc8-0423-49cb-f56f-7d0c6af1cd87"
      },
      "execution_count": 23,
      "outputs": [
        {
          "output_type": "stream",
          "name": "stdout",
          "text": [
            "hello   world\n"
          ]
        }
      ]
    },
    {
      "cell_type": "code",
      "source": [
        "s = \"123456\"\n",
        "#print(sum(map(int, s[::-2])))\n",
        "print(sum(map(int,s[::-2])))"
      ],
      "metadata": {
        "colab": {
          "base_uri": "https://localhost:8080/"
        },
        "id": "3aaj2asThXnS",
        "outputId": "b142c9ab-937e-4df9-bbdb-28696348bd9d"
      },
      "execution_count": 26,
      "outputs": [
        {
          "output_type": "stream",
          "name": "stdout",
          "text": [
            "12\n"
          ]
        }
      ]
    },
    {
      "cell_type": "code",
      "source": [
        "s = \"   Hello World   \"\n",
        "print(len(s.strip()))"
      ],
      "metadata": {
        "colab": {
          "base_uri": "https://localhost:8080/"
        },
        "id": "T4nS_DdYhqL-",
        "outputId": "719cf5ce-2f54-4b83-b2e7-2730616b817c"
      },
      "execution_count": 27,
      "outputs": [
        {
          "output_type": "stream",
          "name": "stdout",
          "text": [
            "11\n"
          ]
        }
      ]
    },
    {
      "cell_type": "code",
      "source": [
        "s = \"racecar\"\n",
        "print(s == s[::-1])"
      ],
      "metadata": {
        "colab": {
          "base_uri": "https://localhost:8080/"
        },
        "id": "oWeSiuI9hvti",
        "outputId": "746f4f66-d863-4082-f432-caaa113994db"
      },
      "execution_count": 28,
      "outputs": [
        {
          "output_type": "stream",
          "name": "stdout",
          "text": [
            "True\n"
          ]
        }
      ]
    },
    {
      "cell_type": "code",
      "source": [
        "s = \"hello\"\n",
        "#print(s.find(\"o\") + s.index(\"o\"))\n",
        "print(s.find(\"o\"))\n",
        "print(s.index(\"o\"))"
      ],
      "metadata": {
        "colab": {
          "base_uri": "https://localhost:8080/"
        },
        "id": "kvfSEv41h3jk",
        "outputId": "62c2ad24-86b4-401d-89e3-eee1e35db406"
      },
      "execution_count": 31,
      "outputs": [
        {
          "output_type": "stream",
          "name": "stdout",
          "text": [
            "4\n",
            "4\n"
          ]
        }
      ]
    },
    {
      "cell_type": "code",
      "source": [
        "s = \"hello\"\n",
        "print(s.count('l') - s.index('l'))\n"
      ],
      "metadata": {
        "colab": {
          "base_uri": "https://localhost:8080/"
        },
        "id": "8agL_trxiHxv",
        "outputId": "4d1e035a-5770-4b62-e325-0ce51a0081a3"
      },
      "execution_count": 32,
      "outputs": [
        {
          "output_type": "stream",
          "name": "stdout",
          "text": [
            "0\n"
          ]
        }
      ]
    },
    {
      "cell_type": "code",
      "source": [
        "s = \"Hello World\"\n",
        "print(s.lower().title())"
      ],
      "metadata": {
        "colab": {
          "base_uri": "https://localhost:8080/"
        },
        "id": "nwW44SppicsH",
        "outputId": "12f02acd-e866-468c-841b-64bdfc45a4a7"
      },
      "execution_count": 33,
      "outputs": [
        {
          "output_type": "stream",
          "name": "stdout",
          "text": [
            "Hello World\n"
          ]
        }
      ]
    },
    {
      "cell_type": "code",
      "source": [
        "s = \"abcde\"\n",
        "print(''.join(chr(ord(c) - 1) for c in s))"
      ],
      "metadata": {
        "colab": {
          "base_uri": "https://localhost:8080/"
        },
        "id": "yfgsRsnIiqyB",
        "outputId": "78a7b0d2-3f87-4bd8-fb74-2f1419e4db22"
      },
      "execution_count": 34,
      "outputs": [
        {
          "output_type": "stream",
          "name": "stdout",
          "text": [
            "`abcd\n"
          ]
        }
      ]
    },
    {
      "cell_type": "code",
      "source": [
        "s = \"abracadabra\"\n",
        "print(s.count(\"a\", 3, 10))"
      ],
      "metadata": {
        "colab": {
          "base_uri": "https://localhost:8080/"
        },
        "id": "Ef1WVRJwiyIB",
        "outputId": "dc7186fc-d931-462f-953a-cdebd0a63c24"
      },
      "execution_count": 35,
      "outputs": [
        {
          "output_type": "stream",
          "name": "stdout",
          "text": [
            "3\n"
          ]
        }
      ]
    },
    {
      "cell_type": "code",
      "source": [
        "s = \"ab\" + \"cd\" * 2\n",
        "print(s.replace(\"cd\", \"dc\", 1))"
      ],
      "metadata": {
        "colab": {
          "base_uri": "https://localhost:8080/"
        },
        "id": "T4GLgha5jBCz",
        "outputId": "895429ad-3388-40e4-dca0-bf1f0f734a9e"
      },
      "execution_count": 36,
      "outputs": [
        {
          "output_type": "stream",
          "name": "stdout",
          "text": [
            "abdccd\n"
          ]
        }
      ]
    },
    {
      "cell_type": "code",
      "source": [
        "s = \"abcde\"\n",
        "print(sum(ord(c) for c in s) % len(s))"
      ],
      "metadata": {
        "colab": {
          "base_uri": "https://localhost:8080/"
        },
        "id": "LOGwyMcljL4r",
        "outputId": "4ae7efb6-87d8-4426-9085-f22614164be4"
      },
      "execution_count": 37,
      "outputs": [
        {
          "output_type": "stream",
          "name": "stdout",
          "text": [
            "0\n"
          ]
        }
      ]
    }
  ]
}