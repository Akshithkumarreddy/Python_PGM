{
  "nbformat": 4,
  "nbformat_minor": 0,
  "metadata": {
    "colab": {
      "provenance": [],
      "include_colab_link": true
    },
    "kernelspec": {
      "name": "python3",
      "display_name": "Python 3"
    },
    "language_info": {
      "name": "python"
    }
  },
  "cells": [
    {
      "cell_type": "markdown",
      "metadata": {
        "id": "view-in-github",
        "colab_type": "text"
      },
      "source": [
        "<a href=\"https://colab.research.google.com/github/Akshithkumarreddy/Python_PGM/blob/main/07_02_Python_01_Skeleton.ipynb\" target=\"_parent\"><img src=\"https://colab.research.google.com/assets/colab-badge.svg\" alt=\"Open In Colab\"/></a>"
      ]
    },
    {
      "cell_type": "markdown",
      "source": [
        "# Python Basics"
      ],
      "metadata": {
        "id": "WVNCmAn2ZCf1"
      }
    },
    {
      "cell_type": "markdown",
      "source": [
        "# **Python Indentation**\n",
        "\n",
        "Indentation refers to the spaces at the beginning of a code line.\n",
        "\n",
        "Where in other programming languages the indentation in code is for readability only, the indentation in Python is very important.\n",
        "\n",
        "Python uses indentation to indicate a block of code.\n",
        "\n"
      ],
      "metadata": {
        "id": "vUL6fpjeE62x"
      }
    },
    {
      "cell_type": "code",
      "execution_count": null,
      "metadata": {
        "id": "8LYWrFjCERXS",
        "colab": {
          "base_uri": "https://localhost:8080/"
        },
        "outputId": "9f7795d9-1db8-41a6-acd0-110bcffb0ee1"
      },
      "outputs": [
        {
          "output_type": "stream",
          "name": "stdout",
          "text": [
            "Five is greater than two\n",
            "Five is NOT greater than two\n"
          ]
        }
      ],
      "source": [
        "if 5>2:\n",
        "  print('Five is greater than two')\n",
        "  print('Five is NOT greater than two')"
      ]
    },
    {
      "cell_type": "markdown",
      "source": [
        "Python will give you an error if you skip the indentation:"
      ],
      "metadata": {
        "id": "aMvmg7SnE9Qo"
      }
    },
    {
      "cell_type": "code",
      "source": [
        "if 5>2:\n",
        "print('Five is greater than two')"
      ],
      "metadata": {
        "id": "weqPSOAaFBv4",
        "colab": {
          "base_uri": "https://localhost:8080/",
          "height": 108
        },
        "outputId": "5ffacae3-a38f-4046-d880-3a7e8d3c7a2d"
      },
      "execution_count": null,
      "outputs": [
        {
          "output_type": "error",
          "ename": "IndentationError",
          "evalue": "expected an indented block after 'if' statement on line 1 (<ipython-input-3-6f7ff996d4ae>, line 2)",
          "traceback": [
            "\u001b[0;36m  File \u001b[0;32m\"<ipython-input-3-6f7ff996d4ae>\"\u001b[0;36m, line \u001b[0;32m2\u001b[0m\n\u001b[0;31m    print('Five is greater than two')\u001b[0m\n\u001b[0m    ^\u001b[0m\n\u001b[0;31mIndentationError\u001b[0m\u001b[0;31m:\u001b[0m expected an indented block after 'if' statement on line 1\n"
          ]
        }
      ]
    },
    {
      "cell_type": "markdown",
      "source": [
        "The number of spaces is up to you as a programmer, the most common use is four, but it has to be at least one.\n",
        "\n"
      ],
      "metadata": {
        "id": "TjGBb3BaFCGB"
      }
    },
    {
      "cell_type": "code",
      "source": [
        "if 5>2:\n",
        "  print('hello world')\n",
        "if 7>3:\n",
        "      print('testing')"
      ],
      "metadata": {
        "id": "y13aQwR5FEX3",
        "colab": {
          "base_uri": "https://localhost:8080/"
        },
        "outputId": "cd7d6ba8-6de7-41dd-afce-6446855d3ab2"
      },
      "execution_count": null,
      "outputs": [
        {
          "output_type": "stream",
          "name": "stdout",
          "text": [
            "hello world\n",
            "testing\n"
          ]
        }
      ]
    },
    {
      "cell_type": "markdown",
      "source": [
        "You have to use the same number of spaces in the same block of code, otherwise Python will give you an error:"
      ],
      "metadata": {
        "id": "eD7ce_P-R5XZ"
      }
    },
    {
      "cell_type": "code",
      "source": [
        "if 5>2:\n",
        "  print('hello world')\n",
        "if 7>3:\n",
        "      print('testing')\n",
        " #   print('testing intentation')"
      ],
      "metadata": {
        "id": "_1uULye0R60-"
      },
      "execution_count": null,
      "outputs": []
    },
    {
      "cell_type": "markdown",
      "source": [
        "# **Python Variables**\n",
        "\n",
        "In Python, variables are created when you assign a value to it:"
      ],
      "metadata": {
        "id": "wFoY-KHLR7YS"
      }
    },
    {
      "cell_type": "code",
      "source": [
        "x = 5\n",
        "y = 'Hello world'"
      ],
      "metadata": {
        "id": "OKGYccp0R7wA"
      },
      "execution_count": null,
      "outputs": []
    },
    {
      "cell_type": "markdown",
      "source": [
        "**Python has no command for declaring a variable**"
      ],
      "metadata": {
        "id": "tk5s8bidSMpS"
      }
    },
    {
      "cell_type": "code",
      "source": [],
      "metadata": {
        "id": "Qt6czmhUSPrI"
      },
      "execution_count": null,
      "outputs": []
    },
    {
      "cell_type": "markdown",
      "source": [],
      "metadata": {
        "id": "uJ_c5p6SSQTq"
      }
    },
    {
      "cell_type": "markdown",
      "source": [
        "# **Comments**\n",
        "Python has commenting capability for the purpose of in-code documentation.\n",
        "\n",
        "Comments start *with* a #, and Python will render the rest of the line as a comment:\n",
        "\n",
        "\n",
        "* Comments can be used to explain Python code.\n",
        "\n",
        "* Comments can be used to make the code more readable.\n",
        "\n",
        "* Comments can be used to prevent execution when testing code.\n",
        "\n",
        "\n",
        "\n"
      ],
      "metadata": {
        "id": "xGzWiVawSU5K"
      }
    },
    {
      "cell_type": "code",
      "source": [
        "#Python program comment class\n",
        "print('Hello')"
      ],
      "metadata": {
        "id": "lW5CS4hMSXo1",
        "colab": {
          "base_uri": "https://localhost:8080/"
        },
        "outputId": "2fecf163-72d8-4802-9947-2f39a409429b"
      },
      "execution_count": null,
      "outputs": [
        {
          "output_type": "stream",
          "name": "stdout",
          "text": [
            "Hello\n"
          ]
        }
      ]
    },
    {
      "cell_type": "markdown",
      "source": [
        "Creating a Comment\n",
        "Comments starts with a #, and Python will ignore them:"
      ],
      "metadata": {
        "id": "sgLTJl3USmhU"
      }
    },
    {
      "cell_type": "code",
      "source": [],
      "metadata": {
        "id": "PVFXtSy1Sm5u"
      },
      "execution_count": null,
      "outputs": []
    },
    {
      "cell_type": "markdown",
      "source": [
        "Comments can be placed at the end of a line, and Python will ignore the rest of the line:"
      ],
      "metadata": {
        "id": "_RNk80xCS-0_"
      }
    },
    {
      "cell_type": "code",
      "source": [
        "print('hello world') #printing hello world"
      ],
      "metadata": {
        "id": "FSc6G5RMS-Ak",
        "colab": {
          "base_uri": "https://localhost:8080/"
        },
        "outputId": "3beace2b-1c59-44c0-86c2-6144b1231f4d"
      },
      "execution_count": null,
      "outputs": [
        {
          "output_type": "stream",
          "name": "stdout",
          "text": [
            "hello world\n"
          ]
        }
      ]
    },
    {
      "cell_type": "markdown",
      "source": [
        "A comment does not have to be text that explains the code, it can also be used to prevent Python from executing code:\n",
        "\n"
      ],
      "metadata": {
        "id": "-isgMpR9TEf4"
      }
    },
    {
      "cell_type": "code",
      "source": [],
      "metadata": {
        "id": "fQ1BSUJzTEO6"
      },
      "execution_count": null,
      "outputs": []
    },
    {
      "cell_type": "markdown",
      "source": [
        "# **Multiline Comments**\n",
        "Python does not really have a syntax for multiline comments.\n",
        "\n",
        "To add a multiline comment you could insert a # for each line:"
      ],
      "metadata": {
        "id": "Ejui5veHTJIc"
      }
    },
    {
      "cell_type": "code",
      "source": [
        "#a\n",
        "#b\n",
        "#c\n",
        "#d\n",
        "print('hello')"
      ],
      "metadata": {
        "id": "6SSbiaoXTKCU",
        "colab": {
          "base_uri": "https://localhost:8080/"
        },
        "outputId": "2acf7341-7403-499f-ce67-42164ca1469d"
      },
      "execution_count": null,
      "outputs": [
        {
          "output_type": "stream",
          "name": "stdout",
          "text": [
            "hello\n"
          ]
        }
      ]
    },
    {
      "cell_type": "markdown",
      "source": [
        "Or, not quite as intended, you can use a multiline string.\n",
        "\n",
        "Since Python will ignore string literals that are not assigned to a variable, you can add a multiline string (triple quotes) in your code, and place your comment inside it:"
      ],
      "metadata": {
        "id": "MV5qxw_iTJo1"
      }
    },
    {
      "cell_type": "markdown",
      "source": [],
      "metadata": {
        "id": "P7tMSDnMTUgW"
      }
    },
    {
      "cell_type": "code",
      "source": [
        "'''a\n",
        "b\n",
        "c\n",
        "d'''\n",
        "print('hello')"
      ],
      "metadata": {
        "id": "nPiY8tLXTVHq",
        "colab": {
          "base_uri": "https://localhost:8080/"
        },
        "outputId": "e4466337-fe4e-437e-a778-0569deb1ac7b"
      },
      "execution_count": null,
      "outputs": [
        {
          "output_type": "stream",
          "name": "stdout",
          "text": [
            "hello\n"
          ]
        }
      ]
    },
    {
      "cell_type": "markdown",
      "source": [
        "# **Variables**\n",
        "Variables are containers for storing data values.\n",
        "\n",
        "Creating Variables\n",
        "Python has no command for declaring a variable.\n",
        "\n",
        "A variable is created the moment you first assign a value to it."
      ],
      "metadata": {
        "id": "BBc7fdexTVd4"
      }
    },
    {
      "cell_type": "code",
      "source": [
        "x = 5\n",
        "print(type(x),x)\n",
        "x = 'hello world'\n",
        "print(type(x),x)"
      ],
      "metadata": {
        "id": "fIYsBRmdTktX",
        "colab": {
          "base_uri": "https://localhost:8080/"
        },
        "outputId": "8fb676fe-7377-4923-a479-301f56b1fce5"
      },
      "execution_count": null,
      "outputs": [
        {
          "output_type": "stream",
          "name": "stdout",
          "text": [
            "<class 'int'> 5\n",
            "<class 'str'> hello world\n"
          ]
        }
      ]
    },
    {
      "cell_type": "code",
      "source": [
        "x = \"hyderabad\"\n",
        "print(type(x),x)\n",
        "x = 'hyderabad'\n",
        "print(type(x),x)"
      ],
      "metadata": {
        "id": "lVlw6a38kj-1",
        "outputId": "6345d3c2-d4a3-4580-9ab5-9c7e110023da",
        "colab": {
          "base_uri": "https://localhost:8080/"
        }
      },
      "execution_count": null,
      "outputs": [
        {
          "output_type": "stream",
          "name": "stdout",
          "text": [
            "<class 'str'> hyderabad\n",
            "<class 'str'> hyderabad\n"
          ]
        }
      ]
    },
    {
      "cell_type": "code",
      "source": [
        "x = 5\n",
        "x = 'india'\n",
        "print(x)"
      ],
      "metadata": {
        "id": "0bv92iI0lujD",
        "outputId": "0ba65d21-721a-40eb-c760-3f3760200858",
        "colab": {
          "base_uri": "https://localhost:8080/"
        }
      },
      "execution_count": null,
      "outputs": [
        {
          "output_type": "stream",
          "name": "stdout",
          "text": [
            "india\n"
          ]
        }
      ]
    },
    {
      "cell_type": "code",
      "source": [
        "x = 5\n",
        "x = 'india'\n",
        "X=6\n",
        "print(x)"
      ],
      "metadata": {
        "id": "GqmDD-WfmPVw",
        "outputId": "8581d5fe-ba9d-4867-b9b9-aae0fdf6607e",
        "colab": {
          "base_uri": "https://localhost:8080/"
        }
      },
      "execution_count": null,
      "outputs": [
        {
          "output_type": "stream",
          "name": "stdout",
          "text": [
            "india\n"
          ]
        }
      ]
    },
    {
      "cell_type": "code",
      "source": [
        "print('Hyderabad's')"
      ],
      "metadata": {
        "id": "7rqQ58zAmmE8",
        "outputId": "430f181c-de7e-41d8-c138-bb9413b885e3",
        "colab": {
          "base_uri": "https://localhost:8080/",
          "height": 108
        }
      },
      "execution_count": null,
      "outputs": [
        {
          "output_type": "error",
          "ename": "SyntaxError",
          "evalue": "unterminated string literal (detected at line 1) (<ipython-input-23-79dfb1359197>, line 1)",
          "traceback": [
            "\u001b[0;36m  File \u001b[0;32m\"<ipython-input-23-79dfb1359197>\"\u001b[0;36m, line \u001b[0;32m1\u001b[0m\n\u001b[0;31m    print('Hyderabad's')\u001b[0m\n\u001b[0m                      ^\u001b[0m\n\u001b[0;31mSyntaxError\u001b[0m\u001b[0;31m:\u001b[0m unterminated string literal (detected at line 1)\n"
          ]
        }
      ]
    },
    {
      "cell_type": "code",
      "source": [
        "print(\"Hyderabad's\")"
      ],
      "metadata": {
        "id": "aZZCLM2Vm4Dz",
        "outputId": "eb3925e3-694d-48fc-de4e-cd3105fd9dab",
        "colab": {
          "base_uri": "https://localhost:8080/"
        }
      },
      "execution_count": null,
      "outputs": [
        {
          "output_type": "stream",
          "name": "stdout",
          "text": [
            "Hyderabad's\n"
          ]
        }
      ]
    },
    {
      "cell_type": "markdown",
      "source": [
        "Variables do not need to be declared with any particular type, and can even change type after they have been set."
      ],
      "metadata": {
        "id": "T4Vy4pIsTllp"
      }
    },
    {
      "cell_type": "markdown",
      "source": [
        "#**Variable Names**\n",
        "\n",
        "1. A variable can have a short name (like x and y) or a more descriptive name (age, carname, total_volume). Rules for Python variables:\n",
        "\n",
        "2. A variable name must start with a letter or the underscore character\n",
        "\n",
        "3. A variable name cannot start with a number\n",
        "\n",
        "4. A  variable name can only contain alpha-numeric characters and underscores (A-z, 0-9, and _ )\n",
        "5. Variable names are case-sensitive (age, Age and AGE are three different variables)\n",
        "6. A variable name cannot be any of the Python keywords.\n",
        "\n",
        "\n"
      ],
      "metadata": {
        "id": "ToSJZ-zQUt79"
      }
    },
    {
      "cell_type": "code",
      "source": [
        "myvar = 'Ram'\n",
        "my_var = 'Ram'\n",
        "_my_var = \"Ram\"\n",
        "myVar = \"Ram\"\n",
        "MYVAR = \"Ram\"\n",
        "myvar2 = \"Ram\""
      ],
      "metadata": {
        "id": "nPf-v6NAm3Bq"
      },
      "execution_count": null,
      "outputs": []
    },
    {
      "cell_type": "code",
      "source": [
        "2myvar = 'Ram'\n",
        "my-var = 'Ram'\n",
        "my var = 'Ram'"
      ],
      "metadata": {
        "id": "T2MjO-8GoLJh",
        "outputId": "c57da1f7-5493-4978-b359-ad6f92c98401",
        "colab": {
          "base_uri": "https://localhost:8080/",
          "height": 108
        }
      },
      "execution_count": null,
      "outputs": [
        {
          "output_type": "error",
          "ename": "SyntaxError",
          "evalue": "invalid decimal literal (<ipython-input-26-da25537dd045>, line 1)",
          "traceback": [
            "\u001b[0;36m  File \u001b[0;32m\"<ipython-input-26-da25537dd045>\"\u001b[0;36m, line \u001b[0;32m1\u001b[0m\n\u001b[0;31m    2myvar = 'Ram'\u001b[0m\n\u001b[0m    ^\u001b[0m\n\u001b[0;31mSyntaxError\u001b[0m\u001b[0;31m:\u001b[0m invalid decimal literal\n"
          ]
        }
      ]
    },
    {
      "cell_type": "markdown",
      "source": [
        "# Multi Words Variable Names\n",
        "Variable names with more than one word can be difficult to read.\n",
        "\n",
        "There are several techniques you can use to make them more readable:\n",
        "\n",
        "**Camel Case**\n",
        "Each word, except the first, starts with a capital letter:"
      ],
      "metadata": {
        "id": "fFV0VL5DU-Xs"
      }
    },
    {
      "cell_type": "code",
      "source": [
        "»"
      ],
      "metadata": {
        "id": "h6Ta331WVMMl",
        "colab": {
          "base_uri": "https://localhost:8080/"
        },
        "outputId": "6f5d7c24-40d4-4e77-b05e-bc97e459c76f"
      },
      "execution_count": null,
      "outputs": [
        {
          "output_type": "stream",
          "name": "stdout",
          "text": [
            "orange <class 'str'>\n",
            "apple <class 'str'>\n",
            "1234 <class 'int'>\n"
          ]
        }
      ]
    },
    {
      "cell_type": "markdown",
      "source": [
        "**Pascal Case**\n",
        "Each word starts with a capital letter:"
      ],
      "metadata": {
        "id": "AX9L9W5ZVL2_"
      }
    },
    {
      "cell_type": "code",
      "source": [],
      "metadata": {
        "id": "vQSAQLkwVQC7",
        "colab": {
          "base_uri": "https://localhost:8080/"
        },
        "outputId": "386550df-7c55-4e4e-84fe-b1a6ef21b800"
      },
      "execution_count": null,
      "outputs": [
        {
          "output_type": "stream",
          "name": "stdout",
          "text": [
            "orange\n",
            "orange\n",
            "orange\n"
          ]
        }
      ]
    },
    {
      "cell_type": "code",
      "source": [],
      "metadata": {
        "colab": {
          "base_uri": "https://localhost:8080/",
          "height": 143
        },
        "id": "LHfCviiAv3xv",
        "outputId": "0a48ea17-8a2a-46e6-b62f-ea2f32d1c001"
      },
      "execution_count": null,
      "outputs": [
        {
          "output_type": "stream",
          "name": "stdout",
          "text": [
            "orange\n",
            "orange\n",
            "orange\n",
            "orange\n",
            "orange\n",
            "banana\n"
          ]
        },
        {
          "output_type": "execute_result",
          "data": {
            "text/plain": [
              "'banana'"
            ],
            "application/vnd.google.colaboratory.intrinsic+json": {
              "type": "string"
            }
          },
          "metadata": {},
          "execution_count": 7
        }
      ]
    },
    {
      "cell_type": "markdown",
      "source": [
        "**Snake Case**\n",
        "Each word is separated by an underscore character:"
      ],
      "metadata": {
        "id": "N3Gzwc1-VWAG"
      }
    },
    {
      "cell_type": "code",
      "source": [],
      "metadata": {
        "id": "s4Pevh0tVWZh"
      },
      "execution_count": null,
      "outputs": []
    },
    {
      "cell_type": "markdown",
      "source": [
        "# **Many Values to Multiple Variables**\n",
        "\n",
        "Python allows you to assign values to multiple variables in one line:"
      ],
      "metadata": {
        "id": "tm3FcJ4DVqw7"
      }
    },
    {
      "cell_type": "code",
      "source": [
        "x , y , z = \"orange\" , \"orange\" , \"orange\"\n",
        "print(x)\n",
        "print(y)\n",
        "print(z)"
      ],
      "metadata": {
        "id": "Jf3Jbs_sVu9r",
        "colab": {
          "base_uri": "https://localhost:8080/"
        },
        "outputId": "2344a5f4-c610-46de-cbc2-11960ab84f1a"
      },
      "execution_count": null,
      "outputs": [
        {
          "output_type": "stream",
          "name": "stdout",
          "text": [
            "orange\n",
            "orange\n",
            "orange\n"
          ]
        }
      ]
    },
    {
      "cell_type": "markdown",
      "source": [
        "# **One Value to Multiple Variables**\n",
        "And you can assign the same value to multiple variables in one line:\n",
        "\n"
      ],
      "metadata": {
        "id": "KW-wmUgWVyTP"
      }
    },
    {
      "cell_type": "code",
      "source": [
        "x , y , z = \"orange\" , \"orange\" , \"orange\"\n",
        "print(x)\n",
        "print(y)\n",
        "print(z)"
      ],
      "metadata": {
        "id": "8Elgcz1eV1rs",
        "colab": {
          "base_uri": "https://localhost:8080/"
        },
        "outputId": "f82567c5-1ee7-4bf8-f3b2-dcefb4f8054a"
      },
      "execution_count": null,
      "outputs": [
        {
          "output_type": "stream",
          "name": "stdout",
          "text": [
            "orange\n",
            "orange\n",
            "orange\n"
          ]
        }
      ]
    },
    {
      "cell_type": "code",
      "source": [
        "x = y = z = \"orange\"\n",
        "print(x)\n",
        "print(y)\n",
        "print(z)\n",
        "z = \"banana\"\n",
        "print(x)\n",
        "print(y)\n",
        "print(z)\n",
        "z"
      ],
      "metadata": {
        "colab": {
          "base_uri": "https://localhost:8080/",
          "height": 143
        },
        "id": "uUncveg0xYS4",
        "outputId": "ea013abd-ea09-4518-822f-c862e1aecbfd"
      },
      "execution_count": null,
      "outputs": [
        {
          "output_type": "stream",
          "name": "stdout",
          "text": [
            "orange\n",
            "orange\n",
            "orange\n",
            "orange\n",
            "orange\n",
            "banana\n"
          ]
        },
        {
          "output_type": "execute_result",
          "data": {
            "text/plain": [
              "'banana'"
            ],
            "application/vnd.google.colaboratory.intrinsic+json": {
              "type": "string"
            }
          },
          "metadata": {},
          "execution_count": 10
        }
      ]
    },
    {
      "cell_type": "markdown",
      "source": [
        "# **Unpack a Collection**\n",
        "\n",
        "If you have a collection of values in a list, tuple etc. Python allows you to extract the values into variables. This is called unpacking."
      ],
      "metadata": {
        "id": "5nBcMlKXV2RP"
      }
    },
    {
      "cell_type": "code",
      "source": [
        "fruits = [\"apple\",\"banana\",\"cherry\"]\n",
        "x , y , z = fruits\n",
        "print(x)\n",
        "print(y)\n",
        "print(z)"
      ],
      "metadata": {
        "id": "EI0ILNUlV8uN",
        "colab": {
          "base_uri": "https://localhost:8080/"
        },
        "outputId": "0ba25bac-a5d0-4678-d7b5-e6764f2499a2"
      },
      "execution_count": null,
      "outputs": [
        {
          "output_type": "stream",
          "name": "stdout",
          "text": [
            "apple\n",
            "banana\n",
            "cherry\n"
          ]
        }
      ]
    },
    {
      "cell_type": "markdown",
      "source": [
        "# **Python Output Variables**\n",
        "The Python print() function is often used to output variables."
      ],
      "metadata": {
        "id": "fWeATLASWBoX"
      }
    },
    {
      "cell_type": "code",
      "source": [
        "print(x)\n",
        "x = \"python\"\n",
        "y = \"is\"\n",
        "z = \"awesome\"\n",
        "print(x,y,z)\n",
        "print(x+y+z)\n",
        "x= 10\n",
        "y = 5\n",
        "print(x+y)"
      ],
      "metadata": {
        "id": "UMehdym8WGtI",
        "colab": {
          "base_uri": "https://localhost:8080/"
        },
        "outputId": "a461e3b1-96eb-4849-9722-3052723a97f2"
      },
      "execution_count": null,
      "outputs": [
        {
          "output_type": "stream",
          "name": "stdout",
          "text": [
            "python\n",
            "python is awesome\n",
            "pythonisawesome\n",
            "15\n"
          ]
        }
      ]
    },
    {
      "cell_type": "code",
      "source": [
        "x= 10\n",
        "y = \"hello\"\n",
        "#print(x+y)\n",
        "print(x,y)"
      ],
      "metadata": {
        "colab": {
          "base_uri": "https://localhost:8080/"
        },
        "id": "Fntzc75RysnU",
        "outputId": "a479a4bd-304c-432d-8369-64e10d3d21cf"
      },
      "execution_count": null,
      "outputs": [
        {
          "output_type": "stream",
          "name": "stdout",
          "text": [
            "10 hello\n"
          ]
        }
      ]
    },
    {
      "cell_type": "markdown",
      "source": [
        "# **Python-Global Variables**\n",
        "\n",
        "Variables that are created outside of a function (as in all of the examples in the previous pages) are known as global variables.\n",
        "\n",
        "Global variables can be used by everyone, both inside of functions and outside."
      ],
      "metadata": {
        "id": "2goi7ckGWN5b"
      }
    },
    {
      "cell_type": "code",
      "source": [
        "x = \"Awesome\" # global variable\n",
        "\n",
        "def func():\n",
        "    print(\"python is\",x)\n",
        "\n",
        "func()"
      ],
      "metadata": {
        "id": "kfu5I9LXWROH",
        "colab": {
          "base_uri": "https://localhost:8080/"
        },
        "outputId": "f34efc48-8fce-4ed7-a8ca-3d492c8feff4"
      },
      "execution_count": null,
      "outputs": [
        {
          "output_type": "stream",
          "name": "stdout",
          "text": [
            "python is Awesome\n"
          ]
        }
      ]
    },
    {
      "cell_type": "code",
      "source": [
        "x = \"Awesome\" # global variable\n",
        "\n",
        "def func():\n",
        "    x = \"fantastic\" #local variable\n",
        "    print(\"python is\",x)\n",
        "\n",
        "print(\"i am \",x)\n",
        "func()"
      ],
      "metadata": {
        "id": "nU9j7TzH0Spo",
        "outputId": "e6427e41-a9ba-4d2c-a21f-b52a521ea522",
        "colab": {
          "base_uri": "https://localhost:8080/"
        }
      },
      "execution_count": null,
      "outputs": [
        {
          "output_type": "stream",
          "name": "stdout",
          "text": [
            "i am  Awesome\n",
            "python is fantastic\n"
          ]
        }
      ]
    },
    {
      "cell_type": "markdown",
      "source": [
        "# **The global Keyword**\n",
        "\n",
        "Normally, when you create a variable inside a function, that variable is local, and can only be used inside that function.\n",
        "\n",
        "To create a global variable inside a function, you can use the global keyword."
      ],
      "metadata": {
        "id": "3F7R0kosWUxq"
      }
    },
    {
      "cell_type": "code",
      "source": [
        "x = 'Awesome'\n",
        "\n",
        "def func():\n",
        "    global x\n",
        "    x = \"fantastic\"\n",
        "    print(\"python is\",x)\n",
        "\n",
        "print(\"i am\",x)\n",
        "func()\n",
        "print(\"i am\",x)"
      ],
      "metadata": {
        "id": "GFrjb99eWbB8",
        "colab": {
          "base_uri": "https://localhost:8080/"
        },
        "outputId": "6a6c9430-e6f6-4aab-ad42-8a2a4038e308"
      },
      "execution_count": null,
      "outputs": [
        {
          "output_type": "stream",
          "name": "stdout",
          "text": [
            "i am Awesome\n",
            "python is fantastic\n",
            "i am fantastic\n"
          ]
        }
      ]
    },
    {
      "cell_type": "markdown",
      "source": [
        "# **Built-in Data Types**\n",
        "\n",
        "In programming, data type is an important concept.\n",
        "\n",
        "Variables can store data of different types, and different types can do different things.\n",
        "\n",
        "Python has the following data types built-in by default, in these categories:\n",
        "\n",
        "1. Text Type:\tstr\n",
        "2. Numeric Types:\tint, float, complex\n",
        "3. Sequence Types:\tlist, tuple, range\n",
        "4. Mapping Type:\tdict\n",
        "5. Set Types:\tset, frozenset\n",
        "6. Boolean Type:\tbool\n",
        "7. Binary Types:\tbytes, bytearray, memoryview\n",
        "8. None Type:\tNoneType"
      ],
      "metadata": {
        "id": "iegmapT_WpKk"
      }
    },
    {
      "cell_type": "markdown",
      "source": [
        "# Getting the Data Type\n",
        "You can get the data type of any object by using the type() function:"
      ],
      "metadata": {
        "id": "R-zexAgMW8p9"
      }
    },
    {
      "cell_type": "code",
      "source": [
        "x = 5\n",
        "print(type(x))"
      ],
      "metadata": {
        "id": "q-ZDQKOLW2jr",
        "colab": {
          "base_uri": "https://localhost:8080/"
        },
        "outputId": "05ad11d8-a890-4042-f5cb-417fc9b622ed"
      },
      "execution_count": null,
      "outputs": [
        {
          "output_type": "stream",
          "name": "stdout",
          "text": [
            "<class 'int'>\n"
          ]
        }
      ]
    },
    {
      "cell_type": "markdown",
      "source": [
        "# Setting the Data Type\n",
        "In Python, the data type is set when you assign a value to a variable:"
      ],
      "metadata": {
        "id": "sQPcdQRQXPCx"
      }
    },
    {
      "cell_type": "code",
      "source": [
        "x =\"hello world\"\n",
        "print(type(x))\n",
        "x = 10\n",
        "print(type(x))\n",
        "x = 10.5\n",
        "print(type(x))\n",
        "x = 1j\n",
        "print(type(x))\n",
        "x = [1,2,3]\n",
        "print(type(x))\n",
        "x = (1,2,3)\n",
        "print(type(x))\n",
        "x = range(6)\n",
        "print(type(x))\n",
        "x = {\"name\":\"john\",\"age\":36}\n",
        "print(type(x))\n",
        "x = {1,3,5}\n",
        "print(type(x))\n",
        "x = frozenset({1,3,5})\n",
        "print(type(x))\n",
        "x = True\n",
        "print(type(x))\n",
        "x = b\"hello\"\n",
        "print(x,type(x))\n",
        "x = memoryview(bytes(5))\n",
        "print(x,type(x))\n",
        "x = bytearray(x)\n",
        "print(x,type(x))\n",
        "x = None\n",
        "print(x,type(x))"
      ],
      "metadata": {
        "id": "ve5vfaoNXQ_5",
        "colab": {
          "base_uri": "https://localhost:8080/"
        },
        "outputId": "ed2b0196-bf89-40ed-9e9d-6fa74c9e9fa3"
      },
      "execution_count": null,
      "outputs": [
        {
          "output_type": "stream",
          "name": "stdout",
          "text": [
            "<class 'str'>\n",
            "<class 'int'>\n",
            "<class 'float'>\n",
            "<class 'complex'>\n",
            "<class 'list'>\n",
            "<class 'tuple'>\n",
            "<class 'range'>\n",
            "<class 'dict'>\n",
            "<class 'set'>\n",
            "<class 'frozenset'>\n",
            "<class 'bool'>\n",
            "b'hello' <class 'bytes'>\n",
            "<memory at 0x7f0a56104ac0> <class 'memoryview'>\n",
            "bytearray(b'\\x00\\x00\\x00\\x00\\x00') <class 'bytearray'>\n",
            "None <class 'NoneType'>\n"
          ]
        }
      ]
    },
    {
      "cell_type": "markdown",
      "source": [
        "# Setting the Specific Data Type\n",
        "If you want to specify the data type, you can use the following constructor functions:"
      ],
      "metadata": {
        "id": "iqPkDM-9XRk5"
      }
    },
    {
      "cell_type": "code",
      "source": [
        "x =str(\"hello world\")\n",
        "print(type(x))\n",
        "x = int(10)\n",
        "print(type(x))\n",
        "x = float(10.5)\n",
        "print(type(x))\n",
        "x = complex(1j)\n",
        "print(type(x))\n",
        "x = list((1,2,3))\n",
        "print(type(x))\n",
        "x = tuple((1,2,3))\n",
        "print(type(x))\n",
        "x = range(6)\n",
        "print(type(x))\n",
        "x = dict(name=\"john\",age=36)\n",
        "print(type(x))\n",
        "x = frozenset({1,3,5})\n",
        "print(type(x))\n",
        "x = True\n",
        "print(type(x))\n",
        "x = b\"hello\"\n",
        "print(x,type(x))\n",
        "x = memoryview(bytes(5))\n",
        "print(x,type(x))\n",
        "x = bytearray(x)\n",
        "print(x,type(x))\n",
        "x = None\n",
        "print(x,type(x))"
      ],
      "metadata": {
        "id": "a233s2zQXV7g",
        "colab": {
          "base_uri": "https://localhost:8080/"
        },
        "outputId": "26a68881-52f2-4fb7-e2d3-f41fd6872c52"
      },
      "execution_count": null,
      "outputs": [
        {
          "output_type": "stream",
          "name": "stdout",
          "text": [
            "<class 'str'>\n",
            "<class 'int'>\n",
            "<class 'float'>\n",
            "<class 'complex'>\n",
            "<class 'list'>\n",
            "<class 'tuple'>\n",
            "<class 'range'>\n",
            "<class 'dict'>\n",
            "<class 'frozenset'>\n",
            "<class 'bool'>\n",
            "b'hello' <class 'bytes'>\n",
            "<memory at 0x7f0a56104a00> <class 'memoryview'>\n",
            "bytearray(b'\\x00\\x00\\x00\\x00\\x00') <class 'bytearray'>\n",
            "None <class 'NoneType'>\n"
          ]
        }
      ]
    },
    {
      "cell_type": "code",
      "source": [
        "x = 1\n",
        "y = 2.8\n",
        "z = 1j\n",
        "print(type(x))\n",
        "print(type(y))\n",
        "print(type(z))"
      ],
      "metadata": {
        "id": "vTUKuy5M7WzP",
        "outputId": "6fe728f0-b3c6-4c78-ba0d-c52341840e3f",
        "colab": {
          "base_uri": "https://localhost:8080/"
        }
      },
      "execution_count": null,
      "outputs": [
        {
          "output_type": "stream",
          "name": "stdout",
          "text": [
            "<class 'int'>\n",
            "<class 'float'>\n",
            "<class 'complex'>\n"
          ]
        }
      ]
    },
    {
      "cell_type": "code",
      "source": [
        "x = 35e3\n",
        "print(x)\n",
        "\n",
        "Y = 12E4\n",
        "print(Y)"
      ],
      "metadata": {
        "id": "ZA2S-iIj7gm2",
        "outputId": "36e5eb1f-00cb-401b-a948-137ca251772b",
        "colab": {
          "base_uri": "https://localhost:8080/"
        }
      },
      "execution_count": null,
      "outputs": [
        {
          "output_type": "stream",
          "name": "stdout",
          "text": [
            "35000.0\n",
            "120000.0\n"
          ]
        }
      ]
    },
    {
      "cell_type": "code",
      "source": [
        "x = 3+5j\n",
        "y = 5j\n",
        "z = -3j\n",
        "print(type(x))\n",
        "print(type(y))\n",
        "print(type(z))"
      ],
      "metadata": {
        "id": "aO2zv8ll9_or",
        "outputId": "47d249a9-75af-463e-e225-d67976441f45",
        "colab": {
          "base_uri": "https://localhost:8080/"
        }
      },
      "execution_count": null,
      "outputs": [
        {
          "output_type": "stream",
          "name": "stdout",
          "text": [
            "<class 'complex'>\n",
            "<class 'complex'>\n",
            "<class 'complex'>\n"
          ]
        }
      ]
    },
    {
      "cell_type": "code",
      "source": [
        "x = 1\n",
        "y = 45.7\n",
        "z = -3j\n",
        "print(type(x))\n",
        "print(type(y))\n",
        "print(type(z))"
      ],
      "metadata": {
        "id": "y49ogID9-XUh",
        "outputId": "dd9fd2da-c6ba-484b-8f5c-9bf3b004a238",
        "colab": {
          "base_uri": "https://localhost:8080/"
        }
      },
      "execution_count": null,
      "outputs": [
        {
          "output_type": "stream",
          "name": "stdout",
          "text": [
            "<class 'int'>\n",
            "<class 'float'>\n",
            "<class 'complex'>\n"
          ]
        }
      ]
    },
    {
      "cell_type": "code",
      "source": [
        "x = float(1)\n",
        "y = int(45.7)\n",
        "z = complex(-3j)\n",
        "print(x,type(x))\n",
        "print(y,type(y))\n",
        "print(z,type(z))"
      ],
      "metadata": {
        "id": "68w30C1O-fjW",
        "outputId": "86d4a453-3b9c-4cbc-fb80-6f782ff5f714",
        "colab": {
          "base_uri": "https://localhost:8080/"
        }
      },
      "execution_count": null,
      "outputs": [
        {
          "output_type": "stream",
          "name": "stdout",
          "text": [
            "1.0 <class 'float'>\n",
            "45 <class 'int'>\n",
            "(-0-3j) <class 'complex'>\n"
          ]
        }
      ]
    },
    {
      "cell_type": "code",
      "source": [
        "import random\n",
        "print(random.randrange(1,100))"
      ],
      "metadata": {
        "id": "_n0LNHjh-9jr",
        "outputId": "b4ec1c18-1ddc-45a8-93ec-326e67a8a46c",
        "colab": {
          "base_uri": "https://localhost:8080/"
        }
      },
      "execution_count": null,
      "outputs": [
        {
          "output_type": "stream",
          "name": "stdout",
          "text": [
            "36\n"
          ]
        }
      ]
    },
    {
      "cell_type": "markdown",
      "source": [
        "# **Casting**\n",
        "If you want to specify the data type of a variable, this can be done with casting.\n",
        "\n",
        "Specify a Variable Type:\n",
        "There may be times when you want to specify a type on to a variable. This can be done with casting. Python is an object-orientated language, and as such it uses classes to define data types, including its primitive types.\n",
        "\n",
        "Casting in python is therefore done using constructor functions:\n",
        "\n",
        "1. int() - constructs an integer number from an integer literal, a float literal (by removing all decimals), or a string literal (providing the string represents a whole number)\n",
        "\n",
        "2. float() - constructs a float number from an integer literal, a float literal or a string literal (providing the string represents a float or an integer)\n",
        "\n",
        "3. str() - constructs a string from a wide variety of data types, including strings, integer literals and float literals\n"
      ],
      "metadata": {
        "id": "tK_1kb-iTsYQ"
      }
    },
    {
      "cell_type": "code",
      "source": [
        "x = int(1)\n",
        "y = int(2.8)\n",
        "z = int(\"3\")\n",
        "print(x,y,z)"
      ],
      "metadata": {
        "id": "7vh9bz16T80W",
        "outputId": "a6b7a8d0-b68b-48cf-b707-4ce5dc736a14",
        "colab": {
          "base_uri": "https://localhost:8080/"
        }
      },
      "execution_count": 8,
      "outputs": [
        {
          "output_type": "stream",
          "name": "stdout",
          "text": [
            "1 2 3\n"
          ]
        }
      ]
    },
    {
      "cell_type": "code",
      "source": [
        "x = float(1)\n",
        "y = float(2.8)\n",
        "z = float(\"3\")\n",
        "w = float(\"4.2\")\n",
        "print(x,y,z,w)"
      ],
      "metadata": {
        "id": "_qmNBt0isYlM",
        "outputId": "6d980255-11a7-43c6-fb92-5701c7c052b5",
        "colab": {
          "base_uri": "https://localhost:8080/"
        }
      },
      "execution_count": 7,
      "outputs": [
        {
          "output_type": "stream",
          "name": "stdout",
          "text": [
            "1.0 2.8 3.0 4.2\n"
          ]
        }
      ]
    },
    {
      "cell_type": "code",
      "source": [
        "x = str(\"s1\")\n",
        "y = str(2)\n",
        "z = str(3.0)\n",
        "print(x,y,z,type(z))"
      ],
      "metadata": {
        "id": "Ca7V_9PetDxO",
        "outputId": "5ae7ecb5-dbf6-47d9-84c7-cb0cb9e6c724",
        "colab": {
          "base_uri": "https://localhost:8080/"
        }
      },
      "execution_count": 9,
      "outputs": [
        {
          "output_type": "stream",
          "name": "stdout",
          "text": [
            "s1 2 3.0 <class 'str'>\n"
          ]
        }
      ]
    },
    {
      "cell_type": "markdown",
      "source": [
        "# **Get the Type**\n",
        "You can get the data type of a variable with the type() function."
      ],
      "metadata": {
        "id": "AdfeDo7jUCv5"
      }
    },
    {
      "cell_type": "markdown",
      "source": [
        "# **Single or Double Quotes?**\n",
        "String variables can be declared either by using single or double quotes:"
      ],
      "metadata": {
        "id": "l4MGNJCxUFSr"
      }
    },
    {
      "cell_type": "code",
      "source": [],
      "metadata": {
        "id": "5jjFBvzqUGjV"
      },
      "execution_count": null,
      "outputs": []
    },
    {
      "cell_type": "markdown",
      "source": [
        "# **Case-Sensitive**\n",
        "\n",
        "Variable names are case-sensitive.\n",
        "\n"
      ],
      "metadata": {
        "id": "kP5xVclpUReT"
      }
    },
    {
      "cell_type": "code",
      "source": [],
      "metadata": {
        "id": "bLw-72RTUcg_"
      },
      "execution_count": null,
      "outputs": []
    },
    {
      "cell_type": "markdown",
      "source": [
        "# **Python Numbers**\n",
        "There are three numeric types in Python:\n",
        "\n",
        "int\n",
        "float\n",
        "complex\n",
        "Variables of numeric types are created when you assign a value to them:"
      ],
      "metadata": {
        "id": "uoAsjIkKYJTw"
      }
    },
    {
      "cell_type": "code",
      "source": [],
      "metadata": {
        "id": "at1bM80rYMNb"
      },
      "execution_count": null,
      "outputs": []
    },
    {
      "cell_type": "markdown",
      "source": [
        "# Int\n",
        "Int, or integer, is a whole number, positive or negative, without decimals, of unlimited length."
      ],
      "metadata": {
        "id": "6XY3nv4OYPrK"
      }
    },
    {
      "cell_type": "code",
      "source": [],
      "metadata": {
        "id": "_gok6zjxYRx2"
      },
      "execution_count": null,
      "outputs": []
    },
    {
      "cell_type": "markdown",
      "source": [
        "# Float\n",
        "Float, or \"floating point number\" is a number, positive or negative, containing one or more decimals."
      ],
      "metadata": {
        "id": "pChsCbZlYSbz"
      }
    },
    {
      "cell_type": "code",
      "source": [],
      "metadata": {
        "id": "ns5uwbqcYWGE"
      },
      "execution_count": null,
      "outputs": []
    },
    {
      "cell_type": "markdown",
      "source": [
        "# Complex\n",
        "Complex numbers are written with a \"j\" as the imaginary part:"
      ],
      "metadata": {
        "id": "j51TnbIeYWk5"
      }
    },
    {
      "cell_type": "code",
      "source": [],
      "metadata": {
        "id": "3Yj4H2LLYbcV"
      },
      "execution_count": null,
      "outputs": []
    },
    {
      "cell_type": "markdown",
      "source": [
        "# Type Conversion\n",
        "You can convert from one type to another with the int(), float(), and complex() methods:"
      ],
      "metadata": {
        "id": "Du-S5EOJYeqH"
      }
    },
    {
      "cell_type": "code",
      "source": [],
      "metadata": {
        "id": "doJCOcHmYhVS"
      },
      "execution_count": null,
      "outputs": []
    },
    {
      "cell_type": "markdown",
      "source": [
        "# Random Number\n",
        "\n",
        "Python does not have a random() function to make a random number, but Python has a built-in module called random that can be used to make random numbers:"
      ],
      "metadata": {
        "id": "n1LhBQD-Yh6H"
      }
    },
    {
      "cell_type": "code",
      "source": [],
      "metadata": {
        "id": "eA5ErNdrYnr4"
      },
      "execution_count": null,
      "outputs": []
    },
    {
      "cell_type": "markdown",
      "source": [
        "#  **Python String**"
      ],
      "metadata": {
        "id": "6RYDhDR6YoNt"
      }
    },
    {
      "cell_type": "code",
      "source": [
        "'hello' == \"hello\"\n",
        "print(\"it's alright\")\n",
        "a = \"hello\"\n",
        "print(a)"
      ],
      "metadata": {
        "id": "mYPY_bVitYM1",
        "outputId": "40fa9fe7-08e1-4793-c227-32a468ee6b88",
        "colab": {
          "base_uri": "https://localhost:8080/"
        }
      },
      "execution_count": 14,
      "outputs": [
        {
          "output_type": "stream",
          "name": "stdout",
          "text": [
            "it's alright\n",
            "hello\n"
          ]
        }
      ]
    },
    {
      "cell_type": "code",
      "source": [
        "\"\"\"I am Good.\n",
        "I am learning Python.\n",
        "Its Tuesday in IST.\"\"\""
      ],
      "metadata": {
        "id": "5oJyXOMzt8pb",
        "outputId": "104c0809-5c48-458d-b14f-464b9e955ddf",
        "colab": {
          "base_uri": "https://localhost:8080/",
          "height": 35
        }
      },
      "execution_count": 15,
      "outputs": [
        {
          "output_type": "execute_result",
          "data": {
            "text/plain": [
              "'I am Good.\\nI am learning Python.\\nIts Tuesday in IST.'"
            ],
            "application/vnd.google.colaboratory.intrinsic+json": {
              "type": "string"
            }
          },
          "metadata": {},
          "execution_count": 15
        }
      ]
    },
    {
      "cell_type": "code",
      "source": [
        "z = \"\"\"I am Good.\n",
        "I am learning Python.\n",
        "Its Tuesday in IST.\"\"\"\n",
        "\n",
        "print(z)"
      ],
      "metadata": {
        "id": "m2872on2uHNa",
        "outputId": "d5bf8caf-90ee-4089-c8c6-82f5ffbc23d4",
        "colab": {
          "base_uri": "https://localhost:8080/"
        }
      },
      "execution_count": 16,
      "outputs": [
        {
          "output_type": "stream",
          "name": "stdout",
          "text": [
            "I am Good.\n",
            "I am learning Python.\n",
            "Its Tuesday in IST.\n"
          ]
        }
      ]
    },
    {
      "cell_type": "code",
      "source": [
        "a = \"hello world\"\n",
        "print(a[0], a[1])"
      ],
      "metadata": {
        "id": "hvZ_iACSuvyc",
        "outputId": "f6643f81-19d0-418b-f1dd-86b8f300f2a6",
        "colab": {
          "base_uri": "https://localhost:8080/"
        }
      },
      "execution_count": 17,
      "outputs": [
        {
          "output_type": "stream",
          "name": "stdout",
          "text": [
            "h e\n"
          ]
        }
      ]
    },
    {
      "cell_type": "code",
      "source": [
        "a = \"hello world\"\n",
        "for i in a:\n",
        "    print(i)"
      ],
      "metadata": {
        "id": "gbpRo2sxu9Zu",
        "outputId": "ad7c0966-4846-4d56-bbaf-a13657432d5b",
        "colab": {
          "base_uri": "https://localhost:8080/"
        }
      },
      "execution_count": 18,
      "outputs": [
        {
          "output_type": "stream",
          "name": "stdout",
          "text": [
            "h\n",
            "e\n",
            "l\n",
            "l\n",
            "o\n",
            " \n",
            "w\n",
            "o\n",
            "r\n",
            "l\n",
            "d\n"
          ]
        }
      ]
    },
    {
      "cell_type": "code",
      "source": [
        "a = \"hello world\"\n",
        "print(len(a)) # lenght of string"
      ],
      "metadata": {
        "id": "ffMiMzbbvR-J",
        "outputId": "8c149377-c317-4ffd-924b-d712ee1f7c5c",
        "colab": {
          "base_uri": "https://localhost:8080/"
        }
      },
      "execution_count": 19,
      "outputs": [
        {
          "output_type": "stream",
          "name": "stdout",
          "text": [
            "11\n"
          ]
        }
      ]
    },
    {
      "cell_type": "code",
      "source": [
        "txt = \"python is the best programming language\"\n",
        "print(\"best\" in txt)\n",
        "print(\"Best\" in txt)"
      ],
      "metadata": {
        "id": "RWs7qTyqvjuF",
        "outputId": "32aa3789-5c57-41e8-a289-0c9165545b41",
        "colab": {
          "base_uri": "https://localhost:8080/"
        }
      },
      "execution_count": 20,
      "outputs": [
        {
          "output_type": "stream",
          "name": "stdout",
          "text": [
            "True\n",
            "False\n"
          ]
        }
      ]
    },
    {
      "cell_type": "code",
      "source": [
        "txt = \"python is the best programming language\"\n",
        "print(\"best\" not in txt)\n",
        "print(\"Best\" not in txt)"
      ],
      "metadata": {
        "id": "a51jfnUQwi6W",
        "outputId": "5a5ebcbc-d4db-455d-b45b-78ec965d5d1e",
        "colab": {
          "base_uri": "https://localhost:8080/"
        }
      },
      "execution_count": 22,
      "outputs": [
        {
          "output_type": "stream",
          "name": "stdout",
          "text": [
            "False\n",
            "True\n"
          ]
        }
      ]
    },
    {
      "cell_type": "code",
      "source": [
        "txt = \"python is the best programming language\"\n",
        "if \"best\" in txt:\n",
        "    print(\"Yes, 'best' is present\")"
      ],
      "metadata": {
        "id": "WTPUHiDEwRhT",
        "outputId": "ca29c8e4-e03c-4044-cb77-1f7fb5a8443a",
        "colab": {
          "base_uri": "https://localhost:8080/"
        }
      },
      "execution_count": 21,
      "outputs": [
        {
          "output_type": "stream",
          "name": "stdout",
          "text": [
            "Yes, 'best' is present\n"
          ]
        }
      ]
    },
    {
      "cell_type": "code",
      "source": [
        "b = \"Hello, world!\"\n",
        "print(b[2:5])\n",
        "print(b[0:5])\n",
        "print(b[:5])\n",
        "print(b[5:15]) # iT WILL NOT THROW EXCEPTION\n",
        "print(b[:])\n",
        "print(b[-5:-2])\n",
        "print(b[-5:])"
      ],
      "metadata": {
        "id": "B0EczFXMwxiN",
        "outputId": "09922a3f-7962-424e-e72e-eb89fdcdbeb0",
        "colab": {
          "base_uri": "https://localhost:8080/"
        }
      },
      "execution_count": 29,
      "outputs": [
        {
          "output_type": "stream",
          "name": "stdout",
          "text": [
            "llo\n",
            "Hello\n",
            "Hello\n",
            ", world!\n",
            "Hello, world!\n",
            "orl\n",
            "orld!\n"
          ]
        }
      ]
    },
    {
      "cell_type": "code",
      "source": [
        "a = \"Hello world\"\n",
        "print(a.upper())\n",
        "print(a.lower())"
      ],
      "metadata": {
        "id": "GGmuaC0SzMXW",
        "outputId": "7ae5b6a4-8f14-4858-998c-9b30c0eda564",
        "colab": {
          "base_uri": "https://localhost:8080/"
        }
      },
      "execution_count": 31,
      "outputs": [
        {
          "output_type": "stream",
          "name": "stdout",
          "text": [
            "HELLO WORLD\n",
            "hello world\n"
          ]
        }
      ]
    },
    {
      "cell_type": "code",
      "source": [
        "a = \"    Hello world.    \\t\\t\\n\\n\"\n",
        "print(a.strip()) # remove leading and trailing whitespaces\n",
        "print(len(a.strip()))"
      ],
      "metadata": {
        "id": "5142C9GazrZ7",
        "outputId": "e464781e-af23-420e-a633-fe1074683881",
        "colab": {
          "base_uri": "https://localhost:8080/"
        }
      },
      "execution_count": 32,
      "outputs": [
        {
          "output_type": "stream",
          "name": "stdout",
          "text": [
            "Hello world.\n",
            "12\n"
          ]
        }
      ]
    },
    {
      "cell_type": "code",
      "source": [
        "a = \"Hello World\"\n",
        "print(a.replace(\"H\",\"J\"))"
      ],
      "metadata": {
        "id": "lwOiYKx10Gqg",
        "outputId": "ca75d01a-b8a6-43a1-dfa3-8d38b2b9d306",
        "colab": {
          "base_uri": "https://localhost:8080/"
        }
      },
      "execution_count": 33,
      "outputs": [
        {
          "output_type": "stream",
          "name": "stdout",
          "text": [
            "Jello World\n"
          ]
        }
      ]
    },
    {
      "cell_type": "code",
      "source": [
        "a = \"hello world\"\n",
        "print(a.split())\n",
        "b = \"Hi, I am doing good\"\n",
        "print(b.split())\n",
        "c = \"10,20,30,40,50\"\n",
        "print(c.split()) # this will not split\n",
        "print(c.split(\",\"))"
      ],
      "metadata": {
        "id": "IK5UfyAs0UO7",
        "outputId": "325362ca-68fb-4929-abc2-f4209448d518",
        "colab": {
          "base_uri": "https://localhost:8080/"
        }
      },
      "execution_count": 36,
      "outputs": [
        {
          "output_type": "stream",
          "name": "stdout",
          "text": [
            "['hello', 'world']\n",
            "['Hi,', 'I', 'am', 'doing', 'good']\n",
            "['10,20,30,40,50']\n",
            "['10', '20', '30', '40', '50']\n"
          ]
        }
      ]
    },
    {
      "cell_type": "code",
      "source": [
        "a = \"hello world\"\n",
        "print(a.capitalize()) #only 1st character in string to upper case\n",
        "print(a.casefold()) #fold case to lower\n",
        "print(a.count('l'))\n",
        "print(a.encode()) #encoded into byte format\n",
        "print(a.endswith('d'))\n",
        "print(a.find('o')) #give index of 1st find\n",
        "print(a.find('o',5)) # 5 is starting index\n",
        "print(a.index('o',5))\n",
        "print(a.isalnum()) # check for alpha numeric\n",
        "print(a.isalpha())\n",
        "a= \"45\"\n",
        "print(a.isdigit())\n",
        "print(a.isidentifier())\n",
        "print(a.islower())\n",
        "print(a.isnumeric())\n",
        "print(a.isprintable())\n",
        "print(a.isspace())\n",
        "print(a.istitle())\n",
        "print(a.isupper())"
      ],
      "metadata": {
        "id": "DSO_6DSZ3eFv",
        "outputId": "f7af6a29-a4f2-495b-a4e9-6518691ca6bc",
        "colab": {
          "base_uri": "https://localhost:8080/"
        }
      },
      "execution_count": 44,
      "outputs": [
        {
          "output_type": "stream",
          "name": "stdout",
          "text": [
            "Hello world\n",
            "hello world\n",
            "3\n",
            "b'hello world'\n",
            "True\n",
            "4\n",
            "7\n",
            "7\n",
            "False\n",
            "False\n",
            "True\n",
            "False\n",
            "False\n",
            "True\n",
            "True\n",
            "False\n",
            "False\n",
            "False\n"
          ]
        }
      ]
    },
    {
      "cell_type": "code",
      "source": [
        "x = \"999\"\n",
        "print(x.zfill(10))"
      ],
      "metadata": {
        "id": "89Dqt3W76CRp",
        "outputId": "072c3e9b-3398-42d4-9a6a-a33cc1d0f989",
        "colab": {
          "base_uri": "https://localhost:8080/"
        }
      },
      "execution_count": 45,
      "outputs": [
        {
          "output_type": "stream",
          "name": "stdout",
          "text": [
            "0000000999\n"
          ]
        }
      ]
    },
    {
      "cell_type": "code",
      "source": [
        "for i in range(1,11):\n",
        "    print(str(i).zfill(3))"
      ],
      "metadata": {
        "id": "UB2MrTbg6PdK",
        "outputId": "ea32ea5b-fa6d-476a-ea6c-b402664b11a9",
        "colab": {
          "base_uri": "https://localhost:8080/"
        }
      },
      "execution_count": 48,
      "outputs": [
        {
          "output_type": "stream",
          "name": "stdout",
          "text": [
            "001\n",
            "002\n",
            "003\n",
            "004\n",
            "005\n",
            "006\n",
            "007\n",
            "008\n",
            "009\n",
            "010\n"
          ]
        }
      ]
    },
    {
      "cell_type": "code",
      "source": [
        "names = []\n",
        "for i in range(1,101):\n",
        "    names.append(str(i)+\".jpg\")\n",
        "print(names)"
      ],
      "metadata": {
        "id": "fJee292H6rUP",
        "outputId": "9d2fde0b-74a9-4202-93c1-6d26dc226c37",
        "colab": {
          "base_uri": "https://localhost:8080/"
        }
      },
      "execution_count": 49,
      "outputs": [
        {
          "output_type": "stream",
          "name": "stdout",
          "text": [
            "['1.jpg', '2.jpg', '3.jpg', '4.jpg', '5.jpg', '6.jpg', '7.jpg', '8.jpg', '9.jpg', '10.jpg', '11.jpg', '12.jpg', '13.jpg', '14.jpg', '15.jpg', '16.jpg', '17.jpg', '18.jpg', '19.jpg', '20.jpg', '21.jpg', '22.jpg', '23.jpg', '24.jpg', '25.jpg', '26.jpg', '27.jpg', '28.jpg', '29.jpg', '30.jpg', '31.jpg', '32.jpg', '33.jpg', '34.jpg', '35.jpg', '36.jpg', '37.jpg', '38.jpg', '39.jpg', '40.jpg', '41.jpg', '42.jpg', '43.jpg', '44.jpg', '45.jpg', '46.jpg', '47.jpg', '48.jpg', '49.jpg', '50.jpg', '51.jpg', '52.jpg', '53.jpg', '54.jpg', '55.jpg', '56.jpg', '57.jpg', '58.jpg', '59.jpg', '60.jpg', '61.jpg', '62.jpg', '63.jpg', '64.jpg', '65.jpg', '66.jpg', '67.jpg', '68.jpg', '69.jpg', '70.jpg', '71.jpg', '72.jpg', '73.jpg', '74.jpg', '75.jpg', '76.jpg', '77.jpg', '78.jpg', '79.jpg', '80.jpg', '81.jpg', '82.jpg', '83.jpg', '84.jpg', '85.jpg', '86.jpg', '87.jpg', '88.jpg', '89.jpg', '90.jpg', '91.jpg', '92.jpg', '93.jpg', '94.jpg', '95.jpg', '96.jpg', '97.jpg', '98.jpg', '99.jpg', '100.jpg']\n"
          ]
        }
      ]
    },
    {
      "cell_type": "code",
      "source": [
        "names = []\n",
        "for i in range(1,101):\n",
        "    names.append(str(i)+\".jpg\")\n",
        "names.sort()\n",
        "print(names)"
      ],
      "metadata": {
        "id": "MJ1aJfht67vL",
        "outputId": "ef6b97ba-b5f9-4b27-f02d-dc95ddb2f0fc",
        "colab": {
          "base_uri": "https://localhost:8080/"
        }
      },
      "execution_count": 50,
      "outputs": [
        {
          "output_type": "stream",
          "name": "stdout",
          "text": [
            "['1.jpg', '10.jpg', '100.jpg', '11.jpg', '12.jpg', '13.jpg', '14.jpg', '15.jpg', '16.jpg', '17.jpg', '18.jpg', '19.jpg', '2.jpg', '20.jpg', '21.jpg', '22.jpg', '23.jpg', '24.jpg', '25.jpg', '26.jpg', '27.jpg', '28.jpg', '29.jpg', '3.jpg', '30.jpg', '31.jpg', '32.jpg', '33.jpg', '34.jpg', '35.jpg', '36.jpg', '37.jpg', '38.jpg', '39.jpg', '4.jpg', '40.jpg', '41.jpg', '42.jpg', '43.jpg', '44.jpg', '45.jpg', '46.jpg', '47.jpg', '48.jpg', '49.jpg', '5.jpg', '50.jpg', '51.jpg', '52.jpg', '53.jpg', '54.jpg', '55.jpg', '56.jpg', '57.jpg', '58.jpg', '59.jpg', '6.jpg', '60.jpg', '61.jpg', '62.jpg', '63.jpg', '64.jpg', '65.jpg', '66.jpg', '67.jpg', '68.jpg', '69.jpg', '7.jpg', '70.jpg', '71.jpg', '72.jpg', '73.jpg', '74.jpg', '75.jpg', '76.jpg', '77.jpg', '78.jpg', '79.jpg', '8.jpg', '80.jpg', '81.jpg', '82.jpg', '83.jpg', '84.jpg', '85.jpg', '86.jpg', '87.jpg', '88.jpg', '89.jpg', '9.jpg', '90.jpg', '91.jpg', '92.jpg', '93.jpg', '94.jpg', '95.jpg', '96.jpg', '97.jpg', '98.jpg', '99.jpg']\n"
          ]
        }
      ]
    },
    {
      "cell_type": "code",
      "source": [
        "names = []\n",
        "for i in range(1,101):\n",
        "    names.append(str(i).zfill(3)+\".jpg\")\n",
        "names.sort()\n",
        "print(names)"
      ],
      "metadata": {
        "id": "dAs4sg1T7FV7",
        "outputId": "b6a8eb94-cd34-4780-c1e9-11d30a0a6332",
        "colab": {
          "base_uri": "https://localhost:8080/"
        }
      },
      "execution_count": 51,
      "outputs": [
        {
          "output_type": "stream",
          "name": "stdout",
          "text": [
            "['001.jpg', '002.jpg', '003.jpg', '004.jpg', '005.jpg', '006.jpg', '007.jpg', '008.jpg', '009.jpg', '010.jpg', '011.jpg', '012.jpg', '013.jpg', '014.jpg', '015.jpg', '016.jpg', '017.jpg', '018.jpg', '019.jpg', '020.jpg', '021.jpg', '022.jpg', '023.jpg', '024.jpg', '025.jpg', '026.jpg', '027.jpg', '028.jpg', '029.jpg', '030.jpg', '031.jpg', '032.jpg', '033.jpg', '034.jpg', '035.jpg', '036.jpg', '037.jpg', '038.jpg', '039.jpg', '040.jpg', '041.jpg', '042.jpg', '043.jpg', '044.jpg', '045.jpg', '046.jpg', '047.jpg', '048.jpg', '049.jpg', '050.jpg', '051.jpg', '052.jpg', '053.jpg', '054.jpg', '055.jpg', '056.jpg', '057.jpg', '058.jpg', '059.jpg', '060.jpg', '061.jpg', '062.jpg', '063.jpg', '064.jpg', '065.jpg', '066.jpg', '067.jpg', '068.jpg', '069.jpg', '070.jpg', '071.jpg', '072.jpg', '073.jpg', '074.jpg', '075.jpg', '076.jpg', '077.jpg', '078.jpg', '079.jpg', '080.jpg', '081.jpg', '082.jpg', '083.jpg', '084.jpg', '085.jpg', '086.jpg', '087.jpg', '088.jpg', '089.jpg', '090.jpg', '091.jpg', '092.jpg', '093.jpg', '094.jpg', '095.jpg', '096.jpg', '097.jpg', '098.jpg', '099.jpg', '100.jpg']\n"
          ]
        }
      ]
    },
    {
      "cell_type": "markdown",
      "source": [
        "# **Python Boolean**"
      ],
      "metadata": {
        "id": "z2Z3rsQVYzI9"
      }
    },
    {
      "cell_type": "markdown",
      "source": [],
      "metadata": {
        "id": "SA_SooNjZAxE"
      }
    },
    {
      "cell_type": "markdown",
      "source": [],
      "metadata": {
        "id": "9ZtigxJQY7SZ"
      }
    }
  ]
}