{
  "nbformat": 4,
  "nbformat_minor": 0,
  "metadata": {
    "colab": {
      "provenance": [],
      "include_colab_link": true
    },
    "kernelspec": {
      "name": "python3",
      "display_name": "Python 3"
    },
    "language_info": {
      "name": "python"
    }
  },
  "cells": [
    {
      "cell_type": "markdown",
      "metadata": {
        "id": "view-in-github",
        "colab_type": "text"
      },
      "source": [
        "<a href=\"https://colab.research.google.com/github/Akshithkumarreddy/Python_PGM/blob/main/07_02_Python_01_Skeleton.ipynb\" target=\"_parent\"><img src=\"https://colab.research.google.com/assets/colab-badge.svg\" alt=\"Open In Colab\"/></a>"
      ]
    },
    {
      "cell_type": "markdown",
      "source": [
        "# Python Basics"
      ],
      "metadata": {
        "id": "WVNCmAn2ZCf1"
      }
    },
    {
      "cell_type": "markdown",
      "source": [
        "# **Python Indentation**\n",
        "\n",
        "Indentation refers to the spaces at the beginning of a code line.\n",
        "\n",
        "Where in other programming languages the indentation in code is for readability only, the indentation in Python is very important.\n",
        "\n",
        "Python uses indentation to indicate a block of code.\n",
        "\n"
      ],
      "metadata": {
        "id": "vUL6fpjeE62x"
      }
    },
    {
      "cell_type": "code",
      "execution_count": null,
      "metadata": {
        "id": "8LYWrFjCERXS",
        "colab": {
          "base_uri": "https://localhost:8080/"
        },
        "outputId": "9f7795d9-1db8-41a6-acd0-110bcffb0ee1"
      },
      "outputs": [
        {
          "output_type": "stream",
          "name": "stdout",
          "text": [
            "Five is greater than two\n",
            "Five is NOT greater than two\n"
          ]
        }
      ],
      "source": [
        "if 5>2:\n",
        "  print('Five is greater than two')\n",
        "  print('Five is NOT greater than two')"
      ]
    },
    {
      "cell_type": "markdown",
      "source": [
        "Python will give you an error if you skip the indentation:"
      ],
      "metadata": {
        "id": "aMvmg7SnE9Qo"
      }
    },
    {
      "cell_type": "code",
      "source": [
        "if 5>2:\n",
        "print('Five is greater than two')"
      ],
      "metadata": {
        "id": "weqPSOAaFBv4",
        "colab": {
          "base_uri": "https://localhost:8080/",
          "height": 108
        },
        "outputId": "5ffacae3-a38f-4046-d880-3a7e8d3c7a2d"
      },
      "execution_count": null,
      "outputs": [
        {
          "output_type": "error",
          "ename": "IndentationError",
          "evalue": "expected an indented block after 'if' statement on line 1 (<ipython-input-3-6f7ff996d4ae>, line 2)",
          "traceback": [
            "\u001b[0;36m  File \u001b[0;32m\"<ipython-input-3-6f7ff996d4ae>\"\u001b[0;36m, line \u001b[0;32m2\u001b[0m\n\u001b[0;31m    print('Five is greater than two')\u001b[0m\n\u001b[0m    ^\u001b[0m\n\u001b[0;31mIndentationError\u001b[0m\u001b[0;31m:\u001b[0m expected an indented block after 'if' statement on line 1\n"
          ]
        }
      ]
    },
    {
      "cell_type": "markdown",
      "source": [
        "The number of spaces is up to you as a programmer, the most common use is four, but it has to be at least one.\n",
        "\n"
      ],
      "metadata": {
        "id": "TjGBb3BaFCGB"
      }
    },
    {
      "cell_type": "code",
      "source": [
        "if 5>2:\n",
        "  print('hello world')\n",
        "if 7>3:\n",
        "      print('testing')"
      ],
      "metadata": {
        "id": "y13aQwR5FEX3",
        "colab": {
          "base_uri": "https://localhost:8080/"
        },
        "outputId": "cd7d6ba8-6de7-41dd-afce-6446855d3ab2"
      },
      "execution_count": null,
      "outputs": [
        {
          "output_type": "stream",
          "name": "stdout",
          "text": [
            "hello world\n",
            "testing\n"
          ]
        }
      ]
    },
    {
      "cell_type": "markdown",
      "source": [
        "You have to use the same number of spaces in the same block of code, otherwise Python will give you an error:"
      ],
      "metadata": {
        "id": "eD7ce_P-R5XZ"
      }
    },
    {
      "cell_type": "code",
      "source": [
        "if 5>2:\n",
        "  print('hello world')\n",
        "if 7>3:\n",
        "      print('testing')\n",
        " #   print('testing intentation')"
      ],
      "metadata": {
        "id": "_1uULye0R60-"
      },
      "execution_count": null,
      "outputs": []
    },
    {
      "cell_type": "markdown",
      "source": [
        "# **Python Variables**\n",
        "\n",
        "In Python, variables are created when you assign a value to it:"
      ],
      "metadata": {
        "id": "wFoY-KHLR7YS"
      }
    },
    {
      "cell_type": "code",
      "source": [
        "x = 5\n",
        "y = 'Hello world'"
      ],
      "metadata": {
        "id": "OKGYccp0R7wA"
      },
      "execution_count": null,
      "outputs": []
    },
    {
      "cell_type": "markdown",
      "source": [
        "**Python has no command for declaring a variable**"
      ],
      "metadata": {
        "id": "tk5s8bidSMpS"
      }
    },
    {
      "cell_type": "code",
      "source": [],
      "metadata": {
        "id": "Qt6czmhUSPrI"
      },
      "execution_count": null,
      "outputs": []
    },
    {
      "cell_type": "markdown",
      "source": [],
      "metadata": {
        "id": "uJ_c5p6SSQTq"
      }
    },
    {
      "cell_type": "markdown",
      "source": [
        "# **Comments**\n",
        "Python has commenting capability for the purpose of in-code documentation.\n",
        "\n",
        "Comments start *with* a #, and Python will render the rest of the line as a comment:\n",
        "\n",
        "\n",
        "* Comments can be used to explain Python code.\n",
        "\n",
        "* Comments can be used to make the code more readable.\n",
        "\n",
        "* Comments can be used to prevent execution when testing code.\n",
        "\n",
        "\n",
        "\n"
      ],
      "metadata": {
        "id": "xGzWiVawSU5K"
      }
    },
    {
      "cell_type": "code",
      "source": [
        "#Python program comment class\n",
        "print('Hello')"
      ],
      "metadata": {
        "id": "lW5CS4hMSXo1",
        "colab": {
          "base_uri": "https://localhost:8080/"
        },
        "outputId": "2fecf163-72d8-4802-9947-2f39a409429b"
      },
      "execution_count": null,
      "outputs": [
        {
          "output_type": "stream",
          "name": "stdout",
          "text": [
            "Hello\n"
          ]
        }
      ]
    },
    {
      "cell_type": "markdown",
      "source": [
        "Creating a Comment\n",
        "Comments starts with a #, and Python will ignore them:"
      ],
      "metadata": {
        "id": "sgLTJl3USmhU"
      }
    },
    {
      "cell_type": "code",
      "source": [],
      "metadata": {
        "id": "PVFXtSy1Sm5u"
      },
      "execution_count": null,
      "outputs": []
    },
    {
      "cell_type": "markdown",
      "source": [
        "Comments can be placed at the end of a line, and Python will ignore the rest of the line:"
      ],
      "metadata": {
        "id": "_RNk80xCS-0_"
      }
    },
    {
      "cell_type": "code",
      "source": [
        "print('hello world') #printing hello world"
      ],
      "metadata": {
        "id": "FSc6G5RMS-Ak",
        "colab": {
          "base_uri": "https://localhost:8080/"
        },
        "outputId": "3beace2b-1c59-44c0-86c2-6144b1231f4d"
      },
      "execution_count": null,
      "outputs": [
        {
          "output_type": "stream",
          "name": "stdout",
          "text": [
            "hello world\n"
          ]
        }
      ]
    },
    {
      "cell_type": "markdown",
      "source": [
        "A comment does not have to be text that explains the code, it can also be used to prevent Python from executing code:\n",
        "\n"
      ],
      "metadata": {
        "id": "-isgMpR9TEf4"
      }
    },
    {
      "cell_type": "code",
      "source": [],
      "metadata": {
        "id": "fQ1BSUJzTEO6"
      },
      "execution_count": null,
      "outputs": []
    },
    {
      "cell_type": "markdown",
      "source": [
        "# **Multiline Comments**\n",
        "Python does not really have a syntax for multiline comments.\n",
        "\n",
        "To add a multiline comment you could insert a # for each line:"
      ],
      "metadata": {
        "id": "Ejui5veHTJIc"
      }
    },
    {
      "cell_type": "code",
      "source": [
        "#a\n",
        "#b\n",
        "#c\n",
        "#d\n",
        "print('hello')"
      ],
      "metadata": {
        "id": "6SSbiaoXTKCU",
        "colab": {
          "base_uri": "https://localhost:8080/"
        },
        "outputId": "2acf7341-7403-499f-ce67-42164ca1469d"
      },
      "execution_count": null,
      "outputs": [
        {
          "output_type": "stream",
          "name": "stdout",
          "text": [
            "hello\n"
          ]
        }
      ]
    },
    {
      "cell_type": "markdown",
      "source": [
        "Or, not quite as intended, you can use a multiline string.\n",
        "\n",
        "Since Python will ignore string literals that are not assigned to a variable, you can add a multiline string (triple quotes) in your code, and place your comment inside it:"
      ],
      "metadata": {
        "id": "MV5qxw_iTJo1"
      }
    },
    {
      "cell_type": "markdown",
      "source": [],
      "metadata": {
        "id": "P7tMSDnMTUgW"
      }
    },
    {
      "cell_type": "code",
      "source": [
        "'''a\n",
        "b\n",
        "c\n",
        "d'''\n",
        "print('hello')"
      ],
      "metadata": {
        "id": "nPiY8tLXTVHq",
        "colab": {
          "base_uri": "https://localhost:8080/"
        },
        "outputId": "e4466337-fe4e-437e-a778-0569deb1ac7b"
      },
      "execution_count": null,
      "outputs": [
        {
          "output_type": "stream",
          "name": "stdout",
          "text": [
            "hello\n"
          ]
        }
      ]
    },
    {
      "cell_type": "markdown",
      "source": [
        "# **Variables**\n",
        "Variables are containers for storing data values.\n",
        "\n",
        "Creating Variables\n",
        "Python has no command for declaring a variable.\n",
        "\n",
        "A variable is created the moment you first assign a value to it."
      ],
      "metadata": {
        "id": "BBc7fdexTVd4"
      }
    },
    {
      "cell_type": "code",
      "source": [
        "x = 5\n",
        "print(type(x),x)\n",
        "x = 'hello world'\n",
        "print(type(x),x)"
      ],
      "metadata": {
        "id": "fIYsBRmdTktX",
        "colab": {
          "base_uri": "https://localhost:8080/"
        },
        "outputId": "8fb676fe-7377-4923-a479-301f56b1fce5"
      },
      "execution_count": null,
      "outputs": [
        {
          "output_type": "stream",
          "name": "stdout",
          "text": [
            "<class 'int'> 5\n",
            "<class 'str'> hello world\n"
          ]
        }
      ]
    },
    {
      "cell_type": "code",
      "source": [
        "x = \"hyderabad\"\n",
        "print(type(x),x)\n",
        "x = 'hyderabad'\n",
        "print(type(x),x)"
      ],
      "metadata": {
        "id": "lVlw6a38kj-1",
        "outputId": "6345d3c2-d4a3-4580-9ab5-9c7e110023da",
        "colab": {
          "base_uri": "https://localhost:8080/"
        }
      },
      "execution_count": null,
      "outputs": [
        {
          "output_type": "stream",
          "name": "stdout",
          "text": [
            "<class 'str'> hyderabad\n",
            "<class 'str'> hyderabad\n"
          ]
        }
      ]
    },
    {
      "cell_type": "code",
      "source": [
        "x = 5\n",
        "x = 'india'\n",
        "print(x)"
      ],
      "metadata": {
        "id": "0bv92iI0lujD",
        "outputId": "0ba65d21-721a-40eb-c760-3f3760200858",
        "colab": {
          "base_uri": "https://localhost:8080/"
        }
      },
      "execution_count": null,
      "outputs": [
        {
          "output_type": "stream",
          "name": "stdout",
          "text": [
            "india\n"
          ]
        }
      ]
    },
    {
      "cell_type": "code",
      "source": [
        "x = 5\n",
        "x = 'india'\n",
        "X=6\n",
        "print(x)"
      ],
      "metadata": {
        "id": "GqmDD-WfmPVw",
        "outputId": "8581d5fe-ba9d-4867-b9b9-aae0fdf6607e",
        "colab": {
          "base_uri": "https://localhost:8080/"
        }
      },
      "execution_count": null,
      "outputs": [
        {
          "output_type": "stream",
          "name": "stdout",
          "text": [
            "india\n"
          ]
        }
      ]
    },
    {
      "cell_type": "code",
      "source": [
        "print('Hyderabad's')"
      ],
      "metadata": {
        "id": "7rqQ58zAmmE8",
        "outputId": "430f181c-de7e-41d8-c138-bb9413b885e3",
        "colab": {
          "base_uri": "https://localhost:8080/",
          "height": 108
        }
      },
      "execution_count": null,
      "outputs": [
        {
          "output_type": "error",
          "ename": "SyntaxError",
          "evalue": "unterminated string literal (detected at line 1) (<ipython-input-23-79dfb1359197>, line 1)",
          "traceback": [
            "\u001b[0;36m  File \u001b[0;32m\"<ipython-input-23-79dfb1359197>\"\u001b[0;36m, line \u001b[0;32m1\u001b[0m\n\u001b[0;31m    print('Hyderabad's')\u001b[0m\n\u001b[0m                      ^\u001b[0m\n\u001b[0;31mSyntaxError\u001b[0m\u001b[0;31m:\u001b[0m unterminated string literal (detected at line 1)\n"
          ]
        }
      ]
    },
    {
      "cell_type": "code",
      "source": [
        "print(\"Hyderabad's\")"
      ],
      "metadata": {
        "id": "aZZCLM2Vm4Dz",
        "outputId": "eb3925e3-694d-48fc-de4e-cd3105fd9dab",
        "colab": {
          "base_uri": "https://localhost:8080/"
        }
      },
      "execution_count": null,
      "outputs": [
        {
          "output_type": "stream",
          "name": "stdout",
          "text": [
            "Hyderabad's\n"
          ]
        }
      ]
    },
    {
      "cell_type": "markdown",
      "source": [
        "Variables do not need to be declared with any particular type, and can even change type after they have been set."
      ],
      "metadata": {
        "id": "T4Vy4pIsTllp"
      }
    },
    {
      "cell_type": "markdown",
      "source": [
        "#**Variable Names**\n",
        "\n",
        "1. A variable can have a short name (like x and y) or a more descriptive name (age, carname, total_volume). Rules for Python variables:\n",
        "\n",
        "2. A variable name must start with a letter or the underscore character\n",
        "\n",
        "3. A variable name cannot start with a number\n",
        "\n",
        "4. A  variable name can only contain alpha-numeric characters and underscores (A-z, 0-9, and _ )\n",
        "5. Variable names are case-sensitive (age, Age and AGE are three different variables)\n",
        "6. A variable name cannot be any of the Python keywords.\n",
        "\n",
        "\n"
      ],
      "metadata": {
        "id": "ToSJZ-zQUt79"
      }
    },
    {
      "cell_type": "code",
      "source": [
        "myvar = 'Ram'\n",
        "my_var = 'Ram'\n",
        "_my_var = \"Ram\"\n",
        "myVar = \"Ram\"\n",
        "MYVAR = \"Ram\"\n",
        "myvar2 = \"Ram\""
      ],
      "metadata": {
        "id": "nPf-v6NAm3Bq"
      },
      "execution_count": null,
      "outputs": []
    },
    {
      "cell_type": "code",
      "source": [
        "2myvar = 'Ram'\n",
        "my-var = 'Ram'\n",
        "my var = 'Ram'"
      ],
      "metadata": {
        "id": "T2MjO-8GoLJh",
        "outputId": "c57da1f7-5493-4978-b359-ad6f92c98401",
        "colab": {
          "base_uri": "https://localhost:8080/",
          "height": 108
        }
      },
      "execution_count": null,
      "outputs": [
        {
          "output_type": "error",
          "ename": "SyntaxError",
          "evalue": "invalid decimal literal (<ipython-input-26-da25537dd045>, line 1)",
          "traceback": [
            "\u001b[0;36m  File \u001b[0;32m\"<ipython-input-26-da25537dd045>\"\u001b[0;36m, line \u001b[0;32m1\u001b[0m\n\u001b[0;31m    2myvar = 'Ram'\u001b[0m\n\u001b[0m    ^\u001b[0m\n\u001b[0;31mSyntaxError\u001b[0m\u001b[0;31m:\u001b[0m invalid decimal literal\n"
          ]
        }
      ]
    },
    {
      "cell_type": "markdown",
      "source": [
        "# Multi Words Variable Names\n",
        "Variable names with more than one word can be difficult to read.\n",
        "\n",
        "There are several techniques you can use to make them more readable:\n",
        "\n",
        "**Camel Case**\n",
        "Each word, except the first, starts with a capital letter:"
      ],
      "metadata": {
        "id": "fFV0VL5DU-Xs"
      }
    },
    {
      "cell_type": "code",
      "source": [
        "»"
      ],
      "metadata": {
        "id": "h6Ta331WVMMl",
        "outputId": "6f5d7c24-40d4-4e77-b05e-bc97e459c76f",
        "colab": {
          "base_uri": "https://localhost:8080/"
        }
      },
      "execution_count": 3,
      "outputs": [
        {
          "output_type": "stream",
          "name": "stdout",
          "text": [
            "orange <class 'str'>\n",
            "apple <class 'str'>\n",
            "1234 <class 'int'>\n"
          ]
        }
      ]
    },
    {
      "cell_type": "markdown",
      "source": [
        "**Pascal Case**\n",
        "Each word starts with a capital letter:"
      ],
      "metadata": {
        "id": "AX9L9W5ZVL2_"
      }
    },
    {
      "cell_type": "code",
      "source": [],
      "metadata": {
        "id": "vQSAQLkwVQC7",
        "outputId": "386550df-7c55-4e4e-84fe-b1a6ef21b800",
        "colab": {
          "base_uri": "https://localhost:8080/"
        }
      },
      "execution_count": 5,
      "outputs": [
        {
          "output_type": "stream",
          "name": "stdout",
          "text": [
            "orange\n",
            "orange\n",
            "orange\n"
          ]
        }
      ]
    },
    {
      "cell_type": "code",
      "source": [],
      "metadata": {
        "id": "LHfCviiAv3xv",
        "outputId": "0a48ea17-8a2a-46e6-b62f-ea2f32d1c001",
        "colab": {
          "base_uri": "https://localhost:8080/",
          "height": 143
        }
      },
      "execution_count": 7,
      "outputs": [
        {
          "output_type": "stream",
          "name": "stdout",
          "text": [
            "orange\n",
            "orange\n",
            "orange\n",
            "orange\n",
            "orange\n",
            "banana\n"
          ]
        },
        {
          "output_type": "execute_result",
          "data": {
            "text/plain": [
              "'banana'"
            ],
            "application/vnd.google.colaboratory.intrinsic+json": {
              "type": "string"
            }
          },
          "metadata": {},
          "execution_count": 7
        }
      ]
    },
    {
      "cell_type": "markdown",
      "source": [
        "**Snake Case**\n",
        "Each word is separated by an underscore character:"
      ],
      "metadata": {
        "id": "N3Gzwc1-VWAG"
      }
    },
    {
      "cell_type": "code",
      "source": [],
      "metadata": {
        "id": "s4Pevh0tVWZh"
      },
      "execution_count": null,
      "outputs": []
    },
    {
      "cell_type": "markdown",
      "source": [
        "# **Many Values to Multiple Variables**\n",
        "\n",
        "Python allows you to assign values to multiple variables in one line:"
      ],
      "metadata": {
        "id": "tm3FcJ4DVqw7"
      }
    },
    {
      "cell_type": "code",
      "source": [
        "x , y , z = \"orange\" , \"orange\" , \"orange\"\n",
        "print(x)\n",
        "print(y)\n",
        "print(z)"
      ],
      "metadata": {
        "id": "Jf3Jbs_sVu9r",
        "outputId": "2344a5f4-c610-46de-cbc2-11960ab84f1a",
        "colab": {
          "base_uri": "https://localhost:8080/"
        }
      },
      "execution_count": 8,
      "outputs": [
        {
          "output_type": "stream",
          "name": "stdout",
          "text": [
            "orange\n",
            "orange\n",
            "orange\n"
          ]
        }
      ]
    },
    {
      "cell_type": "markdown",
      "source": [
        "# **One Value to Multiple Variables**\n",
        "And you can assign the same value to multiple variables in one line:\n",
        "\n"
      ],
      "metadata": {
        "id": "KW-wmUgWVyTP"
      }
    },
    {
      "cell_type": "code",
      "source": [
        "x , y , z = \"orange\" , \"orange\" , \"orange\"\n",
        "print(x)\n",
        "print(y)\n",
        "print(z)"
      ],
      "metadata": {
        "id": "8Elgcz1eV1rs",
        "outputId": "f82567c5-1ee7-4bf8-f3b2-dcefb4f8054a",
        "colab": {
          "base_uri": "https://localhost:8080/"
        }
      },
      "execution_count": 9,
      "outputs": [
        {
          "output_type": "stream",
          "name": "stdout",
          "text": [
            "orange\n",
            "orange\n",
            "orange\n"
          ]
        }
      ]
    },
    {
      "cell_type": "code",
      "source": [
        "x = y = z = \"orange\"\n",
        "print(x)\n",
        "print(y)\n",
        "print(z)\n",
        "z = \"banana\"\n",
        "print(x)\n",
        "print(y)\n",
        "print(z)\n",
        "z"
      ],
      "metadata": {
        "id": "uUncveg0xYS4",
        "outputId": "ea013abd-ea09-4518-822f-c862e1aecbfd",
        "colab": {
          "base_uri": "https://localhost:8080/",
          "height": 143
        }
      },
      "execution_count": 10,
      "outputs": [
        {
          "output_type": "stream",
          "name": "stdout",
          "text": [
            "orange\n",
            "orange\n",
            "orange\n",
            "orange\n",
            "orange\n",
            "banana\n"
          ]
        },
        {
          "output_type": "execute_result",
          "data": {
            "text/plain": [
              "'banana'"
            ],
            "application/vnd.google.colaboratory.intrinsic+json": {
              "type": "string"
            }
          },
          "metadata": {},
          "execution_count": 10
        }
      ]
    },
    {
      "cell_type": "markdown",
      "source": [
        "# **Unpack a Collection**\n",
        "\n",
        "If you have a collection of values in a list, tuple etc. Python allows you to extract the values into variables. This is called unpacking."
      ],
      "metadata": {
        "id": "5nBcMlKXV2RP"
      }
    },
    {
      "cell_type": "code",
      "source": [
        "fruits = [\"apple\",\"banana\",\"cherry\"]\n",
        "x , y , z = fruits\n",
        "print(x)\n",
        "print(y)\n",
        "print(z)"
      ],
      "metadata": {
        "id": "EI0ILNUlV8uN",
        "outputId": "0ba25bac-a5d0-4678-d7b5-e6764f2499a2",
        "colab": {
          "base_uri": "https://localhost:8080/"
        }
      },
      "execution_count": 11,
      "outputs": [
        {
          "output_type": "stream",
          "name": "stdout",
          "text": [
            "apple\n",
            "banana\n",
            "cherry\n"
          ]
        }
      ]
    },
    {
      "cell_type": "markdown",
      "source": [
        "# **Python Output Variables**\n",
        "The Python print() function is often used to output variables."
      ],
      "metadata": {
        "id": "fWeATLASWBoX"
      }
    },
    {
      "cell_type": "code",
      "source": [
        "print(x)\n",
        "x = \"python\"\n",
        "y = \"is\"\n",
        "z = \"awesome\"\n",
        "print(x,y,z)\n",
        "print(x+y+z)\n",
        "x= 10\n",
        "y = 5\n",
        "print(x+y)"
      ],
      "metadata": {
        "id": "UMehdym8WGtI",
        "outputId": "a461e3b1-96eb-4849-9722-3052723a97f2",
        "colab": {
          "base_uri": "https://localhost:8080/"
        }
      },
      "execution_count": 14,
      "outputs": [
        {
          "output_type": "stream",
          "name": "stdout",
          "text": [
            "python\n",
            "python is awesome\n",
            "pythonisawesome\n",
            "15\n"
          ]
        }
      ]
    },
    {
      "cell_type": "code",
      "source": [
        "x= 10\n",
        "y = \"hello\"\n",
        "print(x+y)"
      ],
      "metadata": {
        "id": "Fntzc75RysnU",
        "outputId": "012a602a-3cb7-422d-d5ae-0589291e0655",
        "colab": {
          "base_uri": "https://localhost:8080/",
          "height": 180
        }
      },
      "execution_count": 15,
      "outputs": [
        {
          "output_type": "error",
          "ename": "TypeError",
          "evalue": "unsupported operand type(s) for +: 'int' and 'str'",
          "traceback": [
            "\u001b[0;31m---------------------------------------------------------------------------\u001b[0m",
            "\u001b[0;31mTypeError\u001b[0m                                 Traceback (most recent call last)",
            "\u001b[0;32m<ipython-input-15-c218b21d72d3>\u001b[0m in \u001b[0;36m<cell line: 0>\u001b[0;34m()\u001b[0m\n\u001b[1;32m      1\u001b[0m \u001b[0mx\u001b[0m\u001b[0;34m=\u001b[0m \u001b[0;36m10\u001b[0m\u001b[0;34m\u001b[0m\u001b[0;34m\u001b[0m\u001b[0m\n\u001b[1;32m      2\u001b[0m \u001b[0my\u001b[0m \u001b[0;34m=\u001b[0m \u001b[0;34m\"hello\"\u001b[0m\u001b[0;34m\u001b[0m\u001b[0;34m\u001b[0m\u001b[0m\n\u001b[0;32m----> 3\u001b[0;31m \u001b[0mprint\u001b[0m\u001b[0;34m(\u001b[0m\u001b[0mx\u001b[0m\u001b[0;34m+\u001b[0m\u001b[0my\u001b[0m\u001b[0;34m)\u001b[0m\u001b[0;34m\u001b[0m\u001b[0;34m\u001b[0m\u001b[0m\n\u001b[0m",
            "\u001b[0;31mTypeError\u001b[0m: unsupported operand type(s) for +: 'int' and 'str'"
          ]
        }
      ]
    },
    {
      "cell_type": "markdown",
      "source": [
        "# **Python-Global Variables**\n",
        "\n",
        "Variables that are created outside of a function (as in all of the examples in the previous pages) are known as global variables.\n",
        "\n",
        "Global variables can be used by everyone, both inside of functions and outside."
      ],
      "metadata": {
        "id": "2goi7ckGWN5b"
      }
    },
    {
      "cell_type": "code",
      "source": [],
      "metadata": {
        "id": "kfu5I9LXWROH"
      },
      "execution_count": null,
      "outputs": []
    },
    {
      "cell_type": "markdown",
      "source": [
        "# **The global Keyword**\n",
        "\n",
        "Normally, when you create a variable inside a function, that variable is local, and can only be used inside that function.\n",
        "\n",
        "To create a global variable inside a function, you can use the global keyword."
      ],
      "metadata": {
        "id": "3F7R0kosWUxq"
      }
    },
    {
      "cell_type": "code",
      "source": [],
      "metadata": {
        "id": "GFrjb99eWbB8"
      },
      "execution_count": null,
      "outputs": []
    },
    {
      "cell_type": "markdown",
      "source": [
        "# **Built-in Data Types**\n",
        "\n",
        "In programming, data type is an important concept.\n",
        "\n",
        "Variables can store data of different types, and different types can do different things.\n",
        "\n",
        "Python has the following data types built-in by default, in these categories:\n",
        "\n",
        "1. Text Type:\tstr\n",
        "2. Numeric Types:\tint, float, complex\n",
        "3. Sequence Types:\tlist, tuple, range\n",
        "4. Mapping Type:\tdict\n",
        "5. Set Types:\tset, frozenset\n",
        "6. Boolean Type:\tbool\n",
        "7. Binary Types:\tbytes, bytearray, memoryview\n",
        "8. None Type:\tNoneType"
      ],
      "metadata": {
        "id": "iegmapT_WpKk"
      }
    },
    {
      "cell_type": "markdown",
      "source": [
        "# Getting the Data Type\n",
        "You can get the data type of any object by using the type() function:"
      ],
      "metadata": {
        "id": "R-zexAgMW8p9"
      }
    },
    {
      "cell_type": "code",
      "source": [],
      "metadata": {
        "id": "q-ZDQKOLW2jr"
      },
      "execution_count": null,
      "outputs": []
    },
    {
      "cell_type": "markdown",
      "source": [
        "# Setting the Data Type\n",
        "In Python, the data type is set when you assign a value to a variable:"
      ],
      "metadata": {
        "id": "sQPcdQRQXPCx"
      }
    },
    {
      "cell_type": "code",
      "source": [],
      "metadata": {
        "id": "ve5vfaoNXQ_5"
      },
      "execution_count": null,
      "outputs": []
    },
    {
      "cell_type": "markdown",
      "source": [
        "# Setting the Specific Data Type\n",
        "If you want to specify the data type, you can use the following constructor functions:"
      ],
      "metadata": {
        "id": "iqPkDM-9XRk5"
      }
    },
    {
      "cell_type": "code",
      "source": [],
      "metadata": {
        "id": "a233s2zQXV7g"
      },
      "execution_count": null,
      "outputs": []
    },
    {
      "cell_type": "markdown",
      "source": [
        "# **Casting**\n",
        "If you want to specify the data type of a variable, this can be done with casting.\n",
        "\n",
        "Specify a Variable Type:\n",
        "There may be times when you want to specify a type on to a variable. This can be done with casting. Python is an object-orientated language, and as such it uses classes to define data types, including its primitive types.\n",
        "\n",
        "Casting in python is therefore done using constructor functions:\n",
        "\n",
        "1. int() - constructs an integer number from an integer literal, a float literal (by removing all decimals), or a string literal (providing the string represents a whole number)\n",
        "\n",
        "2. float() - constructs a float number from an integer literal, a float literal or a string literal (providing the string represents a float or an integer)\n",
        "\n",
        "3. str() - constructs a string from a wide variety of data types, including strings, integer literals and float literals\n"
      ],
      "metadata": {
        "id": "tK_1kb-iTsYQ"
      }
    },
    {
      "cell_type": "code",
      "source": [],
      "metadata": {
        "id": "7vh9bz16T80W"
      },
      "execution_count": null,
      "outputs": []
    },
    {
      "cell_type": "markdown",
      "source": [
        "# **Get the Type**\n",
        "You can get the data type of a variable with the type() function."
      ],
      "metadata": {
        "id": "AdfeDo7jUCv5"
      }
    },
    {
      "cell_type": "markdown",
      "source": [
        "# **Single or Double Quotes?**\n",
        "String variables can be declared either by using single or double quotes:"
      ],
      "metadata": {
        "id": "l4MGNJCxUFSr"
      }
    },
    {
      "cell_type": "code",
      "source": [],
      "metadata": {
        "id": "5jjFBvzqUGjV"
      },
      "execution_count": null,
      "outputs": []
    },
    {
      "cell_type": "markdown",
      "source": [
        "# **Case-Sensitive**\n",
        "\n",
        "Variable names are case-sensitive.\n",
        "\n"
      ],
      "metadata": {
        "id": "kP5xVclpUReT"
      }
    },
    {
      "cell_type": "code",
      "source": [],
      "metadata": {
        "id": "bLw-72RTUcg_"
      },
      "execution_count": null,
      "outputs": []
    },
    {
      "cell_type": "markdown",
      "source": [
        "# **Python Numbers**\n",
        "There are three numeric types in Python:\n",
        "\n",
        "int\n",
        "float\n",
        "complex\n",
        "Variables of numeric types are created when you assign a value to them:"
      ],
      "metadata": {
        "id": "uoAsjIkKYJTw"
      }
    },
    {
      "cell_type": "code",
      "source": [],
      "metadata": {
        "id": "at1bM80rYMNb"
      },
      "execution_count": null,
      "outputs": []
    },
    {
      "cell_type": "markdown",
      "source": [
        "# Int\n",
        "Int, or integer, is a whole number, positive or negative, without decimals, of unlimited length."
      ],
      "metadata": {
        "id": "6XY3nv4OYPrK"
      }
    },
    {
      "cell_type": "code",
      "source": [],
      "metadata": {
        "id": "_gok6zjxYRx2"
      },
      "execution_count": null,
      "outputs": []
    },
    {
      "cell_type": "markdown",
      "source": [
        "# Float\n",
        "Float, or \"floating point number\" is a number, positive or negative, containing one or more decimals."
      ],
      "metadata": {
        "id": "pChsCbZlYSbz"
      }
    },
    {
      "cell_type": "code",
      "source": [],
      "metadata": {
        "id": "ns5uwbqcYWGE"
      },
      "execution_count": null,
      "outputs": []
    },
    {
      "cell_type": "markdown",
      "source": [
        "# Complex\n",
        "Complex numbers are written with a \"j\" as the imaginary part:"
      ],
      "metadata": {
        "id": "j51TnbIeYWk5"
      }
    },
    {
      "cell_type": "code",
      "source": [],
      "metadata": {
        "id": "3Yj4H2LLYbcV"
      },
      "execution_count": null,
      "outputs": []
    },
    {
      "cell_type": "markdown",
      "source": [
        "# Type Conversion\n",
        "You can convert from one type to another with the int(), float(), and complex() methods:"
      ],
      "metadata": {
        "id": "Du-S5EOJYeqH"
      }
    },
    {
      "cell_type": "code",
      "source": [],
      "metadata": {
        "id": "doJCOcHmYhVS"
      },
      "execution_count": null,
      "outputs": []
    },
    {
      "cell_type": "markdown",
      "source": [
        "# Random Number\n",
        "\n",
        "Python does not have a random() function to make a random number, but Python has a built-in module called random that can be used to make random numbers:"
      ],
      "metadata": {
        "id": "n1LhBQD-Yh6H"
      }
    },
    {
      "cell_type": "code",
      "source": [],
      "metadata": {
        "id": "eA5ErNdrYnr4"
      },
      "execution_count": null,
      "outputs": []
    },
    {
      "cell_type": "markdown",
      "source": [
        "#  **Python String**"
      ],
      "metadata": {
        "id": "6RYDhDR6YoNt"
      }
    },
    {
      "cell_type": "markdown",
      "source": [
        "# **Python Boolean**"
      ],
      "metadata": {
        "id": "z2Z3rsQVYzI9"
      }
    },
    {
      "cell_type": "markdown",
      "source": [],
      "metadata": {
        "id": "SA_SooNjZAxE"
      }
    },
    {
      "cell_type": "markdown",
      "source": [],
      "metadata": {
        "id": "9ZtigxJQY7SZ"
      }
    }
  ]
}