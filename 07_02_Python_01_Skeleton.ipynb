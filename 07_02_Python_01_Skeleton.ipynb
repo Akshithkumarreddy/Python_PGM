{
  "nbformat": 4,
  "nbformat_minor": 0,
  "metadata": {
    "colab": {
      "provenance": [],
      "include_colab_link": true
    },
    "kernelspec": {
      "name": "python3",
      "display_name": "Python 3"
    },
    "language_info": {
      "name": "python"
    }
  },
  "cells": [
    {
      "cell_type": "markdown",
      "metadata": {
        "id": "view-in-github",
        "colab_type": "text"
      },
      "source": [
        "<a href=\"https://colab.research.google.com/github/Akshithkumarreddy/Python_PGM/blob/main/07_02_Python_01_Skeleton.ipynb\" target=\"_parent\"><img src=\"https://colab.research.google.com/assets/colab-badge.svg\" alt=\"Open In Colab\"/></a>"
      ]
    },
    {
      "cell_type": "markdown",
      "source": [
        "# Python Basics"
      ],
      "metadata": {
        "id": "WVNCmAn2ZCf1"
      }
    },
    {
      "cell_type": "markdown",
      "source": [
        "# **Python Indentation**\n",
        "\n",
        "Indentation refers to the spaces at the beginning of a code line.\n",
        "\n",
        "Where in other programming languages the indentation in code is for readability only, the indentation in Python is very important.\n",
        "\n",
        "Python uses indentation to indicate a block of code.\n",
        "\n"
      ],
      "metadata": {
        "id": "vUL6fpjeE62x"
      }
    },
    {
      "cell_type": "code",
      "execution_count": null,
      "metadata": {
        "id": "8LYWrFjCERXS"
      },
      "outputs": [],
      "source": []
    },
    {
      "cell_type": "markdown",
      "source": [
        "Python will give you an error if you skip the indentation:"
      ],
      "metadata": {
        "id": "aMvmg7SnE9Qo"
      }
    },
    {
      "cell_type": "code",
      "source": [],
      "metadata": {
        "id": "weqPSOAaFBv4"
      },
      "execution_count": null,
      "outputs": []
    },
    {
      "cell_type": "markdown",
      "source": [
        "The number of spaces is up to you as a programmer, the most common use is four, but it has to be at least one.\n",
        "\n"
      ],
      "metadata": {
        "id": "TjGBb3BaFCGB"
      }
    },
    {
      "cell_type": "code",
      "source": [],
      "metadata": {
        "id": "y13aQwR5FEX3"
      },
      "execution_count": null,
      "outputs": []
    },
    {
      "cell_type": "markdown",
      "source": [
        "You have to use the same number of spaces in the same block of code, otherwise Python will give you an error:"
      ],
      "metadata": {
        "id": "eD7ce_P-R5XZ"
      }
    },
    {
      "cell_type": "code",
      "source": [],
      "metadata": {
        "id": "_1uULye0R60-"
      },
      "execution_count": null,
      "outputs": []
    },
    {
      "cell_type": "markdown",
      "source": [
        "# **Python Variables**\n",
        "\n",
        "In Python, variables are created when you assign a value to it:"
      ],
      "metadata": {
        "id": "wFoY-KHLR7YS"
      }
    },
    {
      "cell_type": "code",
      "source": [],
      "metadata": {
        "id": "OKGYccp0R7wA"
      },
      "execution_count": null,
      "outputs": []
    },
    {
      "cell_type": "markdown",
      "source": [
        "**Python has no command for declaring a variable**"
      ],
      "metadata": {
        "id": "tk5s8bidSMpS"
      }
    },
    {
      "cell_type": "code",
      "source": [],
      "metadata": {
        "id": "Qt6czmhUSPrI"
      },
      "execution_count": null,
      "outputs": []
    },
    {
      "cell_type": "markdown",
      "source": [],
      "metadata": {
        "id": "uJ_c5p6SSQTq"
      }
    },
    {
      "cell_type": "markdown",
      "source": [
        "# **Comments**\n",
        "Python has commenting capability for the purpose of in-code documentation.\n",
        "\n",
        "Comments start *with* a #, and Python will render the rest of the line as a comment:\n",
        "\n",
        "\n",
        "* Comments can be used to explain Python code.\n",
        "\n",
        "* Comments can be used to make the code more readable.\n",
        "\n",
        "* Comments can be used to prevent execution when testing code.\n",
        "\n",
        "\n",
        "\n"
      ],
      "metadata": {
        "id": "xGzWiVawSU5K"
      }
    },
    {
      "cell_type": "code",
      "source": [],
      "metadata": {
        "id": "lW5CS4hMSXo1"
      },
      "execution_count": null,
      "outputs": []
    },
    {
      "cell_type": "markdown",
      "source": [
        "Creating a Comment\n",
        "Comments starts with a #, and Python will ignore them:"
      ],
      "metadata": {
        "id": "sgLTJl3USmhU"
      }
    },
    {
      "cell_type": "code",
      "source": [],
      "metadata": {
        "id": "PVFXtSy1Sm5u"
      },
      "execution_count": null,
      "outputs": []
    },
    {
      "cell_type": "markdown",
      "source": [
        "Comments can be placed at the end of a line, and Python will ignore the rest of the line:"
      ],
      "metadata": {
        "id": "_RNk80xCS-0_"
      }
    },
    {
      "cell_type": "code",
      "source": [],
      "metadata": {
        "id": "FSc6G5RMS-Ak"
      },
      "execution_count": null,
      "outputs": []
    },
    {
      "cell_type": "markdown",
      "source": [
        "A comment does not have to be text that explains the code, it can also be used to prevent Python from executing code:\n",
        "\n"
      ],
      "metadata": {
        "id": "-isgMpR9TEf4"
      }
    },
    {
      "cell_type": "code",
      "source": [],
      "metadata": {
        "id": "fQ1BSUJzTEO6"
      },
      "execution_count": null,
      "outputs": []
    },
    {
      "cell_type": "markdown",
      "source": [
        "# **Multiline Comments**\n",
        "Python does not really have a syntax for multiline comments.\n",
        "\n",
        "To add a multiline comment you could insert a # for each line:"
      ],
      "metadata": {
        "id": "Ejui5veHTJIc"
      }
    },
    {
      "cell_type": "code",
      "source": [],
      "metadata": {
        "id": "6SSbiaoXTKCU"
      },
      "execution_count": null,
      "outputs": []
    },
    {
      "cell_type": "markdown",
      "source": [
        "Or, not quite as intended, you can use a multiline string.\n",
        "\n",
        "Since Python will ignore string literals that are not assigned to a variable, you can add a multiline string (triple quotes) in your code, and place your comment inside it:"
      ],
      "metadata": {
        "id": "MV5qxw_iTJo1"
      }
    },
    {
      "cell_type": "markdown",
      "source": [],
      "metadata": {
        "id": "P7tMSDnMTUgW"
      }
    },
    {
      "cell_type": "code",
      "source": [],
      "metadata": {
        "id": "nPiY8tLXTVHq"
      },
      "execution_count": null,
      "outputs": []
    },
    {
      "cell_type": "markdown",
      "source": [
        "# **Variables**\n",
        "Variables are containers for storing data values.\n",
        "\n",
        "Creating Variables\n",
        "Python has no command for declaring a variable.\n",
        "\n",
        "A variable is created the moment you first assign a value to it."
      ],
      "metadata": {
        "id": "BBc7fdexTVd4"
      }
    },
    {
      "cell_type": "code",
      "source": [
        "#example"
      ],
      "metadata": {
        "id": "fIYsBRmdTktX"
      },
      "execution_count": null,
      "outputs": []
    },
    {
      "cell_type": "markdown",
      "source": [
        "Variables do not need to be declared with any particular type, and can even change type after they have been set."
      ],
      "metadata": {
        "id": "T4Vy4pIsTllp"
      }
    },
    {
      "cell_type": "markdown",
      "source": [
        "#**Variable Names**\n",
        "\n",
        "1. A variable can have a short name (like x and y) or a more descriptive name (age, carname, total_volume). Rules for Python variables:\n",
        "\n",
        "2. A variable name must start with a letter or the underscore character\n",
        "\n",
        "3. A variable name cannot start with a number\n",
        "\n",
        "4. A  variable name can only contain alpha-numeric characters and underscores (A-z, 0-9, and _ )\n",
        "5. Variable names are case-sensitive (age, Age and AGE are three different variables)\n",
        "6. A variable name cannot be any of the Python keywords.\n",
        "\n",
        "\n"
      ],
      "metadata": {
        "id": "ToSJZ-zQUt79"
      }
    },
    {
      "cell_type": "code",
      "source": [],
      "metadata": {
        "id": "mlIIkxBjU_F4"
      },
      "execution_count": null,
      "outputs": []
    },
    {
      "cell_type": "markdown",
      "source": [
        "# Multi Words Variable Names\n",
        "Variable names with more than one word can be difficult to read.\n",
        "\n",
        "There are several techniques you can use to make them more readable:\n",
        "\n",
        "**Camel Case**\n",
        "Each word, except the first, starts with a capital letter:"
      ],
      "metadata": {
        "id": "fFV0VL5DU-Xs"
      }
    },
    {
      "cell_type": "code",
      "source": [],
      "metadata": {
        "id": "h6Ta331WVMMl"
      },
      "execution_count": null,
      "outputs": []
    },
    {
      "cell_type": "markdown",
      "source": [
        "**Pascal Case**\n",
        "Each word starts with a capital letter:"
      ],
      "metadata": {
        "id": "AX9L9W5ZVL2_"
      }
    },
    {
      "cell_type": "code",
      "source": [],
      "metadata": {
        "id": "vQSAQLkwVQC7"
      },
      "execution_count": null,
      "outputs": []
    },
    {
      "cell_type": "markdown",
      "source": [
        "**Snake Case**\n",
        "Each word is separated by an underscore character:"
      ],
      "metadata": {
        "id": "N3Gzwc1-VWAG"
      }
    },
    {
      "cell_type": "code",
      "source": [],
      "metadata": {
        "id": "s4Pevh0tVWZh"
      },
      "execution_count": null,
      "outputs": []
    },
    {
      "cell_type": "markdown",
      "source": [
        "# **Many Values to Multiple Variables**\n",
        "\n",
        "Python allows you to assign values to multiple variables in one line:"
      ],
      "metadata": {
        "id": "tm3FcJ4DVqw7"
      }
    },
    {
      "cell_type": "code",
      "source": [],
      "metadata": {
        "id": "Jf3Jbs_sVu9r"
      },
      "execution_count": null,
      "outputs": []
    },
    {
      "cell_type": "markdown",
      "source": [
        "# **One Value to Multiple Variables**\n",
        "And you can assign the same value to multiple variables in one line:\n",
        "\n"
      ],
      "metadata": {
        "id": "KW-wmUgWVyTP"
      }
    },
    {
      "cell_type": "code",
      "source": [],
      "metadata": {
        "id": "8Elgcz1eV1rs"
      },
      "execution_count": null,
      "outputs": []
    },
    {
      "cell_type": "markdown",
      "source": [
        "# **Unpack a Collection**\n",
        "\n",
        "If you have a collection of values in a list, tuple etc. Python allows you to extract the values into variables. This is called unpacking."
      ],
      "metadata": {
        "id": "5nBcMlKXV2RP"
      }
    },
    {
      "cell_type": "code",
      "source": [],
      "metadata": {
        "id": "EI0ILNUlV8uN"
      },
      "execution_count": null,
      "outputs": []
    },
    {
      "cell_type": "markdown",
      "source": [
        "# **Python Output Variables**\n",
        "The Python print() function is often used to output variables."
      ],
      "metadata": {
        "id": "fWeATLASWBoX"
      }
    },
    {
      "cell_type": "code",
      "source": [],
      "metadata": {
        "id": "UMehdym8WGtI"
      },
      "execution_count": null,
      "outputs": []
    },
    {
      "cell_type": "markdown",
      "source": [
        "# **Python-Global Variables**\n",
        "\n",
        "Variables that are created outside of a function (as in all of the examples in the previous pages) are known as global variables.\n",
        "\n",
        "Global variables can be used by everyone, both inside of functions and outside."
      ],
      "metadata": {
        "id": "2goi7ckGWN5b"
      }
    },
    {
      "cell_type": "code",
      "source": [],
      "metadata": {
        "id": "kfu5I9LXWROH"
      },
      "execution_count": null,
      "outputs": []
    },
    {
      "cell_type": "markdown",
      "source": [
        "# **The global Keyword**\n",
        "\n",
        "Normally, when you create a variable inside a function, that variable is local, and can only be used inside that function.\n",
        "\n",
        "To create a global variable inside a function, you can use the global keyword."
      ],
      "metadata": {
        "id": "3F7R0kosWUxq"
      }
    },
    {
      "cell_type": "code",
      "source": [],
      "metadata": {
        "id": "GFrjb99eWbB8"
      },
      "execution_count": null,
      "outputs": []
    },
    {
      "cell_type": "markdown",
      "source": [
        "# **Built-in Data Types**\n",
        "\n",
        "In programming, data type is an important concept.\n",
        "\n",
        "Variables can store data of different types, and different types can do different things.\n",
        "\n",
        "Python has the following data types built-in by default, in these categories:\n",
        "\n",
        "1. Text Type:\tstr\n",
        "2. Numeric Types:\tint, float, complex\n",
        "3. Sequence Types:\tlist, tuple, range\n",
        "4. Mapping Type:\tdict\n",
        "5. Set Types:\tset, frozenset\n",
        "6. Boolean Type:\tbool\n",
        "7. Binary Types:\tbytes, bytearray, memoryview\n",
        "8. None Type:\tNoneType"
      ],
      "metadata": {
        "id": "iegmapT_WpKk"
      }
    },
    {
      "cell_type": "markdown",
      "source": [
        "# Getting the Data Type\n",
        "You can get the data type of any object by using the type() function:"
      ],
      "metadata": {
        "id": "R-zexAgMW8p9"
      }
    },
    {
      "cell_type": "code",
      "source": [],
      "metadata": {
        "id": "q-ZDQKOLW2jr"
      },
      "execution_count": null,
      "outputs": []
    },
    {
      "cell_type": "markdown",
      "source": [
        "# Setting the Data Type\n",
        "In Python, the data type is set when you assign a value to a variable:"
      ],
      "metadata": {
        "id": "sQPcdQRQXPCx"
      }
    },
    {
      "cell_type": "code",
      "source": [],
      "metadata": {
        "id": "ve5vfaoNXQ_5"
      },
      "execution_count": null,
      "outputs": []
    },
    {
      "cell_type": "markdown",
      "source": [
        "# Setting the Specific Data Type\n",
        "If you want to specify the data type, you can use the following constructor functions:"
      ],
      "metadata": {
        "id": "iqPkDM-9XRk5"
      }
    },
    {
      "cell_type": "code",
      "source": [],
      "metadata": {
        "id": "a233s2zQXV7g"
      },
      "execution_count": null,
      "outputs": []
    },
    {
      "cell_type": "markdown",
      "source": [
        "# **Casting**\n",
        "If you want to specify the data type of a variable, this can be done with casting.\n",
        "\n",
        "Specify a Variable Type:\n",
        "There may be times when you want to specify a type on to a variable. This can be done with casting. Python is an object-orientated language, and as such it uses classes to define data types, including its primitive types.\n",
        "\n",
        "Casting in python is therefore done using constructor functions:\n",
        "\n",
        "1. int() - constructs an integer number from an integer literal, a float literal (by removing all decimals), or a string literal (providing the string represents a whole number)\n",
        "\n",
        "2. float() - constructs a float number from an integer literal, a float literal or a string literal (providing the string represents a float or an integer)\n",
        "\n",
        "3. str() - constructs a string from a wide variety of data types, including strings, integer literals and float literals\n"
      ],
      "metadata": {
        "id": "tK_1kb-iTsYQ"
      }
    },
    {
      "cell_type": "code",
      "source": [],
      "metadata": {
        "id": "7vh9bz16T80W"
      },
      "execution_count": null,
      "outputs": []
    },
    {
      "cell_type": "markdown",
      "source": [
        "# **Get the Type**\n",
        "You can get the data type of a variable with the type() function."
      ],
      "metadata": {
        "id": "AdfeDo7jUCv5"
      }
    },
    {
      "cell_type": "markdown",
      "source": [
        "# **Single or Double Quotes?**\n",
        "String variables can be declared either by using single or double quotes:"
      ],
      "metadata": {
        "id": "l4MGNJCxUFSr"
      }
    },
    {
      "cell_type": "code",
      "source": [],
      "metadata": {
        "id": "5jjFBvzqUGjV"
      },
      "execution_count": null,
      "outputs": []
    },
    {
      "cell_type": "markdown",
      "source": [
        "# **Case-Sensitive**\n",
        "\n",
        "Variable names are case-sensitive.\n",
        "\n"
      ],
      "metadata": {
        "id": "kP5xVclpUReT"
      }
    },
    {
      "cell_type": "code",
      "source": [],
      "metadata": {
        "id": "bLw-72RTUcg_"
      },
      "execution_count": null,
      "outputs": []
    },
    {
      "cell_type": "markdown",
      "source": [
        "# **Python Numbers**\n",
        "There are three numeric types in Python:\n",
        "\n",
        "int\n",
        "float\n",
        "complex\n",
        "Variables of numeric types are created when you assign a value to them:"
      ],
      "metadata": {
        "id": "uoAsjIkKYJTw"
      }
    },
    {
      "cell_type": "code",
      "source": [],
      "metadata": {
        "id": "at1bM80rYMNb"
      },
      "execution_count": null,
      "outputs": []
    },
    {
      "cell_type": "markdown",
      "source": [
        "# Int\n",
        "Int, or integer, is a whole number, positive or negative, without decimals, of unlimited length."
      ],
      "metadata": {
        "id": "6XY3nv4OYPrK"
      }
    },
    {
      "cell_type": "code",
      "source": [],
      "metadata": {
        "id": "_gok6zjxYRx2"
      },
      "execution_count": null,
      "outputs": []
    },
    {
      "cell_type": "markdown",
      "source": [
        "# Float\n",
        "Float, or \"floating point number\" is a number, positive or negative, containing one or more decimals."
      ],
      "metadata": {
        "id": "pChsCbZlYSbz"
      }
    },
    {
      "cell_type": "code",
      "source": [],
      "metadata": {
        "id": "ns5uwbqcYWGE"
      },
      "execution_count": null,
      "outputs": []
    },
    {
      "cell_type": "markdown",
      "source": [
        "# Complex\n",
        "Complex numbers are written with a \"j\" as the imaginary part:"
      ],
      "metadata": {
        "id": "j51TnbIeYWk5"
      }
    },
    {
      "cell_type": "code",
      "source": [],
      "metadata": {
        "id": "3Yj4H2LLYbcV"
      },
      "execution_count": null,
      "outputs": []
    },
    {
      "cell_type": "markdown",
      "source": [
        "# Type Conversion\n",
        "You can convert from one type to another with the int(), float(), and complex() methods:"
      ],
      "metadata": {
        "id": "Du-S5EOJYeqH"
      }
    },
    {
      "cell_type": "code",
      "source": [],
      "metadata": {
        "id": "doJCOcHmYhVS"
      },
      "execution_count": null,
      "outputs": []
    },
    {
      "cell_type": "markdown",
      "source": [
        "# Random Number\n",
        "\n",
        "Python does not have a random() function to make a random number, but Python has a built-in module called random that can be used to make random numbers:"
      ],
      "metadata": {
        "id": "n1LhBQD-Yh6H"
      }
    },
    {
      "cell_type": "code",
      "source": [],
      "metadata": {
        "id": "eA5ErNdrYnr4"
      },
      "execution_count": null,
      "outputs": []
    },
    {
      "cell_type": "markdown",
      "source": [
        "#  **Python String**"
      ],
      "metadata": {
        "id": "6RYDhDR6YoNt"
      }
    },
    {
      "cell_type": "markdown",
      "source": [
        "# **Python Boolean**"
      ],
      "metadata": {
        "id": "z2Z3rsQVYzI9"
      }
    },
    {
      "cell_type": "markdown",
      "source": [],
      "metadata": {
        "id": "SA_SooNjZAxE"
      }
    },
    {
      "cell_type": "markdown",
      "source": [],
      "metadata": {
        "id": "9ZtigxJQY7SZ"
      }
    }
  ]
}