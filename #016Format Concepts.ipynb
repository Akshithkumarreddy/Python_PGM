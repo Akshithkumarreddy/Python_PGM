{
 "cells": [
  {
   "cell_type": "code",
   "execution_count": 5,
   "metadata": {},
   "outputs": [
    {
     "data": {
      "text/plain": [
       "'two one'"
      ]
     },
     "execution_count": 5,
     "metadata": {},
     "output_type": "execute_result"
    }
   ],
   "source": [
    "#Basic Formating:\n",
    "\n",
    "#Old Format For strings\n",
    "\n",
    "#'%s %s' % ('one', 'two')\n",
    "\n",
    "#New format for strings\n",
    "\n",
    "#'{} {}'.format('one', 'two')\n",
    "\n",
    "#Old Formatting for Digits\n",
    "\n",
    "#'%d %d' % (1, 2)\n",
    "\n",
    "#New format for digits\n",
    "\n",
    "#'{} {}'.format(1, 2)\n",
    "\n",
    "#New\n",
    "\n",
    "#'{1} {0}'.format('one', 'two')\n"
   ]
  },
  {
   "cell_type": "code",
   "execution_count": 30,
   "metadata": {},
   "outputs": [
    {
     "data": {
      "text/plain": [
       "'test......'"
      ]
     },
     "execution_count": 30,
     "metadata": {},
     "output_type": "execute_result"
    }
   ],
   "source": [
    "#Padding and aligning strings\n",
    "\n",
    "#old format Right Align\n",
    "\n",
    "#'%10s' % ('test')\n",
    "\n",
    "#New Format Right Align\n",
    "\n",
    "#'{:>10}'.format('testing')\n",
    "\n",
    "#t3 = ('test',)\n",
    "#type(t3)\n",
    "\n",
    "#Old format left align\n",
    "\n",
    "#'%-10s' % ('test',)\n",
    "\n",
    "#New format left allign\n",
    "\n",
    "#'{:10}'.format('test')\n",
    "\n",
    "#New format    not applicable in old format\n",
    "\n",
    "'{:.<10}'.format('test')\n",
    "\n",
    "#New format fro centering the string not applicable in old format\n",
    "\n",
    "#'{:^10}'.format('test')"
   ]
  },
  {
   "cell_type": "code",
   "execution_count": 33,
   "metadata": {},
   "outputs": [
    {
     "data": {
      "text/plain": [
       "'EQUIV'"
      ]
     },
     "execution_count": 33,
     "metadata": {},
     "output_type": "execute_result"
    }
   ],
   "source": [
    "#Truncating long string\n",
    "\n",
    "#Old format\n",
    "#'%.5s' % ('EQUIVALUE',)\n",
    "\n",
    "#New format\n",
    "#'{:.5}'.format('EQUIVALUE')\n"
   ]
  },
  {
   "cell_type": "code",
   "execution_count": 41,
   "metadata": {},
   "outputs": [
    {
     "data": {
      "text/plain": [
       "'3.141593'"
      ]
     },
     "execution_count": 41,
     "metadata": {},
     "output_type": "execute_result"
    }
   ],
   "source": [
    "#Combining truncation and padding\n",
    "\n",
    "#Old format for strings\n",
    "\n",
    "#'%-10.5s' % ('equivalue',)\n",
    "\n",
    "#New format for strings\n",
    "\n",
    "#'{:10.5}'.format('equivalue')\n",
    "\n",
    "#Old format for numbers\n",
    "\n",
    "#'%d' % (42)\n",
    "\n",
    "#New format for numbers\n",
    "\n",
    "#'{:d}'.format(42)\n",
    "\n",
    "#Old format for floats\n",
    "#'%f' % (3.141592653589793,)\n",
    "\n",
    "#New format for floats\n",
    "\n",
    "#'{:f}'.format(3.141592653589793)\n"
   ]
  },
  {
   "cell_type": "code",
   "execution_count": 50,
   "metadata": {},
   "outputs": [
    {
     "data": {
      "text/plain": [
       "'003.14'"
      ]
     },
     "execution_count": 50,
     "metadata": {},
     "output_type": "execute_result"
    }
   ],
   "source": [
    "#Padding numbers\n",
    "\n",
    "#Old format\n",
    "\n",
    "#'%4d' % (42,)\n",
    "\n",
    "#New format\n",
    "\n",
    "#'{:<4d}'.format(42)\n",
    "\n",
    "#Old\n",
    "\n",
    "#'%06.2f' % (3.141592653589793,)\n",
    "\n",
    "#New\n",
    "\n",
    "'{:06.2f}'.format(3.141592653589793)\n"
   ]
  },
  {
   "cell_type": "code",
   "execution_count": 59,
   "metadata": {},
   "outputs": [
    {
     "data": {
      "text/plain": [
       "'-  23'"
      ]
     },
     "execution_count": 59,
     "metadata": {},
     "output_type": "execute_result"
    }
   ],
   "source": [
    "#Signed Numbers\n",
    "\n",
    "#Old:\n",
    "\n",
    "#'%+d' % (42,)\n",
    "\n",
    "#New:\n",
    "\n",
    "#'{:+d}'.format(42)\n",
    "\n",
    "#Old \n",
    "\n",
    "#'% d' % ((- 23),)  #Spaces will give Minus sign\n",
    "\n",
    "#New\n",
    "\n",
    "#'{: d}'.format((- 23))\n",
    "\n",
    "#Old\n",
    "\n",
    "#'% d' % (42,) #If postive number abd spaces we will get spaces\n",
    "\n",
    "#New\n",
    "\n",
    "#'{: d}'.format(42)\n",
    "\n",
    "#New\n",
    "'{:=5d}'.format((- 23)) # N/A for old\n",
    "\n",
    "#New\n",
    "\n",
    "#'{:=+5d}'.format(23)"
   ]
  },
  {
   "cell_type": "code",
   "execution_count": 70,
   "metadata": {},
   "outputs": [
    {
     "data": {
      "text/plain": [
       "'Equivalue Infosol'"
      ]
     },
     "execution_count": 70,
     "metadata": {},
     "output_type": "execute_result"
    }
   ],
   "source": [
    "#Named Place Holders\n",
    "\n",
    "data = {'first': 'Equivalue', 'last': 'InfoSol'}\n",
    "\n",
    "#data=['test','test1','test2']\n",
    "\n",
    "#Old format\n",
    "\n",
    "#'%(first)s %(last)s' % data\n",
    "\n",
    "#New format\n",
    "\n",
    "'{first} {last}'.format(**data)\n",
    "\n",
    "#New format\n",
    "'{first} {last}'.format(first='Equivalue', last='Infosol')  #N/A for old format\n"
   ]
  },
  {
   "cell_type": "code",
   "execution_count": 82,
   "metadata": {},
   "outputs": [
    {
     "data": {
      "text/plain": [
       "'tree: oak'"
      ]
     },
     "execution_count": 82,
     "metadata": {},
     "output_type": "execute_result"
    }
   ],
   "source": [
    "#Getitem and Getattr:\n",
    "\n",
    "#person = {'first': 'Equivalue', 'last': 'Infosolutions'} #N/A in old format\n",
    "#'{p[first]} {p[last]}'.format(p=person)\n",
    "\n",
    "#data = [4, 8, 15, 16, 23, 42]    #N/A in old format\n",
    "#'{d[4]} {d[5]}'.format(d=data)\n",
    "\n",
    "#class Plant(object):\n",
    "#    type = 'tree'\n",
    "#'{p.type}'.format(p=Plant())\n",
    "\n",
    "class Plant(object):\n",
    "    type = 'tree'\n",
    "    kinds = [{'name': 'oak'}, {'name': 'maple'}]\n",
    "'{p.type}: {p.kinds[0][name]}'.format(p=Plant())\n"
   ]
  },
  {
   "cell_type": "code",
   "execution_count": 43,
   "metadata": {},
   "outputs": [
    {
     "data": {
      "text/plain": [
       "'2019-01-28 04:05'"
      ]
     },
     "execution_count": 43,
     "metadata": {},
     "output_type": "execute_result"
    }
   ],
   "source": [
    "#DateTime Formatting\n",
    "\n",
    "from datetime import datetime\n",
    "'{:%Y-%m-%d %H:%M}'.format(datetime(2019, 1,28, 4, 5))\n"
   ]
  },
  {
   "cell_type": "code",
   "execution_count": 89,
   "metadata": {},
   "outputs": [
    {
     "data": {
      "text/plain": [
       "'2019-01-28 04:05'"
      ]
     },
     "execution_count": 89,
     "metadata": {},
     "output_type": "execute_result"
    }
   ],
   "source": [
    "#Parametarized fromatting\n",
    "\n",
    "#'{:{align}{width}}'.format('test', align='^', width='10')\n",
    "\n",
    "#Width and precision\n",
    "\n",
    "#Old\n",
    "\n",
    "#'%*.*f' % (5, 2, 2.7182)\n",
    "\n",
    "#New\n",
    "\n",
    "#'{:{width}.{prec}f}'.format(2.7182, width=5, prec=2)\n",
    "\n",
    "#'{:{prec}} = {:{prec}}'.format('Equivalue', 2.7182, prec='.3')\n",
    "\n",
    "from datetime import datetime\n",
    "dt = datetime(2019, 1,28, 4, 5)\n",
    "'{:{dfmt} {tfmt}}'.format(dt, dfmt='%Y-%m-%d', tfmt='%H:%M')"
   ]
  },
  {
   "cell_type": "code",
   "execution_count": null,
   "metadata": {},
   "outputs": [],
   "source": []
  }
 ],
 "metadata": {
  "kernelspec": {
   "display_name": "Python 3 (ipykernel)",
   "language": "python",
   "name": "python3"
  },
  "language_info": {
   "codemirror_mode": {
    "name": "ipython",
    "version": 3
   },
   "file_extension": ".py",
   "mimetype": "text/x-python",
   "name": "python",
   "nbconvert_exporter": "python",
   "pygments_lexer": "ipython3",
   "version": "3.11.4"
  }
 },
 "nbformat": 4,
 "nbformat_minor": 2
}
