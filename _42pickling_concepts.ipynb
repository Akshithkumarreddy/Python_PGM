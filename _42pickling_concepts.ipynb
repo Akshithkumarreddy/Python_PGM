{
  "nbformat": 4,
  "nbformat_minor": 0,
  "metadata": {
    "colab": {
      "provenance": [],
      "authorship_tag": "ABX9TyMW8t+j3jWPcl84LD+FtMa3",
      "include_colab_link": true
    },
    "kernelspec": {
      "name": "python3",
      "display_name": "Python 3"
    },
    "language_info": {
      "name": "python"
    }
  },
  "cells": [
    {
      "cell_type": "markdown",
      "metadata": {
        "id": "view-in-github",
        "colab_type": "text"
      },
      "source": [
        "<a href=\"https://colab.research.google.com/github/Akshithkumarreddy/Python_PGM/blob/main/_42pickling_concepts.ipynb\" target=\"_parent\"><img src=\"https://colab.research.google.com/assets/colab-badge.svg\" alt=\"Open In Colab\"/></a>"
      ]
    },
    {
      "cell_type": "markdown",
      "source": [
        "What is \"Pickle\" in Python? Well, pickle is a module that allows us to serialise and deserialise objects in Python. So that we can save some more complex/ custom data types such as instances from our classes!\n",
        "\n",
        "Pickling also known as  -\n",
        "\n",
        "Sterlization\n",
        "marshalling\n",
        "flattening"
      ],
      "metadata": {
        "id": "-NfNb5BImaTB"
      }
    },
    {
      "cell_type": "markdown",
      "source": [
        "Pickling - where a python object hierarchy is converted into a byte stream ;\n",
        "Unpickling - byte stream converted into a object hierarchy"
      ],
      "metadata": {
        "id": "HZcBS4Yuveri"
      }
    },
    {
      "cell_type": "code",
      "source": [
        "import pickle\n",
        "import json"
      ],
      "metadata": {
        "id": "LgDNWrRdmc-X"
      },
      "execution_count": 5,
      "outputs": []
    },
    {
      "cell_type": "code",
      "source": [
        "#pickling\n",
        "l1 = ['equivalue','python','course']\n",
        "\n",
        "with open('file.txt','wb') as f:\n",
        "  pickle.dump(l1,f)"
      ],
      "metadata": {
        "id": "5cNR4lcBwps0"
      },
      "execution_count": 7,
      "outputs": []
    },
    {
      "cell_type": "code",
      "source": [
        "#unpickling\n",
        "\n",
        "unpic = open('file.txt','rb')\n",
        "m =pickle.load(unpic)\n",
        "print(m)"
      ],
      "metadata": {
        "colab": {
          "base_uri": "https://localhost:8080/"
        },
        "id": "XOaqI7bUxlsl",
        "outputId": "3bc973a5-8334-428a-8f97-510ea23dba38"
      },
      "execution_count": 8,
      "outputs": [
        {
          "output_type": "stream",
          "name": "stdout",
          "text": [
            "['equivalue', 'python', 'course']\n"
          ]
        }
      ]
    }
  ]
}