{
 "cells": [
  {
   "cell_type": "code",
   "execution_count": 2,
   "id": "25002a9b",
   "metadata": {},
   "outputs": [],
   "source": [
    "def add(x,y):\n",
    "    return x + y"
   ]
  },
  {
   "cell_type": "code",
   "execution_count": 3,
   "id": "f84ba156",
   "metadata": {},
   "outputs": [],
   "source": [
    "def subtract(x,y):\n",
    "    return x - y"
   ]
  },
  {
   "cell_type": "code",
   "execution_count": 4,
   "id": "b84a0039",
   "metadata": {},
   "outputs": [],
   "source": [
    "def multiply(x,y):\n",
    "    return x * y"
   ]
  },
  {
   "cell_type": "code",
   "execution_count": 5,
   "id": "39e28eed",
   "metadata": {},
   "outputs": [],
   "source": [
    "def divide(x,y):\n",
    "    return x / y"
   ]
  },
  {
   "cell_type": "code",
   "execution_count": 6,
   "id": "649eaacc",
   "metadata": {},
   "outputs": [
    {
     "name": "stdout",
     "output_type": "stream",
     "text": [
      "Select operation\n",
      "1.add\n",
      "2.subtract\n",
      "3.multiply\n",
      "4.Divide\n"
     ]
    }
   ],
   "source": [
    "print(\"Select operation\")\n",
    "print(\"1.add\")\n",
    "print(\"2.subtract\")\n",
    "print(\"3.multiply\")\n",
    "print(\"4.Divide\")"
   ]
  },
  {
   "cell_type": "code",
   "execution_count": 7,
   "id": "9503c163",
   "metadata": {},
   "outputs": [
    {
     "name": "stdout",
     "output_type": "stream",
     "text": [
      "enter choice(1/2/3/4)2\n",
      "enter first number5\n",
      "enter second number3\n",
      "5.0 - 3.0 = 2.0\n",
      "let's do next calculation? (yes/no):no\n"
     ]
    }
   ],
   "source": [
    "while True:\n",
    "    choice = input(\"enter choice(1/2/3/4)\")\n",
    "    if choice in ('1','2','3','4'):\n",
    "        try:\n",
    "            num1 = float(input(\"enter first number\"))\n",
    "            num2 = float(input(\"enter second number\"))\n",
    "        except ValueError:\n",
    "            print(\"invalid input. please enter a number\")\n",
    "            continue\n",
    "        \n",
    "        if choice == '1':\n",
    "            print(num1, \"+\", num2, \"=\", add(num1,num2))\n",
    "            \n",
    "        elif choice == '2':\n",
    "            print(num1, \"-\", num2, \"=\", subtract(num1,num2))\n",
    "            \n",
    "        elif choice == '3':\n",
    "            print(num1, \"*\",  num2, \"=\", multiply(num1,num2))\n",
    "            \n",
    "        elif choice == '4':\n",
    "            print(num1, \"/\", num2, \"=\", divide(num1,num2))\n",
    "            \n",
    "        next_calculation = input(\"let's do next calculation? (yes/no):\")\n",
    "        \n",
    "        if next_calculation == \"no\":\n",
    "            break\n",
    "            \n",
    "    else:\n",
    "        print(\"invalid input\")\n",
    "        \n",
    "            "
   ]
  },
  {
   "cell_type": "code",
   "execution_count": null,
   "id": "9ebd70bc",
   "metadata": {},
   "outputs": [],
   "source": []
  }
 ],
 "metadata": {
  "kernelspec": {
   "display_name": "Python 3 (ipykernel)",
   "language": "python",
   "name": "python3"
  },
  "language_info": {
   "codemirror_mode": {
    "name": "ipython",
    "version": 3
   },
   "file_extension": ".py",
   "mimetype": "text/x-python",
   "name": "python",
   "nbconvert_exporter": "python",
   "pygments_lexer": "ipython3",
   "version": "3.11.4"
  }
 },
 "nbformat": 4,
 "nbformat_minor": 5
}
