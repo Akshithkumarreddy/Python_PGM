{
 "cells": [
  {
   "cell_type": "code",
   "execution_count": null,
   "id": "e50972da",
   "metadata": {},
   "outputs": [],
   "source": [
    "#MACHINE LEARNING\n",
    "\n",
    "#Machine Learning is making the computer learn from studying data and statistics.\n",
    "\n",
    "#Machine Learning is a step into the direction of artificial intelligence (AI).\n",
    "\n",
    "#Machine Learning is a program that analyses data and learns to predict the outcome."
   ]
  },
  {
   "cell_type": "code",
   "execution_count": null,
   "id": "58f3806c",
   "metadata": {},
   "outputs": [],
   "source": [
    "#DATA TYPES\n",
    "\n",
    "#To analyze data, it is important to know what type of data we are dealing with.\n",
    "\n",
    "#We can split the data types into three main categories:\n",
    "\n",
    "#Numerical\n",
    "#Categorical\n",
    "#Ordinal\n",
    "\n",
    "#Numerical data are numbers, and can be split into two numerical categories:\n",
    "\n",
    "#Discrete Data\n",
    "#- numbers that are limited to integers. Example: The number of cars passing by.\n",
    "#Continuous Data\n",
    "#- numbers that are of infinite value. Example: The price of an item, or the size of an item\n",
    "\n",
    "#Categorical data are values that cannot be measured up against each other. \n",
    "#Example: a color value, or any yes/no values.\n",
    "\n",
    "#Ordinal data are like categorical data, but can be measured up against each other. \n",
    "#Example: school grades where A is better than B and so on.\n"
   ]
  },
  {
   "cell_type": "code",
   "execution_count": 8,
   "id": "f4dfd189",
   "metadata": {},
   "outputs": [
    {
     "name": "stdout",
     "output_type": "stream",
     "text": [
      "30.083333333333332\n",
      "23.0\n",
      "ModeResult(mode=array([67]), count=array([3]))\n"
     ]
    },
    {
     "name": "stderr",
     "output_type": "stream",
     "text": [
      "/var/folders/4g/ys49ydw11ll7ct7cfl3d_m7r0000gn/T/ipykernel_2650/531399959.py:14: FutureWarning: Unlike other reduction functions (e.g. `skew`, `kurtosis`), the default behavior of `mode` typically preserves the axis it acts along. In SciPy 1.11.0, this behavior will change: the default value of `keepdims` will become False, the `axis` over which the statistic is taken will be eliminated, and the value None will no longer be accepted. Set `keepdims` to True or False to avoid this warning.\n",
      "  w = stats.mode(x)\n"
     ]
    }
   ],
   "source": [
    "#MEAN MEDIAN MODE\n",
    "\n",
    "#MEAN - AVERAGE VALUE\n",
    "#MEDIAN - MID VALUE\n",
    "#MODE - MOST COMMON VALUE\n",
    "\n",
    "x = [1,67,55,5,67,3,1,5,67,44,12,34]\n",
    "\n",
    "import numpy as np\n",
    "from scipy import stats\n",
    "\n",
    "y = np.mean(x)\n",
    "z = np.median(x)\n",
    "w = stats.mode(x)\n",
    "print(y)\n",
    "print(z)\n",
    "print(w)"
   ]
  },
  {
   "cell_type": "code",
   "execution_count": 9,
   "id": "06feb053",
   "metadata": {},
   "outputs": [
    {
     "name": "stdout",
     "output_type": "stream",
     "text": [
      "27.27776363430274\n"
     ]
    }
   ],
   "source": [
    "#What is Standard Deviation?\n",
    "\n",
    "#Standard deviation is a number that describes how spread out the values are.\n",
    "\n",
    "#A low standard deviation means that most of the numbers are close to the mean (average) value.\n",
    "\n",
    "#A high standard deviation means that the values are spread out over a wider range.\n",
    "#Standard Deviation is often represented by the symbol Sigma: σ\n",
    "\n",
    "import numpy as np\n",
    "\n",
    "x = [1,67,55,5,67,3,1,5,67,44,12,34]\n",
    "\n",
    "y = np.std(x)\n",
    "print(y)"
   ]
  },
  {
   "cell_type": "code",
   "execution_count": null,
   "id": "60454464",
   "metadata": {},
   "outputs": [],
   "source": [
    "#Variance\n",
    "#Variance is another number that indicates how spread out the values are.\n",
    "#if you take the square root of the variance, you get the standard deviation\n",
    "#the other way around, if you multiply the standard deviation by itself, you get the variance!\n",
    "#Variance is often represented by the symbol Sigma Squared: σ2\n",
    "#To calculate the variance you have to do as follows:\n",
    "\n",
    "1. Find the mean\n",
    "2. For each value: find the difference from the mean\n",
    "3. For each difference: find the square value\n",
    "4. The variance is the average number of these squared differences"
   ]
  },
  {
   "cell_type": "code",
   "execution_count": 10,
   "id": "d7bba713",
   "metadata": {},
   "outputs": [
    {
     "name": "stdout",
     "output_type": "stream",
     "text": [
      "744.076388888889\n"
     ]
    }
   ],
   "source": [
    "import numpy as np\n",
    "\n",
    "x = [1,67,55,5,67,3,1,5,67,44,12,34]\n",
    "\n",
    "y = np.var(x)\n",
    "print(y)"
   ]
  },
  {
   "cell_type": "code",
   "execution_count": 11,
   "id": "5ed545c9",
   "metadata": {},
   "outputs": [
    {
     "name": "stdout",
     "output_type": "stream",
     "text": [
      "43.0\n"
     ]
    }
   ],
   "source": [
    "#What are Percentiles?\n",
    "#Percentiles are used in statistics to give you a number that describes the value that a given percent\n",
    "#of the values are lower than.\n",
    "\n",
    "import numpy\n",
    "\n",
    "ages = [5,31,43,48,50,41,7,11,15,39,80,82,32,2,8,6,25,36,27,61,31]\n",
    "\n",
    "x = numpy.percentile(ages, 75)\n",
    "\n",
    "print(x)"
   ]
  },
  {
   "cell_type": "code",
   "execution_count": 12,
   "id": "12cb3735",
   "metadata": {},
   "outputs": [
    {
     "name": "stdout",
     "output_type": "stream",
     "text": [
      "61.0\n"
     ]
    }
   ],
   "source": [
    "import numpy\n",
    "\n",
    "ages = [5,31,43,48,50,41,7,11,15,39,80,82,32,2,8,6,25,36,27,61,31]\n",
    "\n",
    "x = numpy.percentile(ages, 90)\n",
    "\n",
    "print(x)"
   ]
  },
  {
   "cell_type": "code",
   "execution_count": null,
   "id": "aba7a9bb",
   "metadata": {},
   "outputs": [],
   "source": []
  }
 ],
 "metadata": {
  "kernelspec": {
   "display_name": "Python 3 (ipykernel)",
   "language": "python",
   "name": "python3"
  },
  "language_info": {
   "codemirror_mode": {
    "name": "ipython",
    "version": 3
   },
   "file_extension": ".py",
   "mimetype": "text/x-python",
   "name": "python",
   "nbconvert_exporter": "python",
   "pygments_lexer": "ipython3",
   "version": "3.11.4"
  }
 },
 "nbformat": 4,
 "nbformat_minor": 5
}
